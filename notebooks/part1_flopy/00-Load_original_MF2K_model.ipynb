{
 "cells": [
  {
   "cell_type": "code",
   "execution_count": 1,
   "metadata": {},
   "outputs": [],
   "source": [
    "import numpy as np\n",
    "import matplotlib.pyplot as plt\n",
    "import flopy\n",
    "from flopy.plot import styles"
   ]
  },
  {
   "cell_type": "code",
   "execution_count": 13,
   "metadata": {},
   "outputs": [],
   "source": [
    "import os"
   ]
  },
  {
   "cell_type": "code",
   "execution_count": 4,
   "metadata": {},
   "outputs": [],
   "source": [
    "ws = \"./data/mumodel_orig\"\n",
    "name = \"7-2b.nam\"\n",
    "exe_name = \"mf2k5\""
   ]
  },
  {
   "cell_type": "code",
   "execution_count": 5,
   "metadata": {},
   "outputs": [],
   "source": [
    "m = flopy.modflow.Modflow.load(name, model_ws=ws)"
   ]
  },
  {
   "cell_type": "code",
   "execution_count": 7,
   "metadata": {},
   "outputs": [
    {
     "data": {
      "text/plain": [
       "['DIS', 'BAS6', 'LPF', 'WEL', 'RCH', 'OC', 'PCG']"
      ]
     },
     "execution_count": 7,
     "metadata": {},
     "output_type": "execute_result"
    }
   ],
   "source": [
    "m.get_package_list()"
   ]
  },
  {
   "cell_type": "code",
   "execution_count": 8,
   "metadata": {},
   "outputs": [],
   "source": [
    "m.model_ws = \"./data/mumodel_mf2k5\""
   ]
  },
  {
   "cell_type": "code",
   "execution_count": 9,
   "metadata": {},
   "outputs": [],
   "source": [
    "m.external_path = \".\""
   ]
  },
  {
   "cell_type": "code",
   "execution_count": 28,
   "metadata": {},
   "outputs": [],
   "source": [
    "m.write_name_file()"
   ]
  },
  {
   "cell_type": "code",
   "execution_count": 10,
   "metadata": {
    "scrolled": true
   },
   "outputs": [
    {
     "name": "stdout",
     "output_type": "stream",
     "text": [
      "Util2d:delr: resetting 'how' to external\n",
      "Util2d:delc: resetting 'how' to external\n",
      "Util2d:model_top: resetting 'how' to external\n",
      "Util2d:botm_layer_0: resetting 'how' to external\n",
      "Util2d:ibound_layer_0: resetting 'how' to external\n",
      "Util2d:strt_layer_0: resetting 'how' to external\n",
      "Util2d:hk: resetting 'how' to external\n",
      "Util2d:vk: resetting 'how' to external\n",
      "Util2d:ss: resetting 'how' to external\n",
      "Util2d:sy: resetting 'how' to external\n",
      "Util2d:rech_1: resetting 'how' to external\n",
      "Util2d:rech_2: resetting 'how' to external\n",
      "Util2d:rech_3: resetting 'how' to external\n",
      "Util2d:rech_4: resetting 'how' to external\n",
      "Util2d:rech_5: resetting 'how' to external\n",
      "Util2d:rech_6: resetting 'how' to external\n",
      "Util2d:rech_7: resetting 'how' to external\n",
      "Util2d:rech_8: resetting 'how' to external\n",
      "Util2d:rech_9: resetting 'how' to external\n",
      "Util2d:rech_10: resetting 'how' to external\n",
      "Util2d:rech_11: resetting 'how' to external\n",
      "Util2d:rech_12: resetting 'how' to external\n",
      "Util2d:rech_13: resetting 'how' to external\n",
      "Util2d:rech_14: resetting 'how' to external\n",
      "Util2d:rech_15: resetting 'how' to external\n",
      "Util2d:rech_16: resetting 'how' to external\n",
      "Util2d:rech_17: resetting 'how' to external\n",
      "Util2d:rech_18: resetting 'how' to external\n",
      "Util2d:rech_19: resetting 'how' to external\n",
      "Util2d:rech_20: resetting 'how' to external\n",
      "Util2d:rech_21: resetting 'how' to external\n",
      "Util2d:rech_22: resetting 'how' to external\n",
      "Util2d:rech_23: resetting 'how' to external\n",
      "Util2d:rech_24: resetting 'how' to external\n",
      "Util2d:rech_25: resetting 'how' to external\n"
     ]
    }
   ],
   "source": [
    "m.write_input()"
   ]
  },
  {
   "cell_type": "code",
   "execution_count": 23,
   "metadata": {},
   "outputs": [],
   "source": [
    "m.exe_name = os.path.join(m.model_ws, \"mf2005.exe\")"
   ]
  },
  {
   "cell_type": "code",
   "execution_count": 29,
   "metadata": {},
   "outputs": [
    {
     "name": "stdout",
     "output_type": "stream",
     "text": [
      "FloPy is using the following executable to run the model: mf2005.exe\n",
      "\n",
      "                                  MODFLOW-2005     \n",
      "    U.S. GEOLOGICAL SURVEY MODULAR FINITE-DIFFERENCE GROUND-WATER FLOW MODEL\n",
      "                             Version 1.12.00 2/3/2017                        \n",
      "\n",
      " Using NAME file: 7-2b.nam \n",
      " Run start date and time (yyyy/mm/dd hh:mm:ss): 2024/01/30 15:36:57\n",
      "\n",
      " Solving:  Stress period:     1    Time step:     1    Ground-Water Flow Eqn.\n",
      " Solving:  Stress period:     2    Time step:     1    Ground-Water Flow Eqn.\n",
      " Solving:  Stress period:     2    Time step:     2    Ground-Water Flow Eqn.\n",
      " Solving:  Stress period:     2    Time step:     3    Ground-Water Flow Eqn.\n",
      " Solving:  Stress period:     2    Time step:     4    Ground-Water Flow Eqn.\n",
      " Solving:  Stress period:     2    Time step:     5    Ground-Water Flow Eqn.\n",
      " Solving:  Stress period:     2    Time step:     6    Ground-Water Flow Eqn.\n",
      " Solving:  Stress period:     2    Time step:     7    Ground-Water Flow Eqn.\n",
      " Solving:  Stress period:     2    Time step:     8    Ground-Water Flow Eqn.\n",
      " Solving:  Stress period:     3    Time step:     1    Ground-Water Flow Eqn.\n",
      " Solving:  Stress period:     3    Time step:     2    Ground-Water Flow Eqn.\n",
      " Solving:  Stress period:     3    Time step:     3    Ground-Water Flow Eqn.\n",
      " Solving:  Stress period:     3    Time step:     4    Ground-Water Flow Eqn.\n",
      " Solving:  Stress period:     3    Time step:     5    Ground-Water Flow Eqn.\n",
      " Solving:  Stress period:     3    Time step:     6    Ground-Water Flow Eqn.\n",
      " Solving:  Stress period:     3    Time step:     7    Ground-Water Flow Eqn.\n",
      " Solving:  Stress period:     3    Time step:     8    Ground-Water Flow Eqn.\n",
      " Solving:  Stress period:     4    Time step:     1    Ground-Water Flow Eqn.\n",
      " Solving:  Stress period:     4    Time step:     2    Ground-Water Flow Eqn.\n",
      " Solving:  Stress period:     4    Time step:     3    Ground-Water Flow Eqn.\n",
      " Solving:  Stress period:     4    Time step:     4    Ground-Water Flow Eqn.\n",
      " Solving:  Stress period:     4    Time step:     5    Ground-Water Flow Eqn.\n",
      " Solving:  Stress period:     4    Time step:     6    Ground-Water Flow Eqn.\n",
      " Solving:  Stress period:     4    Time step:     7    Ground-Water Flow Eqn.\n",
      " Solving:  Stress period:     4    Time step:     8    Ground-Water Flow Eqn.\n",
      " Solving:  Stress period:     5    Time step:     1    Ground-Water Flow Eqn.\n",
      " Solving:  Stress period:     5    Time step:     2    Ground-Water Flow Eqn.\n",
      " Solving:  Stress period:     5    Time step:     3    Ground-Water Flow Eqn.\n",
      " Solving:  Stress period:     5    Time step:     4    Ground-Water Flow Eqn.\n",
      " Solving:  Stress period:     5    Time step:     5    Ground-Water Flow Eqn.\n",
      " Solving:  Stress period:     5    Time step:     6    Ground-Water Flow Eqn.\n",
      " Solving:  Stress period:     5    Time step:     7    Ground-Water Flow Eqn.\n",
      " Solving:  Stress period:     5    Time step:     8    Ground-Water Flow Eqn.\n",
      " Solving:  Stress period:     6    Time step:     1    Ground-Water Flow Eqn.\n",
      " Solving:  Stress period:     6    Time step:     2    Ground-Water Flow Eqn.\n",
      " Solving:  Stress period:     6    Time step:     3    Ground-Water Flow Eqn.\n",
      " Solving:  Stress period:     6    Time step:     4    Ground-Water Flow Eqn.\n",
      " Solving:  Stress period:     6    Time step:     5    Ground-Water Flow Eqn.\n",
      " Solving:  Stress period:     6    Time step:     6    Ground-Water Flow Eqn.\n",
      " Solving:  Stress period:     6    Time step:     7    Ground-Water Flow Eqn.\n",
      " Solving:  Stress period:     6    Time step:     8    Ground-Water Flow Eqn.\n",
      " Solving:  Stress period:     7    Time step:     1    Ground-Water Flow Eqn.\n",
      " Solving:  Stress period:     7    Time step:     2    Ground-Water Flow Eqn.\n",
      " Solving:  Stress period:     7    Time step:     3    Ground-Water Flow Eqn.\n",
      " Solving:  Stress period:     7    Time step:     4    Ground-Water Flow Eqn.\n",
      " Solving:  Stress period:     7    Time step:     5    Ground-Water Flow Eqn.\n",
      " Solving:  Stress period:     7    Time step:     6    Ground-Water Flow Eqn.\n",
      " Solving:  Stress period:     7    Time step:     7    Ground-Water Flow Eqn.\n",
      " Solving:  Stress period:     7    Time step:     8    Ground-Water Flow Eqn.\n",
      " Solving:  Stress period:     8    Time step:     1    Ground-Water Flow Eqn.\n",
      " Solving:  Stress period:     8    Time step:     2    Ground-Water Flow Eqn.\n",
      " Solving:  Stress period:     8    Time step:     3    Ground-Water Flow Eqn.\n",
      " Solving:  Stress period:     8    Time step:     4    Ground-Water Flow Eqn.\n",
      " Solving:  Stress period:     8    Time step:     5    Ground-Water Flow Eqn.\n",
      " Solving:  Stress period:     8    Time step:     6    Ground-Water Flow Eqn.\n",
      " Solving:  Stress period:     8    Time step:     7    Ground-Water Flow Eqn.\n",
      " Solving:  Stress period:     8    Time step:     8    Ground-Water Flow Eqn.\n",
      " Solving:  Stress period:     9    Time step:     1    Ground-Water Flow Eqn.\n",
      " Solving:  Stress period:     9    Time step:     2    Ground-Water Flow Eqn.\n",
      " Solving:  Stress period:     9    Time step:     3    Ground-Water Flow Eqn.\n",
      " Solving:  Stress period:     9    Time step:     4    Ground-Water Flow Eqn.\n",
      " Solving:  Stress period:     9    Time step:     5    Ground-Water Flow Eqn.\n",
      " Solving:  Stress period:     9    Time step:     6    Ground-Water Flow Eqn.\n",
      " Solving:  Stress period:     9    Time step:     7    Ground-Water Flow Eqn.\n",
      " Solving:  Stress period:     9    Time step:     8    Ground-Water Flow Eqn.\n",
      " Solving:  Stress period:    10    Time step:     1    Ground-Water Flow Eqn.\n",
      " Solving:  Stress period:    10    Time step:     2    Ground-Water Flow Eqn.\n",
      " Solving:  Stress period:    10    Time step:     3    Ground-Water Flow Eqn.\n",
      " Solving:  Stress period:    10    Time step:     4    Ground-Water Flow Eqn.\n",
      " Solving:  Stress period:    10    Time step:     5    Ground-Water Flow Eqn.\n",
      " Solving:  Stress period:    10    Time step:     6    Ground-Water Flow Eqn.\n",
      " Solving:  Stress period:    10    Time step:     7    Ground-Water Flow Eqn.\n",
      " Solving:  Stress period:    10    Time step:     8    Ground-Water Flow Eqn.\n",
      " Solving:  Stress period:    11    Time step:     1    Ground-Water Flow Eqn.\n",
      " Solving:  Stress period:    11    Time step:     2    Ground-Water Flow Eqn.\n",
      " Solving:  Stress period:    11    Time step:     3    Ground-Water Flow Eqn.\n",
      " Solving:  Stress period:    11    Time step:     4    Ground-Water Flow Eqn.\n",
      " Solving:  Stress period:    11    Time step:     5    Ground-Water Flow Eqn.\n",
      " Solving:  Stress period:    11    Time step:     6    Ground-Water Flow Eqn.\n",
      " Solving:  Stress period:    11    Time step:     7    Ground-Water Flow Eqn.\n",
      " Solving:  Stress period:    11    Time step:     8    Ground-Water Flow Eqn.\n",
      " Solving:  Stress period:    12    Time step:     1    Ground-Water Flow Eqn.\n",
      " Solving:  Stress period:    12    Time step:     2    Ground-Water Flow Eqn.\n",
      " Solving:  Stress period:    12    Time step:     3    Ground-Water Flow Eqn.\n",
      " Solving:  Stress period:    12    Time step:     4    Ground-Water Flow Eqn.\n",
      " Solving:  Stress period:    12    Time step:     5    Ground-Water Flow Eqn.\n",
      " Solving:  Stress period:    12    Time step:     6    Ground-Water Flow Eqn.\n",
      " Solving:  Stress period:    12    Time step:     7    Ground-Water Flow Eqn.\n",
      " Solving:  Stress period:    12    Time step:     8    Ground-Water Flow Eqn.\n",
      " Solving:  Stress period:    13    Time step:     1    Ground-Water Flow Eqn.\n",
      " Solving:  Stress period:    13    Time step:     2    Ground-Water Flow Eqn.\n",
      " Solving:  Stress period:    13    Time step:     3    Ground-Water Flow Eqn.\n",
      " Solving:  Stress period:    13    Time step:     4    Ground-Water Flow Eqn.\n",
      " Solving:  Stress period:    13    Time step:     5    Ground-Water Flow Eqn.\n",
      " Solving:  Stress period:    13    Time step:     6    Ground-Water Flow Eqn.\n",
      " Solving:  Stress period:    13    Time step:     7    Ground-Water Flow Eqn.\n",
      " Solving:  Stress period:    13    Time step:     8    Ground-Water Flow Eqn.\n",
      " Solving:  Stress period:    14    Time step:     1    Ground-Water Flow Eqn.\n",
      " Solving:  Stress period:    14    Time step:     2    Ground-Water Flow Eqn.\n",
      " Solving:  Stress period:    14    Time step:     3    Ground-Water Flow Eqn.\n",
      " Solving:  Stress period:    14    Time step:     4    Ground-Water Flow Eqn.\n",
      " Solving:  Stress period:    14    Time step:     5    Ground-Water Flow Eqn.\n",
      " Solving:  Stress period:    14    Time step:     6    Ground-Water Flow Eqn.\n",
      " Solving:  Stress period:    14    Time step:     7    Ground-Water Flow Eqn.\n",
      " Solving:  Stress period:    14    Time step:     8    Ground-Water Flow Eqn.\n",
      " Solving:  Stress period:    15    Time step:     1    Ground-Water Flow Eqn.\n",
      " Solving:  Stress period:    15    Time step:     2    Ground-Water Flow Eqn.\n",
      " Solving:  Stress period:    15    Time step:     3    Ground-Water Flow Eqn.\n",
      " Solving:  Stress period:    15    Time step:     4    Ground-Water Flow Eqn.\n",
      " Solving:  Stress period:    15    Time step:     5    Ground-Water Flow Eqn.\n",
      " Solving:  Stress period:    15    Time step:     6    Ground-Water Flow Eqn.\n",
      " Solving:  Stress period:    15    Time step:     7    Ground-Water Flow Eqn.\n",
      " Solving:  Stress period:    15    Time step:     8    Ground-Water Flow Eqn.\n",
      " Solving:  Stress period:    16    Time step:     1    Ground-Water Flow Eqn.\n",
      " Solving:  Stress period:    16    Time step:     2    Ground-Water Flow Eqn.\n",
      " Solving:  Stress period:    16    Time step:     3    Ground-Water Flow Eqn.\n",
      " Solving:  Stress period:    16    Time step:     4    Ground-Water Flow Eqn.\n",
      " Solving:  Stress period:    16    Time step:     5    Ground-Water Flow Eqn.\n",
      " Solving:  Stress period:    16    Time step:     6    Ground-Water Flow Eqn.\n",
      " Solving:  Stress period:    16    Time step:     7    Ground-Water Flow Eqn.\n",
      " Solving:  Stress period:    16    Time step:     8    Ground-Water Flow Eqn.\n",
      " Solving:  Stress period:    17    Time step:     1    Ground-Water Flow Eqn.\n",
      " Solving:  Stress period:    17    Time step:     2    Ground-Water Flow Eqn.\n",
      " Solving:  Stress period:    17    Time step:     3    Ground-Water Flow Eqn.\n",
      " Solving:  Stress period:    17    Time step:     4    Ground-Water Flow Eqn.\n",
      " Solving:  Stress period:    17    Time step:     5    Ground-Water Flow Eqn.\n",
      " Solving:  Stress period:    17    Time step:     6    Ground-Water Flow Eqn.\n",
      " Solving:  Stress period:    17    Time step:     7    Ground-Water Flow Eqn.\n",
      " Solving:  Stress period:    17    Time step:     8    Ground-Water Flow Eqn.\n",
      " Solving:  Stress period:    18    Time step:     1    Ground-Water Flow Eqn.\n",
      " Solving:  Stress period:    18    Time step:     2    Ground-Water Flow Eqn.\n",
      " Solving:  Stress period:    18    Time step:     3    Ground-Water Flow Eqn.\n",
      " Solving:  Stress period:    18    Time step:     4    Ground-Water Flow Eqn.\n",
      " Solving:  Stress period:    18    Time step:     5    Ground-Water Flow Eqn.\n",
      " Solving:  Stress period:    18    Time step:     6    Ground-Water Flow Eqn.\n",
      " Solving:  Stress period:    18    Time step:     7    Ground-Water Flow Eqn.\n",
      " Solving:  Stress period:    18    Time step:     8    Ground-Water Flow Eqn.\n",
      " Solving:  Stress period:    19    Time step:     1    Ground-Water Flow Eqn.\n",
      " Solving:  Stress period:    19    Time step:     2    Ground-Water Flow Eqn.\n",
      " Solving:  Stress period:    19    Time step:     3    Ground-Water Flow Eqn.\n",
      " Solving:  Stress period:    19    Time step:     4    Ground-Water Flow Eqn.\n",
      " Solving:  Stress period:    19    Time step:     5    Ground-Water Flow Eqn.\n",
      " Solving:  Stress period:    19    Time step:     6    Ground-Water Flow Eqn.\n",
      " Solving:  Stress period:    19    Time step:     7    Ground-Water Flow Eqn.\n",
      " Solving:  Stress period:    19    Time step:     8    Ground-Water Flow Eqn.\n",
      " Solving:  Stress period:    20    Time step:     1    Ground-Water Flow Eqn.\n",
      " Solving:  Stress period:    20    Time step:     2    Ground-Water Flow Eqn.\n",
      " Solving:  Stress period:    20    Time step:     3    Ground-Water Flow Eqn.\n",
      " Solving:  Stress period:    20    Time step:     4    Ground-Water Flow Eqn.\n",
      " Solving:  Stress period:    20    Time step:     5    Ground-Water Flow Eqn.\n",
      " Solving:  Stress period:    20    Time step:     6    Ground-Water Flow Eqn.\n",
      " Solving:  Stress period:    20    Time step:     7    Ground-Water Flow Eqn.\n",
      " Solving:  Stress period:    20    Time step:     8    Ground-Water Flow Eqn.\n",
      " Solving:  Stress period:    21    Time step:     1    Ground-Water Flow Eqn.\n",
      " Solving:  Stress period:    21    Time step:     2    Ground-Water Flow Eqn.\n",
      " Solving:  Stress period:    21    Time step:     3    Ground-Water Flow Eqn.\n",
      " Solving:  Stress period:    21    Time step:     4    Ground-Water Flow Eqn.\n",
      " Solving:  Stress period:    21    Time step:     5    Ground-Water Flow Eqn.\n",
      " Solving:  Stress period:    21    Time step:     6    Ground-Water Flow Eqn.\n",
      " Solving:  Stress period:    21    Time step:     7    Ground-Water Flow Eqn.\n",
      " Solving:  Stress period:    21    Time step:     8    Ground-Water Flow Eqn.\n",
      " Solving:  Stress period:    22    Time step:     1    Ground-Water Flow Eqn.\n",
      " Solving:  Stress period:    22    Time step:     2    Ground-Water Flow Eqn.\n",
      " Solving:  Stress period:    22    Time step:     3    Ground-Water Flow Eqn.\n",
      " Solving:  Stress period:    22    Time step:     4    Ground-Water Flow Eqn.\n",
      " Solving:  Stress period:    22    Time step:     5    Ground-Water Flow Eqn.\n",
      " Solving:  Stress period:    22    Time step:     6    Ground-Water Flow Eqn.\n",
      " Solving:  Stress period:    22    Time step:     7    Ground-Water Flow Eqn.\n",
      " Solving:  Stress period:    22    Time step:     8    Ground-Water Flow Eqn.\n",
      " Solving:  Stress period:    23    Time step:     1    Ground-Water Flow Eqn.\n",
      " Solving:  Stress period:    23    Time step:     2    Ground-Water Flow Eqn.\n",
      " Solving:  Stress period:    23    Time step:     3    Ground-Water Flow Eqn.\n",
      " Solving:  Stress period:    23    Time step:     4    Ground-Water Flow Eqn.\n",
      " Solving:  Stress period:    23    Time step:     5    Ground-Water Flow Eqn.\n",
      " Solving:  Stress period:    23    Time step:     6    Ground-Water Flow Eqn.\n",
      " Solving:  Stress period:    23    Time step:     7    Ground-Water Flow Eqn.\n",
      " Solving:  Stress period:    23    Time step:     8    Ground-Water Flow Eqn.\n",
      " Solving:  Stress period:    24    Time step:     1    Ground-Water Flow Eqn.\n",
      " Solving:  Stress period:    24    Time step:     2    Ground-Water Flow Eqn.\n",
      " Solving:  Stress period:    24    Time step:     3    Ground-Water Flow Eqn.\n",
      " Solving:  Stress period:    24    Time step:     4    Ground-Water Flow Eqn.\n",
      " Solving:  Stress period:    24    Time step:     5    Ground-Water Flow Eqn.\n",
      " Solving:  Stress period:    24    Time step:     6    Ground-Water Flow Eqn.\n",
      " Solving:  Stress period:    24    Time step:     7    Ground-Water Flow Eqn.\n",
      " Solving:  Stress period:    24    Time step:     8    Ground-Water Flow Eqn.\n",
      " Solving:  Stress period:    25    Time step:     1    Ground-Water Flow Eqn.\n",
      " Solving:  Stress period:    25    Time step:     2    Ground-Water Flow Eqn.\n",
      " Solving:  Stress period:    25    Time step:     3    Ground-Water Flow Eqn.\n",
      " Solving:  Stress period:    25    Time step:     4    Ground-Water Flow Eqn.\n",
      " Solving:  Stress period:    25    Time step:     5    Ground-Water Flow Eqn.\n",
      " Solving:  Stress period:    25    Time step:     6    Ground-Water Flow Eqn.\n",
      " Solving:  Stress period:    25    Time step:     7    Ground-Water Flow Eqn.\n",
      " Solving:  Stress period:    25    Time step:     8    Ground-Water Flow Eqn.\n",
      " Run end date and time (yyyy/mm/dd hh:mm:ss): 2024/01/30 15:36:57\n",
      " Elapsed run time:  0.111 Seconds\n",
      "\n",
      "  Normal termination of simulation\n"
     ]
    },
    {
     "data": {
      "text/plain": [
       "(True, [])"
      ]
     },
     "execution_count": 29,
     "metadata": {},
     "output_type": "execute_result"
    }
   ],
   "source": [
    "m.run_model()"
   ]
  },
  {
   "cell_type": "code",
   "execution_count": 30,
   "metadata": {},
   "outputs": [],
   "source": [
    "hds = flopy.utils.HeadFile(os.path.join(m.model_ws, \"7-2b.hds\"))"
   ]
  },
  {
   "cell_type": "code",
   "execution_count": 33,
   "metadata": {},
   "outputs": [
    {
     "data": {
      "text/plain": [
       "[1.0,\n",
       " 2.8788917,\n",
       " 5.133562,\n",
       " 7.8391666,\n",
       " 11.085892,\n",
       " 14.981962,\n",
       " 19.657248,\n",
       " 25.26759,\n",
       " 32.0,\n",
       " 33.697063,\n",
       " 35.73354,\n",
       " 38.17731,\n",
       " 41.109837,\n",
       " 44.62887,\n",
       " 48.851704,\n",
       " 53.91911,\n",
       " 59.999996,\n",
       " 61.878887,\n",
       " 64.13356,\n",
       " 66.839165,\n",
       " 70.08589,\n",
       " 73.981964,\n",
       " 78.65725,\n",
       " 84.26759,\n",
       " 91.00001,\n",
       " 92.81829,\n",
       " 95.00023,\n",
       " 97.61855,\n",
       " 100.760544,\n",
       " 104.53094,\n",
       " 109.055405,\n",
       " 114.484764,\n",
       " 121.0,\n",
       " 122.87889,\n",
       " 125.13356,\n",
       " 127.839165,\n",
       " 131.08589,\n",
       " 134.98196,\n",
       " 139.65724,\n",
       " 145.26758,\n",
       " 151.99998,\n",
       " 153.81827,\n",
       " 156.00021,\n",
       " 158.61855,\n",
       " 161.76054,\n",
       " 165.53093,\n",
       " 170.0554,\n",
       " 175.48477,\n",
       " 182.0,\n",
       " 183.87889,\n",
       " 186.13356,\n",
       " 188.83916,\n",
       " 192.08588,\n",
       " 195.98195,\n",
       " 200.65723,\n",
       " 206.26756,\n",
       " 212.99997,\n",
       " 214.87886,\n",
       " 217.13353,\n",
       " 219.83913,\n",
       " 223.08585,\n",
       " 226.98192,\n",
       " 231.6572,\n",
       " 237.26753,\n",
       " 243.99994,\n",
       " 245.81822,\n",
       " 248.00017,\n",
       " 250.6185,\n",
       " 253.7605,\n",
       " 257.53088,\n",
       " 262.05536,\n",
       " 267.4847,\n",
       " 273.99994,\n",
       " 275.87885,\n",
       " 278.1335,\n",
       " 280.8391,\n",
       " 284.08585,\n",
       " 287.9819,\n",
       " 292.6572,\n",
       " 298.26755,\n",
       " 304.99997,\n",
       " 306.81824,\n",
       " 309.00018,\n",
       " 311.6185,\n",
       " 314.7605,\n",
       " 318.53088,\n",
       " 323.05536,\n",
       " 328.4847,\n",
       " 334.99994,\n",
       " 336.87885,\n",
       " 339.1335,\n",
       " 341.8391,\n",
       " 345.08585,\n",
       " 348.9819,\n",
       " 353.6572,\n",
       " 359.26755,\n",
       " 365.99997,\n",
       " 367.87888,\n",
       " 370.13354,\n",
       " 372.83914,\n",
       " 376.08588,\n",
       " 379.98193,\n",
       " 384.65723,\n",
       " 390.26758,\n",
       " 397.0,\n",
       " 398.69705,\n",
       " 400.73352,\n",
       " 403.1773,\n",
       " 406.10983,\n",
       " 409.62888,\n",
       " 413.8517,\n",
       " 418.91913,\n",
       " 425.0,\n",
       " 426.8789,\n",
       " 429.13358,\n",
       " 431.83917,\n",
       " 435.0859,\n",
       " 438.98196,\n",
       " 443.65726,\n",
       " 449.2676,\n",
       " 456.00003,\n",
       " 457.8183,\n",
       " 460.00024,\n",
       " 462.61856,\n",
       " 465.76056,\n",
       " 469.53094,\n",
       " 474.05542,\n",
       " 479.48477,\n",
       " 486.0,\n",
       " 487.8789,\n",
       " 490.13358,\n",
       " 492.83917,\n",
       " 496.0859,\n",
       " 499.98196,\n",
       " 504.65726,\n",
       " 510.2676,\n",
       " 517.0,\n",
       " 518.8183,\n",
       " 521.00024,\n",
       " 523.6186,\n",
       " 526.76056,\n",
       " 530.53094,\n",
       " 535.0554,\n",
       " 540.4848,\n",
       " 547.00006,\n",
       " 548.87897,\n",
       " 551.13367,\n",
       " 553.8393,\n",
       " 557.086,\n",
       " 560.98206,\n",
       " 565.65735,\n",
       " 571.2677,\n",
       " 578.0001,\n",
       " 579.879,\n",
       " 582.1337,\n",
       " 584.83936,\n",
       " 588.08606,\n",
       " 591.9821,\n",
       " 596.6574,\n",
       " 602.26776,\n",
       " 609.0002,\n",
       " 610.8185,\n",
       " 613.0004,\n",
       " 615.6188,\n",
       " 618.76074,\n",
       " 622.5311,\n",
       " 627.0556,\n",
       " 632.485,\n",
       " 639.00024,\n",
       " 640.87915,\n",
       " 643.13385,\n",
       " 645.8395,\n",
       " 649.0862,\n",
       " 652.98224,\n",
       " 657.65753,\n",
       " 663.2679,\n",
       " 670.0003,\n",
       " 671.8186,\n",
       " 674.00055,\n",
       " 676.6189,\n",
       " 679.76086,\n",
       " 683.53125,\n",
       " 688.0557,\n",
       " 693.4851,\n",
       " 700.00037,\n",
       " 701.8793,\n",
       " 704.134,\n",
       " 706.8396,\n",
       " 710.0863,\n",
       " 713.98236,\n",
       " 718.65765,\n",
       " 724.268,\n",
       " 731.0004]"
      ]
     },
     "execution_count": 33,
     "metadata": {},
     "output_type": "execute_result"
    }
   ],
   "source": [
    "hds.get_times()"
   ]
  },
  {
   "cell_type": "code",
   "execution_count": 34,
   "metadata": {},
   "outputs": [
    {
     "data": {
      "text/plain": [
       "(1, 21, 9)"
      ]
     },
     "execution_count": 34,
     "metadata": {},
     "output_type": "execute_result"
    }
   ],
   "source": [
    "hds.get_data().shape"
   ]
  },
  {
   "cell_type": "code",
   "execution_count": 35,
   "metadata": {},
   "outputs": [],
   "source": [
    "import matplotlib.pyplot as plt"
   ]
  },
  {
   "cell_type": "code",
   "execution_count": 36,
   "metadata": {},
   "outputs": [
    {
     "data": {
      "text/plain": [
       "<matplotlib.image.AxesImage at 0x1c6240781d0>"
      ]
     },
     "execution_count": 36,
     "metadata": {},
     "output_type": "execute_result"
    },
    {
     "data": {
      "image/png": "[encoded data removed]",
      "text/plain": [
       "<Figure size 640x480 with 1 Axes>"
      ]
     },
     "metadata": {},
     "output_type": "display_data"
    }
   ],
   "source": [
    "plt.imshow(hds.get_data()[0])"
   ]
  },
  {
   "cell_type": "code",
   "execution_count": null,
   "metadata": {},
   "outputs": [],
   "source": []
  },
  {
   "cell_type": "code",
   "execution_count": null,
   "metadata": {},
   "outputs": [],
   "source": [
    "# create simulation\n",
    "\n",
    "# create tdis package\n",
    "\n",
    "# create iterative model solution\n"
   ]
  },
  {
   "cell_type": "markdown",
   "metadata": {},
   "source": [
    "Create the gwf model object using `flopy.mf6.ModflowGwf()`. "
   ]
  },
  {
   "cell_type": "code",
   "execution_count": null,
   "metadata": {},
   "outputs": [],
   "source": []
  },
  {
   "cell_type": "markdown",
   "metadata": {},
   "source": [
    "Create the discretization package using `flopy.mf6.ModflowGwfdis()`."
   ]
  },
  {
   "cell_type": "code",
   "execution_count": null,
   "metadata": {},
   "outputs": [],
   "source": [
    "# dis data\n"
   ]
  },
  {
   "cell_type": "code",
   "execution_count": null,
   "metadata": {},
   "outputs": [],
   "source": []
  },
  {
   "cell_type": "markdown",
   "metadata": {},
   "source": [
    "`flopy.plot.PlotMapView()` and `flopy.plot.PlotCrossSection()` can be used to confirm that the discretization is correctly defined."
   ]
  },
  {
   "cell_type": "code",
   "execution_count": null,
   "metadata": {},
   "outputs": [],
   "source": []
  },
  {
   "cell_type": "code",
   "execution_count": null,
   "metadata": {},
   "outputs": [],
   "source": []
  },
  {
   "cell_type": "markdown",
   "metadata": {},
   "source": [
    "#### Create the initial conditions (IC) package\n",
    "\n",
    "Create the discretization package using `flopy.mf6.ModflowGwfic()` and set the initial head (`strt`) to 320. Default values can be used for the rest of the initial conditions package input."
   ]
  },
  {
   "cell_type": "code",
   "execution_count": null,
   "metadata": {},
   "outputs": [],
   "source": []
  },
  {
   "cell_type": "markdown",
   "metadata": {},
   "source": [
    "#### Create the node property flow (NPF) package\n",
    "\n",
    "The hydraulic properties for the model are defined in the image above. The first layer should be convertible (unconfined) and the remaining two layers will be non-convertible so `icelltype` should be `[1, 0, 0]`. The variable `save_specific_discharge` should be set to `True` so that specific discharge data are saved to the cell-by-cell file and can be used to plot discharge."
   ]
  },
  {
   "cell_type": "code",
   "execution_count": null,
   "metadata": {},
   "outputs": [],
   "source": [
    "# create kh, kv, and icelltype\n"
   ]
  },
  {
   "cell_type": "code",
   "execution_count": null,
   "metadata": {},
   "outputs": [],
   "source": []
  },
  {
   "cell_type": "markdown",
   "metadata": {},
   "source": [
    "#### Create the recharge package\n",
    "\n",
    "The recharge rate is defined in the image above. Use the `flopy.mf6.ModflowGwfrcha()` method to specify recharge data using arrays."
   ]
  },
  {
   "cell_type": "code",
   "execution_count": null,
   "metadata": {},
   "outputs": [],
   "source": []
  },
  {
   "cell_type": "markdown",
   "metadata": {},
   "source": [
    "#### Create the well package\n",
    "\n",
    "The well is located in layer 3, row 11, column 10. The pumping rate is defined in the image above."
   ]
  },
  {
   "cell_type": "code",
   "execution_count": null,
   "metadata": {},
   "outputs": [],
   "source": []
  },
  {
   "cell_type": "markdown",
   "metadata": {},
   "source": [
    "#### Create the river package\n",
    "\n",
    "The river is located in layer 1 and column 20 in every row in the model. The river stage stage and bottom are at 320 and 318, respectively; the river conductance is 1e5."
   ]
  },
  {
   "cell_type": "code",
   "execution_count": null,
   "metadata": {},
   "outputs": [],
   "source": []
  },
  {
   "cell_type": "code",
   "execution_count": null,
   "metadata": {},
   "outputs": [],
   "source": []
  },
  {
   "cell_type": "markdown",
   "metadata": {},
   "source": [
    "#### Build output control\n",
    "\n",
    "Define the output control for the model using the `flopy.mf6.ModflowGwfoc` method to `[('HEAD', 'ALL'), ('BUDGET', 'ALL')]` to save the head and flow for the model. Because we haven't set `SAVE_FLOWS` to `True` in all of the  packages we can set `.name_file.save_flows` to `True` for the groundwater flow model (`gwf`) to save flows for all packages that can save flows. Also the head (`head_filerecord`) and cell-by-cell flow (`budget_filerecord`) files should be set to `name+'.hds'` and `name+'.cbc'`, respectively."
   ]
  },
  {
   "cell_type": "code",
   "execution_count": null,
   "metadata": {},
   "outputs": [],
   "source": []
  },
  {
   "cell_type": "code",
   "execution_count": null,
   "metadata": {},
   "outputs": [],
   "source": []
  },
  {
   "cell_type": "markdown",
   "metadata": {},
   "source": [
    "#### Write the model files and run the model"
   ]
  },
  {
   "cell_type": "code",
   "execution_count": null,
   "metadata": {},
   "outputs": [],
   "source": []
  },
  {
   "cell_type": "markdown",
   "metadata": {},
   "source": [
    "#### Post-process the results\n",
    "\n",
    "Load the heads and face flows from the hds and cbc files. The head file can be loaded with the `gwf.output.head()` method. The cell-by-cell file can be loaded with the `gwf.output.budget()` method."
   ]
  },
  {
   "cell_type": "code",
   "execution_count": null,
   "metadata": {},
   "outputs": [],
   "source": []
  },
  {
   "cell_type": "code",
   "execution_count": null,
   "metadata": {},
   "outputs": [],
   "source": []
  },
  {
   "cell_type": "code",
   "execution_count": null,
   "metadata": {},
   "outputs": [],
   "source": []
  },
  {
   "cell_type": "markdown",
   "metadata": {},
   "source": [
    "The entries in the cell-by-cell file can be determined with the `.list_unique_records()` method on the cell budget file object."
   ]
  },
  {
   "cell_type": "code",
   "execution_count": null,
   "metadata": {},
   "outputs": [],
   "source": []
  },
  {
   "cell_type": "markdown",
   "metadata": {},
   "source": [
    "Retrieve the `'DATA-SPDIS'` data type from the cell-by-cell file."
   ]
  },
  {
   "cell_type": "code",
   "execution_count": null,
   "metadata": {},
   "outputs": [],
   "source": []
  },
  {
   "cell_type": "markdown",
   "metadata": {},
   "source": [
    "#### Plot the results\n",
    "\n",
    "Plot the results using `flopy.plot.PlotMapView()`. The head results can be plotted using the `.plot_array()` method. The discharge results can be plotted using the `plot_specific_discharge()` method. Boundary conditions can be plotted using the `.plot_bc()` method."
   ]
  },
  {
   "cell_type": "code",
   "execution_count": null,
   "metadata": {},
   "outputs": [],
   "source": []
  },
  {
   "cell_type": "code",
   "execution_count": null,
   "metadata": {},
   "outputs": [],
   "source": []
  },
  {
   "cell_type": "code",
   "execution_count": null,
   "metadata": {},
   "outputs": [],
   "source": []
  },
  {
   "cell_type": "code",
   "execution_count": null,
   "metadata": {},
   "outputs": [],
   "source": []
  }
 ],
 "metadata": {
  "kernelspec": {
   "display_name": "Python 3 (ipykernel)",
   "language": "python",
   "name": "python3"
  },
  "language_info": {
   "codemirror_mode": {
    "name": "ipython",
    "version": 3
   },
   "file_extension": ".py",
   "mimetype": "text/x-python",
   "name": "python",
   "nbconvert_exporter": "python",
   "pygments_lexer": "ipython3",
   "version": "3.11.7"
  }
 },
 "nbformat": 4,
 "nbformat_minor": 4
}
