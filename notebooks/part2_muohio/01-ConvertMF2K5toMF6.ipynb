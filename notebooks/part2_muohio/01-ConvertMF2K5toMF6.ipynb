{
 "cells": [
  {
   "cell_type": "markdown",
   "id": "75a70a1b-a636-4dd4-abd4-691529c0b690",
   "metadata": {},
   "source": [
    "## there is no code to run in this notebook"
   ]
  },
  {
   "cell_type": "markdown",
   "id": "5da810bb-0497-44d2-886f-31c5b69fd2db",
   "metadata": {},
   "source": [
    "## just note that the MF2005 input files were converted to MODFLOW 6 using the conversion software provided with MF6"
   ]
  },
  {
   "cell_type": "markdown",
   "id": "b3983bab-4fba-4893-aae7-c7007dda5939",
   "metadata": {},
   "source": [
    "## the MODFLOW 6 files created by the conversion software were copied into a new folder \"mumodel_mf6\""
   ]
  },
  {
   "cell_type": "code",
   "execution_count": null,
   "id": "829f9b4a-05c0-48bb-bd4b-6a36cc10ff47",
   "metadata": {},
   "outputs": [],
   "source": []
  }
 ],
 "metadata": {
  "kernelspec": {
   "display_name": "Python 3 (ipykernel)",
   "language": "python",
   "name": "python3"
  },
  "language_info": {
   "codemirror_mode": {
    "name": "ipython",
    "version": 3
   },
   "file_extension": ".py",
   "mimetype": "text/x-python",
   "name": "python",
   "nbconvert_exporter": "python",
   "pygments_lexer": "ipython3",
   "version": "3.11.7"
  }
 },
 "nbformat": 4,
 "nbformat_minor": 5
}
