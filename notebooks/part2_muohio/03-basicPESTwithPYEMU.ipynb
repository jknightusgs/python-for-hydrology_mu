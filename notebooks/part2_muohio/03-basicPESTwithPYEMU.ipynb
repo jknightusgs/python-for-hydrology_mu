{
 "cells": [
  {
   "cell_type": "markdown",
   "metadata": {},
   "source": [
    "#### load python packages"
   ]
  },
  {
   "cell_type": "code",
   "execution_count": 2,
   "metadata": {},
   "outputs": [
    {
     "name": "stderr",
     "output_type": "stream",
     "text": [
      "C:\\A\\envs\\pyclass\\Lib\\site-packages\\pyemu\\pst\\pst_handler.py:15: FutureWarning: use_inf_as_na option is deprecated and will be removed in a future version. Convert inf values to NaN before operating instead.\n"
     ]
    }
   ],
   "source": [
    "import numpy as np\n",
    "import matplotlib.pyplot as plt\n",
    "import flopy\n",
    "from flopy.plot import styles\n",
    "import os\n",
    "import shutil\n",
    "import pandas as pd\n",
    "import pyemu"
   ]
  },
  {
   "cell_type": "markdown",
   "metadata": {},
   "source": [
    "#### specify folder location of modflow 6 model files"
   ]
  },
  {
   "cell_type": "code",
   "execution_count": 3,
   "metadata": {},
   "outputs": [],
   "source": [
    "tpl_dir = os.path.join(\"data\", \"mumodel_tpl\")"
   ]
  },
  {
   "cell_type": "markdown",
   "metadata": {},
   "source": [
    "#### instantiate a flopy model object from the files copied to the new folder"
   ]
  },
  {
   "cell_type": "code",
   "execution_count": 4,
   "metadata": {},
   "outputs": [
    {
     "name": "stdout",
     "output_type": "stream",
     "text": [
      "loading simulation...\n",
      "  loading simulation name file...\n",
      "  loading tdis package...\n",
      "  loading model gwf6...\n",
      "    loading package dis...\n",
      "    loading package ic...\n",
      "    loading package npf...\n",
      "    loading package sto...\n",
      "    loading package oc...\n",
      "    loading package wel...\n",
      "    loading package rch...\n",
      "    loading package chd...\n",
      "    loading package obs...\n",
      "  loading solution package mumodel...\n"
     ]
    }
   ],
   "source": [
    "name = \"mumodel\"\n",
    "exe_name = \"mf6\"\n",
    "sim = flopy.mf6.MFSimulation.load(sim_ws=tpl_dir)\n",
    "m = sim.get_model(name)\n",
    "mg = m.modelgrid"
   ]
  },
  {
   "cell_type": "markdown",
   "metadata": {},
   "source": [
    "#### force flopy to create external pointer files for stress period data and property arrays (much easier for PEST/pyemu to deal with)"
   ]
  },
  {
   "cell_type": "code",
   "execution_count": 5,
   "metadata": {},
   "outputs": [
    {
     "name": "stdout",
     "output_type": "stream",
     "text": [
      "writing simulation...\n",
      "  writing simulation name file...\n",
      "  writing simulation tdis package...\n",
      "  writing solution package mumodel...\n",
      "  writing model mumodel...\n",
      "    writing model name file...\n",
      "    writing package dis...\n",
      "    writing package ic...\n",
      "    writing package npf...\n",
      "    writing package sto...\n",
      "    writing package oc...\n",
      "    writing package wel-1...\n",
      "    writing package rch-1...\n",
      "    writing package chd-from-ibound...\n",
      "    writing package obs_0...\n"
     ]
    }
   ],
   "source": [
    "m.set_all_data_external()\n",
    "sim.write_simulation()"
   ]
  },
  {
   "cell_type": "markdown",
   "metadata": {},
   "source": [
    "#### run the model again just to make sure it still works"
   ]
  },
  {
   "cell_type": "code",
   "execution_count": 6,
   "metadata": {},
   "outputs": [
    {
     "name": "stdout",
     "output_type": "stream",
     "text": [
      "FloPy is using the following executable to run the model: ..\\..\\..\\..\\..\\..\\..\\..\\..\\A\\envs\\pyclass\\Scripts\\mf6.exe\n",
      "                                   MODFLOW 6\n",
      "                U.S. GEOLOGICAL SURVEY MODULAR HYDROLOGIC MODEL\n",
      "                            VERSION 6.4.2 06/28/2023\n",
      "\n",
      "   MODFLOW 6 compiled Jul 05 2023 20:31:54 with Intel(R) Fortran Intel(R) 64\n",
      "   Compiler Classic for applications running on Intel(R) 64, Version 2021.7.0\n",
      "                             Build 20220726_000000\n",
      "\n",
      "This software has been approved for release by the U.S. Geological \n",
      "Survey (USGS). Although the software has been subjected to rigorous \n",
      "review, the USGS reserves the right to update the software as needed \n",
      "pursuant to further analysis and review. No warranty, expressed or \n",
      "implied, is made by the USGS or the U.S. Government as to the \n",
      "functionality of the software and related material nor shall the \n",
      "fact of release constitute any such warranty. Furthermore, the \n",
      "software is released on condition that neither the USGS nor the U.S. \n",
      "Government shall be held liable for any damages resulting from its \n",
      "authorized or unauthorized use. Also refer to the USGS Water \n",
      "Resources Software User Rights Notice for complete use, copyright, \n",
      "and distribution information.\n",
      "\n",
      " \n",
      " Run start date and time (yyyy/mm/dd hh:mm:ss): 2024/03/30 15:43:55\n",
      " \n",
      " Writing simulation list file: mfsim.lst\n",
      " Using Simulation name file: mfsim.nam\n",
      " \n",
      "    Solving:  Stress period:     1    Time step:     1\n",
      "    Solving:  Stress period:     2    Time step:     1\n",
      "    Solving:  Stress period:     2    Time step:     2\n",
      "    Solving:  Stress period:     2    Time step:     3\n",
      "    Solving:  Stress period:     2    Time step:     4\n",
      "    Solving:  Stress period:     2    Time step:     5\n",
      "    Solving:  Stress period:     2    Time step:     6\n",
      "    Solving:  Stress period:     2    Time step:     7\n",
      "    Solving:  Stress period:     2    Time step:     8\n",
      "    Solving:  Stress period:     3    Time step:     1\n",
      "    Solving:  Stress period:     3    Time step:     2\n",
      "    Solving:  Stress period:     3    Time step:     3\n",
      "    Solving:  Stress period:     3    Time step:     4\n",
      "    Solving:  Stress period:     3    Time step:     5\n",
      "    Solving:  Stress period:     3    Time step:     6\n",
      "    Solving:  Stress period:     3    Time step:     7\n",
      "    Solving:  Stress period:     3    Time step:     8\n",
      "    Solving:  Stress period:     4    Time step:     1\n",
      "    Solving:  Stress period:     4    Time step:     2\n",
      "    Solving:  Stress period:     4    Time step:     3\n",
      "    Solving:  Stress period:     4    Time step:     4\n",
      "    Solving:  Stress period:     4    Time step:     5\n",
      "    Solving:  Stress period:     4    Time step:     6\n",
      "    Solving:  Stress period:     4    Time step:     7\n",
      "    Solving:  Stress period:     4    Time step:     8\n",
      "    Solving:  Stress period:     5    Time step:     1\n",
      "    Solving:  Stress period:     5    Time step:     2\n",
      "    Solving:  Stress period:     5    Time step:     3\n",
      "    Solving:  Stress period:     5    Time step:     4\n",
      "    Solving:  Stress period:     5    Time step:     5\n",
      "    Solving:  Stress period:     5    Time step:     6\n",
      "    Solving:  Stress period:     5    Time step:     7\n",
      "    Solving:  Stress period:     5    Time step:     8\n",
      "    Solving:  Stress period:     6    Time step:     1\n",
      "    Solving:  Stress period:     6    Time step:     2\n",
      "    Solving:  Stress period:     6    Time step:     3\n",
      "    Solving:  Stress period:     6    Time step:     4\n",
      "    Solving:  Stress period:     6    Time step:     5\n",
      "    Solving:  Stress period:     6    Time step:     6\n",
      "    Solving:  Stress period:     6    Time step:     7\n",
      "    Solving:  Stress period:     6    Time step:     8\n",
      "    Solving:  Stress period:     7    Time step:     1\n",
      "    Solving:  Stress period:     7    Time step:     2\n",
      "    Solving:  Stress period:     7    Time step:     3\n",
      "    Solving:  Stress period:     7    Time step:     4\n",
      "    Solving:  Stress period:     7    Time step:     5\n",
      "    Solving:  Stress period:     7    Time step:     6\n",
      "    Solving:  Stress period:     7    Time step:     7\n",
      "    Solving:  Stress period:     7    Time step:     8\n",
      "    Solving:  Stress period:     8    Time step:     1\n",
      "    Solving:  Stress period:     8    Time step:     2\n",
      "    Solving:  Stress period:     8    Time step:     3\n",
      "    Solving:  Stress period:     8    Time step:     4\n",
      "    Solving:  Stress period:     8    Time step:     5\n",
      "    Solving:  Stress period:     8    Time step:     6\n",
      "    Solving:  Stress period:     8    Time step:     7\n",
      "    Solving:  Stress period:     8    Time step:     8\n",
      "    Solving:  Stress period:     9    Time step:     1\n",
      "    Solving:  Stress period:     9    Time step:     2\n",
      "    Solving:  Stress period:     9    Time step:     3\n",
      "    Solving:  Stress period:     9    Time step:     4\n",
      "    Solving:  Stress period:     9    Time step:     5\n",
      "    Solving:  Stress period:     9    Time step:     6\n",
      "    Solving:  Stress period:     9    Time step:     7\n",
      "    Solving:  Stress period:     9    Time step:     8\n",
      "    Solving:  Stress period:    10    Time step:     1\n",
      "    Solving:  Stress period:    10    Time step:     2\n",
      "    Solving:  Stress period:    10    Time step:     3\n",
      "    Solving:  Stress period:    10    Time step:     4\n",
      "    Solving:  Stress period:    10    Time step:     5\n",
      "    Solving:  Stress period:    10    Time step:     6\n",
      "    Solving:  Stress period:    10    Time step:     7\n",
      "    Solving:  Stress period:    10    Time step:     8\n",
      "    Solving:  Stress period:    11    Time step:     1\n",
      "    Solving:  Stress period:    11    Time step:     2\n",
      "    Solving:  Stress period:    11    Time step:     3\n",
      "    Solving:  Stress period:    11    Time step:     4\n",
      "    Solving:  Stress period:    11    Time step:     5\n",
      "    Solving:  Stress period:    11    Time step:     6\n",
      "    Solving:  Stress period:    11    Time step:     7\n",
      "    Solving:  Stress period:    11    Time step:     8\n",
      "    Solving:  Stress period:    12    Time step:     1\n",
      "    Solving:  Stress period:    12    Time step:     2\n",
      "    Solving:  Stress period:    12    Time step:     3\n",
      "    Solving:  Stress period:    12    Time step:     4\n",
      "    Solving:  Stress period:    12    Time step:     5\n",
      "    Solving:  Stress period:    12    Time step:     6\n",
      "    Solving:  Stress period:    12    Time step:     7\n",
      "    Solving:  Stress period:    12    Time step:     8\n",
      "    Solving:  Stress period:    13    Time step:     1\n",
      "    Solving:  Stress period:    13    Time step:     2\n",
      "    Solving:  Stress period:    13    Time step:     3\n",
      "    Solving:  Stress period:    13    Time step:     4\n",
      "    Solving:  Stress period:    13    Time step:     5\n",
      "    Solving:  Stress period:    13    Time step:     6\n",
      "    Solving:  Stress period:    13    Time step:     7\n",
      "    Solving:  Stress period:    13    Time step:     8\n",
      "    Solving:  Stress period:    14    Time step:     1\n",
      "    Solving:  Stress period:    14    Time step:     2\n",
      "    Solving:  Stress period:    14    Time step:     3\n",
      "    Solving:  Stress period:    14    Time step:     4\n",
      "    Solving:  Stress period:    14    Time step:     5\n",
      "    Solving:  Stress period:    14    Time step:     6\n",
      "    Solving:  Stress period:    14    Time step:     7\n",
      "    Solving:  Stress period:    14    Time step:     8\n",
      "    Solving:  Stress period:    15    Time step:     1\n",
      "    Solving:  Stress period:    15    Time step:     2\n",
      "    Solving:  Stress period:    15    Time step:     3\n",
      "    Solving:  Stress period:    15    Time step:     4\n",
      "    Solving:  Stress period:    15    Time step:     5\n",
      "    Solving:  Stress period:    15    Time step:     6\n",
      "    Solving:  Stress period:    15    Time step:     7\n",
      "    Solving:  Stress period:    15    Time step:     8\n",
      "    Solving:  Stress period:    16    Time step:     1\n",
      "    Solving:  Stress period:    16    Time step:     2\n",
      "    Solving:  Stress period:    16    Time step:     3\n",
      "    Solving:  Stress period:    16    Time step:     4\n",
      "    Solving:  Stress period:    16    Time step:     5\n",
      "    Solving:  Stress period:    16    Time step:     6\n",
      "    Solving:  Stress period:    16    Time step:     7\n",
      "    Solving:  Stress period:    16    Time step:     8\n",
      "    Solving:  Stress period:    17    Time step:     1\n",
      "    Solving:  Stress period:    17    Time step:     2\n",
      "    Solving:  Stress period:    17    Time step:     3\n",
      "    Solving:  Stress period:    17    Time step:     4\n",
      "    Solving:  Stress period:    17    Time step:     5\n",
      "    Solving:  Stress period:    17    Time step:     6\n",
      "    Solving:  Stress period:    17    Time step:     7\n",
      "    Solving:  Stress period:    17    Time step:     8\n",
      "    Solving:  Stress period:    18    Time step:     1\n",
      "    Solving:  Stress period:    18    Time step:     2\n",
      "    Solving:  Stress period:    18    Time step:     3\n",
      "    Solving:  Stress period:    18    Time step:     4\n",
      "    Solving:  Stress period:    18    Time step:     5\n",
      "    Solving:  Stress period:    18    Time step:     6\n",
      "    Solving:  Stress period:    18    Time step:     7\n",
      "    Solving:  Stress period:    18    Time step:     8\n",
      "    Solving:  Stress period:    19    Time step:     1\n",
      "    Solving:  Stress period:    19    Time step:     2\n",
      "    Solving:  Stress period:    19    Time step:     3\n",
      "    Solving:  Stress period:    19    Time step:     4\n",
      "    Solving:  Stress period:    19    Time step:     5\n",
      "    Solving:  Stress period:    19    Time step:     6\n",
      "    Solving:  Stress period:    19    Time step:     7\n",
      "    Solving:  Stress period:    19    Time step:     8\n",
      "    Solving:  Stress period:    20    Time step:     1\n",
      "    Solving:  Stress period:    20    Time step:     2\n",
      "    Solving:  Stress period:    20    Time step:     3\n",
      "    Solving:  Stress period:    20    Time step:     4\n",
      "    Solving:  Stress period:    20    Time step:     5\n",
      "    Solving:  Stress period:    20    Time step:     6\n",
      "    Solving:  Stress period:    20    Time step:     7\n",
      "    Solving:  Stress period:    20    Time step:     8\n",
      "    Solving:  Stress period:    21    Time step:     1\n",
      "    Solving:  Stress period:    21    Time step:     2\n",
      "    Solving:  Stress period:    21    Time step:     3\n",
      "    Solving:  Stress period:    21    Time step:     4\n",
      "    Solving:  Stress period:    21    Time step:     5\n",
      "    Solving:  Stress period:    21    Time step:     6\n",
      "    Solving:  Stress period:    21    Time step:     7\n",
      "    Solving:  Stress period:    21    Time step:     8\n",
      "    Solving:  Stress period:    22    Time step:     1\n",
      "    Solving:  Stress period:    22    Time step:     2\n",
      "    Solving:  Stress period:    22    Time step:     3\n",
      "    Solving:  Stress period:    22    Time step:     4\n",
      "    Solving:  Stress period:    22    Time step:     5\n",
      "    Solving:  Stress period:    22    Time step:     6\n",
      "    Solving:  Stress period:    22    Time step:     7\n",
      "    Solving:  Stress period:    22    Time step:     8\n",
      "    Solving:  Stress period:    23    Time step:     1\n",
      "    Solving:  Stress period:    23    Time step:     2\n",
      "    Solving:  Stress period:    23    Time step:     3\n",
      "    Solving:  Stress period:    23    Time step:     4\n",
      "    Solving:  Stress period:    23    Time step:     5\n",
      "    Solving:  Stress period:    23    Time step:     6\n",
      "    Solving:  Stress period:    23    Time step:     7\n",
      "    Solving:  Stress period:    23    Time step:     8\n",
      "    Solving:  Stress period:    24    Time step:     1\n",
      "    Solving:  Stress period:    24    Time step:     2\n",
      "    Solving:  Stress period:    24    Time step:     3\n",
      "    Solving:  Stress period:    24    Time step:     4\n",
      "    Solving:  Stress period:    24    Time step:     5\n",
      "    Solving:  Stress period:    24    Time step:     6\n",
      "    Solving:  Stress period:    24    Time step:     7\n",
      "    Solving:  Stress period:    24    Time step:     8\n",
      "    Solving:  Stress period:    25    Time step:     1\n",
      "    Solving:  Stress period:    25    Time step:     2\n",
      "    Solving:  Stress period:    25    Time step:     3\n",
      "    Solving:  Stress period:    25    Time step:     4\n",
      "    Solving:  Stress period:    25    Time step:     5\n",
      "    Solving:  Stress period:    25    Time step:     6\n",
      "    Solving:  Stress period:    25    Time step:     7\n",
      "    Solving:  Stress period:    25    Time step:     8\n",
      " \n",
      " Run end date and time (yyyy/mm/dd hh:mm:ss): 2024/03/30 15:43:56\n",
      " Elapsed run time:  0.825 Seconds\n",
      " \n",
      " Normal termination of simulation.\n"
     ]
    },
    {
     "data": {
      "text/plain": [
       "(True, [])"
      ]
     },
     "execution_count": 6,
     "metadata": {},
     "output_type": "execute_result"
    }
   ],
   "source": [
    "sim.run_simulation()"
   ]
  },
  {
   "cell_type": "markdown",
   "metadata": {},
   "source": [
    "#### specify a new folder location for pyemu to work on a copy of the model files"
   ]
  },
  {
   "cell_type": "code",
   "execution_count": 7,
   "metadata": {},
   "outputs": [],
   "source": [
    "pst_dir = os.path.join(\"data\", \"mumodel_pst\")"
   ]
  },
  {
   "cell_type": "markdown",
   "metadata": {},
   "source": [
    "## The pyemu PstFrom method sets up an object to hold all of your PEST related data like observations to track and parameters to modify, making it super easy to change and write new PEST input files on the fly."
   ]
  },
  {
   "cell_type": "code",
   "execution_count": 8,
   "metadata": {},
   "outputs": [
    {
     "name": "stdout",
     "output_type": "stream",
     "text": [
      "2024-03-30 15:47:26.193648 starting: opening PstFrom.log for logging\n",
      "2024-03-30 15:47:26.193648 starting PstFrom process\n",
      "2024-03-30 15:47:26.193648 starting: setting up dirs\n",
      "2024-03-30 15:47:26.200958 starting: removing existing new_d 'data\\mumodel_pst'\n",
      "2024-03-30 15:47:26.239464 finished: removing existing new_d 'data\\mumodel_pst' took: 0:00:00.038506\n",
      "2024-03-30 15:47:26.239464 starting: copying original_d 'data\\mumodel_tpl' to new_d 'data\\mumodel_pst'\n",
      "2024-03-30 15:47:26.335157 finished: copying original_d 'data\\mumodel_tpl' to new_d 'data\\mumodel_pst' took: 0:00:00.095693\n",
      "2024-03-30 15:47:26.335157 finished: setting up dirs took: 0:00:00.141509\n"
     ]
    }
   ],
   "source": [
    "pf = pyemu.utils.PstFrom(original_d=tpl_dir, new_d=pst_dir, remove_existing=True, spatial_reference=mg)"
   ]
  },
  {
   "cell_type": "markdown",
   "metadata": {},
   "source": [
    "#### python package OS has a lot of useful functions for navigating your data directories. here are all the files and subfolders right now in the new pst_dir folder"
   ]
  },
  {
   "cell_type": "code",
   "execution_count": 9,
   "metadata": {},
   "outputs": [
    {
     "data": {
      "text/plain": [
       "['hds.csv',\n",
       " 'mfsim.lst',\n",
       " 'mfsim.nam',\n",
       " 'mult',\n",
       " 'mumodel.dis',\n",
       " 'mumodel.dis.grb',\n",
       " 'mumodel.dis_botm.txt',\n",
       " 'mumodel.dis_delc.txt',\n",
       " 'mumodel.dis_delr.txt',\n",
       " 'mumodel.dis_top.txt',\n",
       " 'mumodel.ib.chd.obs',\n",
       " 'mumodel.ib.ibound.chd',\n",
       " 'mumodel.ib.ibound.chd_stress_period_data_1.txt',\n",
       " 'mumodel.ic',\n",
       " 'mumodel.ic_strt.txt',\n",
       " 'mumodel.ims',\n",
       " 'mumodel.lst',\n",
       " 'mumodel.nam',\n",
       " 'mumodel.npf',\n",
       " 'mumodel.npf_icelltype.txt',\n",
       " 'mumodel.npf_k.txt',\n",
       " 'mumodel.obs',\n",
       " 'mumodel.obs_continuous_hds.csv.txt',\n",
       " 'mumodel.oc',\n",
       " 'mumodel.rch',\n",
       " 'mumodel.rch_recharge_1.txt',\n",
       " 'mumodel.rch_recharge_13.txt',\n",
       " 'mumodel.rch_recharge_14.txt',\n",
       " 'mumodel.rch_recharge_15.txt',\n",
       " 'mumodel.rch_recharge_16.txt',\n",
       " 'mumodel.rch_recharge_17.txt',\n",
       " 'mumodel.rch_recharge_18.txt',\n",
       " 'mumodel.rch_recharge_19.txt',\n",
       " 'mumodel.rch_recharge_2.txt',\n",
       " 'mumodel.rch_recharge_20.txt',\n",
       " 'mumodel.rch_recharge_25.txt',\n",
       " 'mumodel.rch_recharge_3.txt',\n",
       " 'mumodel.rch_recharge_4.txt',\n",
       " 'mumodel.rch_recharge_5.txt',\n",
       " 'mumodel.rch_recharge_6.txt',\n",
       " 'mumodel.rch_recharge_7.txt',\n",
       " 'mumodel.rch_recharge_8.txt',\n",
       " 'mumodel.sto',\n",
       " 'mumodel.sto_iconvert.txt',\n",
       " 'mumodel.sto_ss.txt',\n",
       " 'mumodel.sto_sy.txt',\n",
       " 'mumodel.tdis',\n",
       " 'mumodel.wel',\n",
       " 'mumodel.wel_stress_period_data_1.txt',\n",
       " 'mumodel.wel_stress_period_data_14.txt',\n",
       " 'mumodel_7-2b.cbb',\n",
       " 'mumodel_7-2b.hds',\n",
       " 'mumodel_conversion_messages.txt',\n",
       " 'org']"
      ]
     },
     "execution_count": 9,
     "metadata": {},
     "output_type": "execute_result"
    }
   ],
   "source": [
    "os.listdir(pst_dir)"
   ]
  },
  {
   "cell_type": "markdown",
   "metadata": {},
   "source": [
    "## we will be using globally-constant parameters, pilot-point interpolated parameters, and individual grid scale parameters to impart our ignorance of model properties at 3 difference spatial scales"
   ]
  },
  {
   "cell_type": "markdown",
   "metadata": {},
   "source": [
    "#### to implement pilot point interpolated parameters and gridscale parameters we need to specify a geostatistical variogram for each"
   ]
  },
  {
   "cell_type": "code",
   "execution_count": 10,
   "metadata": {},
   "outputs": [],
   "source": [
    "vr_pp = pyemu.utils.geostats.ExpVario(a=2000, contribution=1.0)\n",
    "vr_gr = pyemu.utils.geostats.ExpVario(a=500, contribution=1.0)"
   ]
  },
  {
   "cell_type": "code",
   "execution_count": 11,
   "metadata": {},
   "outputs": [],
   "source": [
    "gs_pp = pyemu.utils.geostats.GeoStruct(variograms=vr_pp, transform=\"log\")\n",
    "gs_gr = pyemu.utils.geostats.GeoStruct(variograms=vr_gr, transform=\"log\")"
   ]
  },
  {
   "cell_type": "markdown",
   "metadata": {},
   "source": [
    "## for array-type properties K and SY, we will perform the same operations for each, so we'll run it in a loop and use a dictionary to specify the names and values that are specific to each property"
   ]
  },
  {
   "cell_type": "code",
   "execution_count": 12,
   "metadata": {
    "scrolled": true
   },
   "outputs": [
    {
     "name": "stdout",
     "output_type": "stream",
     "text": [
      "2024-03-30 15:54:14.759054 transform was not passed, setting default tranform to 'log'\n",
      "2024-03-30 15:54:14.805699 starting: adding constant type m style parameters for file(s) ['mumodel.npf_k.txt']\n",
      "2024-03-30 15:54:14.805699 starting: loading array data\\mumodel_pst\\mumodel.npf_k.txt\n",
      "2024-03-30 15:54:14.805699 finished: loading array data\\mumodel_pst\\mumodel.npf_k.txt took: 0:00:00\n",
      "2024-03-30 15:54:14.805699 loaded array 'data\\mumodel_tpl\\mumodel.npf_k.txt' of shape (21, 9)\n",
      "2024-03-30 15:54:14.805699 starting: writing array-style template file 'data\\mumodel_pst\\npf_k_inst0_constant.csv.tpl'\n",
      "2024-03-30 15:54:14.805699 starting: writing template file data\\mumodel_pst\\npf_k_inst0_constant.csv.tpl for ['npf_k_inst:0']\n",
      "2024-03-30 15:54:14.818713 finished: writing template file data\\mumodel_pst\\npf_k_inst0_constant.csv.tpl for ['npf_k_inst:0'] took: 0:00:00.013014\n",
      "2024-03-30 15:54:14.818713 starting: writing array-based template file 'data\\mumodel_pst\\npf_k_inst0_constant.csv.tpl'\n",
      "2024-03-30 15:54:14.831440 finished: adding constant type m style parameters for file(s) ['mumodel.npf_k.txt'] took: 0:00:00.025741\n",
      "2024-03-30 15:54:14.831440 transform was not passed, setting default tranform to 'log'\n",
      "2024-03-30 15:54:14.831440 starting: adding pilotpoint type m style parameters for file(s) ['mumodel.npf_k.txt']\n",
      "2024-03-30 15:54:14.831440 starting: using geostruct:name:struct1,nugget:0.0,structures:\n",
      "name:var1,contribution:1.0,a:2000.0,anisotropy:1.0,bearing:0.0\n",
      "\n",
      "2024-03-30 15:54:14.831440 starting: loading array data\\mumodel_pst\\mumodel.npf_k.txt\n",
      "2024-03-30 15:54:14.831440 finished: loading array data\\mumodel_pst\\mumodel.npf_k.txt took: 0:00:00\n",
      "2024-03-30 15:54:14.831440 loaded array 'data\\mumodel_tpl\\mumodel.npf_k.txt' of shape (21, 9)\n",
      "2024-03-30 15:54:14.834452 starting: writing array-style template file 'data\\mumodel_pst\\npf_k_inst1_pilotpoint.csv.tpl'\n",
      "2024-03-30 15:54:14.834452 starting: setting up pilot point parameters\n",
      "2024-03-30 15:54:14.834452 No spatial reference (containing cell spacing) passed.\n",
      "2024-03-30 15:54:14.834452 OK - using spatial reference in parent object.\n",
      "2024-03-30 15:54:14.912849 10 pilot point parameters created\n",
      "2024-03-30 15:54:14.913879 pilot point 'pargp':npf_pp\n",
      "2024-03-30 15:54:14.913879 finished: setting up pilot point parameters took: 0:00:00.079427\n",
      "2024-03-30 15:54:14.913879 starting: calculating factors for pargp=npf_pp\n",
      "2024-03-30 15:54:14.913879 saving krige variance file:data\\mumodel_pst\\npf_k_inst1pp.var.dat\n",
      "2024-03-30 15:54:14.913879 saving krige factors file:data\\mumodel_pst\\npf_k_inst1pp.fac\n",
      "starting interp point loop for 189 points\n",
      "starting 0\n",
      "starting 1\n",
      "starting 2\n",
      "starting 3\n",
      "starting 4\n",
      "starting 5\n",
      "starting 6\n",
      "starting 7\n",
      "starting 8\n",
      "starting 9\n",
      "took 4.607246 seconds\n",
      "2024-03-30 15:54:19.536780 finished: calculating factors for pargp=npf_pp took: 0:00:04.622901\n",
      "2024-03-30 15:54:19.536780 starting: writing array-based template file 'data\\mumodel_pst\\npf_k_inst1pp.dat.tpl'\n",
      "2024-03-30 15:54:19.536780 saving zone array data\\mumodel_pst\\npf_k_inst1pp.dat.zone for tpl file data\\mumodel_pst\\npf_k_inst1pp.dat.tpl\n",
      "2024-03-30 15:54:19.552406 finished: adding pilotpoint type m style parameters for file(s) ['mumodel.npf_k.txt'] took: 0:00:04.720966\n",
      "2024-03-30 15:54:19.552406 transform was not passed, setting default tranform to 'log'\n",
      "2024-03-30 15:54:19.552406 starting: adding grid type m style parameters for file(s) ['mumodel.npf_k.txt']\n",
      "2024-03-30 15:54:19.552406 starting: using geostruct:name:struct1,nugget:0.0,structures:\n",
      "name:var1,contribution:1.0,a:500.0,anisotropy:1.0,bearing:0.0\n",
      "\n",
      "2024-03-30 15:54:19.552406 starting: loading array data\\mumodel_pst\\mumodel.npf_k.txt\n",
      "2024-03-30 15:54:19.552406 finished: loading array data\\mumodel_pst\\mumodel.npf_k.txt took: 0:00:00\n",
      "2024-03-30 15:54:19.552406 loaded array 'data\\mumodel_tpl\\mumodel.npf_k.txt' of shape (21, 9)\n",
      "2024-03-30 15:54:19.552406 starting: writing array-style template file 'data\\mumodel_pst\\npf_k_inst2_grid.csv.tpl'\n",
      "2024-03-30 15:54:19.552406 starting: writing template file data\\mumodel_pst\\npf_k_inst2_grid.csv.tpl for ['npf_k_inst:2']\n",
      "2024-03-30 15:54:19.552406 finished: writing template file data\\mumodel_pst\\npf_k_inst2_grid.csv.tpl for ['npf_k_inst:2'] took: 0:00:00\n",
      "2024-03-30 15:54:19.552406 starting: writing array-based template file 'data\\mumodel_pst\\npf_k_inst2_grid.csv.tpl'\n",
      "2024-03-30 15:54:19.568033 finished: adding grid type m style parameters for file(s) ['mumodel.npf_k.txt'] took: 0:00:00.015627\n",
      "2024-03-30 15:54:19.568033 transform was not passed, setting default tranform to 'log'\n",
      "2024-03-30 15:54:19.568033 starting: adding constant type m style parameters for file(s) ['mumodel.sto_sy.txt']\n",
      "2024-03-30 15:54:19.568033 starting: loading array data\\mumodel_pst\\mumodel.sto_sy.txt\n",
      "2024-03-30 15:54:19.568033 finished: loading array data\\mumodel_pst\\mumodel.sto_sy.txt took: 0:00:00\n",
      "2024-03-30 15:54:19.568033 loaded array 'data\\mumodel_tpl\\mumodel.sto_sy.txt' of shape (21, 9)\n",
      "2024-03-30 15:54:19.572830 starting: writing array-style template file 'data\\mumodel_pst\\sto_sy_inst0_constant.csv.tpl'\n",
      "2024-03-30 15:54:19.572830 starting: writing template file data\\mumodel_pst\\sto_sy_inst0_constant.csv.tpl for ['sto_sy_inst:0']\n",
      "2024-03-30 15:54:19.576313 finished: writing template file data\\mumodel_pst\\sto_sy_inst0_constant.csv.tpl for ['sto_sy_inst:0'] took: 0:00:00.003483\n",
      "2024-03-30 15:54:19.578036 starting: writing array-based template file 'data\\mumodel_pst\\sto_sy_inst0_constant.csv.tpl'\n",
      "2024-03-30 15:54:19.578560 finished: adding constant type m style parameters for file(s) ['mumodel.sto_sy.txt'] took: 0:00:00.010527\n",
      "2024-03-30 15:54:19.578560 transform was not passed, setting default tranform to 'log'\n",
      "2024-03-30 15:54:19.578560 starting: adding pilotpoint type m style parameters for file(s) ['mumodel.sto_sy.txt']\n",
      "2024-03-30 15:54:19.578560 finished: using geostruct:name:struct1,nugget:0.0,structures:\n",
      "name:var1,contribution:1.0,a:2000.0,anisotropy:1.0,bearing:0.0\n",
      " took: 0:00:04.747120\n",
      "2024-03-30 15:54:19.578560 starting: loading array data\\mumodel_pst\\mumodel.sto_sy.txt\n",
      "2024-03-30 15:54:19.578560 finished: loading array data\\mumodel_pst\\mumodel.sto_sy.txt took: 0:00:00\n",
      "2024-03-30 15:54:19.578560 loaded array 'data\\mumodel_tpl\\mumodel.sto_sy.txt' of shape (21, 9)\n",
      "2024-03-30 15:54:19.584374 starting: writing array-style template file 'data\\mumodel_pst\\sto_sy_inst1_pilotpoint.csv.tpl'\n",
      "2024-03-30 15:54:19.584374 starting: setting up pilot point parameters\n",
      "2024-03-30 15:54:19.584374 No spatial reference (containing cell spacing) passed.\n",
      "2024-03-30 15:54:19.584374 OK - using spatial reference in parent object.\n",
      "2024-03-30 15:54:19.616033 10 pilot point parameters created\n",
      "2024-03-30 15:54:19.616033 pilot point 'pargp':sto_pp\n",
      "2024-03-30 15:54:19.616033 finished: setting up pilot point parameters took: 0:00:00.031659\n",
      "2024-03-30 15:54:19.616033 reusing factors\n",
      "2024-03-30 15:54:19.616033 starting: writing array-based template file 'data\\mumodel_pst\\sto_sy_inst1pp.dat.tpl'\n",
      "2024-03-30 15:54:19.616033 saving zone array data\\mumodel_pst\\sto_sy_inst1pp.dat.zone for tpl file data\\mumodel_pst\\sto_sy_inst1pp.dat.tpl\n",
      "2024-03-30 15:54:19.632107 finished: adding pilotpoint type m style parameters for file(s) ['mumodel.sto_sy.txt'] took: 0:00:00.053547\n",
      "2024-03-30 15:54:19.632107 transform was not passed, setting default tranform to 'log'\n",
      "2024-03-30 15:54:19.632107 starting: adding grid type m style parameters for file(s) ['mumodel.sto_sy.txt']\n",
      "2024-03-30 15:54:19.632107 finished: using geostruct:name:struct1,nugget:0.0,structures:\n",
      "name:var1,contribution:1.0,a:500.0,anisotropy:1.0,bearing:0.0\n",
      " took: 0:00:00.079701\n",
      "2024-03-30 15:54:19.632107 starting: loading array data\\mumodel_pst\\mumodel.sto_sy.txt\n",
      "2024-03-30 15:54:19.632107 finished: loading array data\\mumodel_pst\\mumodel.sto_sy.txt took: 0:00:00\n",
      "2024-03-30 15:54:19.632107 loaded array 'data\\mumodel_tpl\\mumodel.sto_sy.txt' of shape (21, 9)\n",
      "2024-03-30 15:54:19.632107 starting: writing array-style template file 'data\\mumodel_pst\\sto_sy_inst2_grid.csv.tpl'\n",
      "2024-03-30 15:54:19.632107 starting: writing template file data\\mumodel_pst\\sto_sy_inst2_grid.csv.tpl for ['sto_sy_inst:2']\n",
      "2024-03-30 15:54:19.632107 finished: writing template file data\\mumodel_pst\\sto_sy_inst2_grid.csv.tpl for ['sto_sy_inst:2'] took: 0:00:00\n",
      "2024-03-30 15:54:19.632107 starting: writing array-based template file 'data\\mumodel_pst\\sto_sy_inst2_grid.csv.tpl'\n",
      "2024-03-30 15:54:19.632107 finished: adding grid type m style parameters for file(s) ['mumodel.sto_sy.txt'] took: 0:00:00\n"
     ]
    }
   ],
   "source": [
    "# {\"property_name\": (lower bound value, upper bound value)}\n",
    "property_dict = {\"npf_k\": (10., 200.), \"sto_sy\": (0.05, 0.35)}\n",
    "\n",
    "for prop, (lb, ub) in property_dict.items():\n",
    "    filenames=['mumodel.{0}.txt'.format(prop)]\n",
    "    pf.add_parameters(filenames, par_type=\"constant\", upper_bound=2., lower_bound=0.5,\n",
    "                      par_name_base=prop, pargp=prop.split(\"_\")[0] + \"_cn\", ult_ubound=ub, ult_lbound=lb)\n",
    "    pf.add_parameters(filenames, par_type=\"pilotpoint\", upper_bound=2., lower_bound=0.5,\n",
    "                      par_name_base=prop, pargp=prop.split(\"_\")[0] + \"_pp\", pp_space=4, ult_ubound=ub, ult_lbound=lb, geostruct=gs_pp)\n",
    "    pf.add_parameters(filenames, par_type=\"grid\", upper_bound=2., lower_bound=0.5,\n",
    "                      par_name_base=prop, pargp=prop.split(\"_\")[0] + \"_gr\", ult_ubound=ub, ult_lbound=lb, geostruct=gs_gr)"
   ]
  },
  {
   "cell_type": "markdown",
   "metadata": {},
   "source": [
    "#### for recharge we will use time-constant multipliers on the global and pilot point spatial scales"
   ]
  },
  {
   "cell_type": "code",
   "execution_count": 13,
   "metadata": {
    "scrolled": true
   },
   "outputs": [
    {
     "name": "stdout",
     "output_type": "stream",
     "text": [
      "2024-03-30 15:55:28.094122 transform was not passed, setting default tranform to 'log'\n",
      "2024-03-30 15:55:28.096193 starting: adding constant type m style parameters for file(s) ['mumodel.rch_recharge_1.txt', 'mumodel.rch_recharge_13.txt', 'mumodel.rch_recharge_14.txt', 'mumodel.rch_recharge_15.txt', 'mumodel.rch_recharge_16.txt', 'mumodel.rch_recharge_17.txt', 'mumodel.rch_recharge_18.txt', 'mumodel.rch_recharge_19.txt', 'mumodel.rch_recharge_2.txt', 'mumodel.rch_recharge_20.txt', 'mumodel.rch_recharge_25.txt', 'mumodel.rch_recharge_3.txt', 'mumodel.rch_recharge_4.txt', 'mumodel.rch_recharge_5.txt', 'mumodel.rch_recharge_6.txt', 'mumodel.rch_recharge_7.txt', 'mumodel.rch_recharge_8.txt']\n",
      "2024-03-30 15:55:28.096193 WARNING: Discrepancy between number of filenames (17) and number of formatter strings (1). Will repeat first (free)\n",
      "2024-03-30 15:55:28.096193 starting: loading array data\\mumodel_pst\\mumodel.rch_recharge_1.txt\n",
      "2024-03-30 15:55:28.102517 finished: loading array data\\mumodel_pst\\mumodel.rch_recharge_1.txt took: 0:00:00.006324\n",
      "2024-03-30 15:55:28.102517 loaded array 'data\\mumodel_tpl\\mumodel.rch_recharge_1.txt' of shape (21, 9)\n",
      "2024-03-30 15:55:28.128009 starting: loading array data\\mumodel_pst\\mumodel.rch_recharge_13.txt\n",
      "2024-03-30 15:55:28.128009 finished: loading array data\\mumodel_pst\\mumodel.rch_recharge_13.txt took: 0:00:00\n",
      "2024-03-30 15:55:28.128009 loaded array 'data\\mumodel_tpl\\mumodel.rch_recharge_13.txt' of shape (21, 9)\n",
      "2024-03-30 15:55:28.136518 starting: loading array data\\mumodel_pst\\mumodel.rch_recharge_14.txt\n",
      "2024-03-30 15:55:28.136518 finished: loading array data\\mumodel_pst\\mumodel.rch_recharge_14.txt took: 0:00:00\n",
      "2024-03-30 15:55:28.136518 loaded array 'data\\mumodel_tpl\\mumodel.rch_recharge_14.txt' of shape (21, 9)\n",
      "2024-03-30 15:55:28.136518 starting: loading array data\\mumodel_pst\\mumodel.rch_recharge_15.txt\n",
      "2024-03-30 15:55:28.136518 finished: loading array data\\mumodel_pst\\mumodel.rch_recharge_15.txt took: 0:00:00\n",
      "2024-03-30 15:55:28.136518 loaded array 'data\\mumodel_tpl\\mumodel.rch_recharge_15.txt' of shape (21, 9)\n",
      "2024-03-30 15:55:28.136518 starting: loading array data\\mumodel_pst\\mumodel.rch_recharge_16.txt\n",
      "2024-03-30 15:55:28.136518 finished: loading array data\\mumodel_pst\\mumodel.rch_recharge_16.txt took: 0:00:00\n",
      "2024-03-30 15:55:28.136518 loaded array 'data\\mumodel_tpl\\mumodel.rch_recharge_16.txt' of shape (21, 9)\n",
      "2024-03-30 15:55:28.136518 starting: loading array data\\mumodel_pst\\mumodel.rch_recharge_17.txt\n",
      "2024-03-30 15:55:28.136518 finished: loading array data\\mumodel_pst\\mumodel.rch_recharge_17.txt took: 0:00:00\n",
      "2024-03-30 15:55:28.136518 loaded array 'data\\mumodel_tpl\\mumodel.rch_recharge_17.txt' of shape (21, 9)\n",
      "2024-03-30 15:55:28.136518 starting: loading array data\\mumodel_pst\\mumodel.rch_recharge_18.txt\n",
      "2024-03-30 15:55:28.152158 finished: loading array data\\mumodel_pst\\mumodel.rch_recharge_18.txt took: 0:00:00.015640\n",
      "2024-03-30 15:55:28.152158 loaded array 'data\\mumodel_tpl\\mumodel.rch_recharge_18.txt' of shape (21, 9)\n",
      "2024-03-30 15:55:28.152158 starting: loading array data\\mumodel_pst\\mumodel.rch_recharge_19.txt\n",
      "2024-03-30 15:55:28.152158 finished: loading array data\\mumodel_pst\\mumodel.rch_recharge_19.txt took: 0:00:00\n",
      "2024-03-30 15:55:28.152158 loaded array 'data\\mumodel_tpl\\mumodel.rch_recharge_19.txt' of shape (21, 9)\n",
      "2024-03-30 15:55:28.152158 starting: loading array data\\mumodel_pst\\mumodel.rch_recharge_2.txt\n",
      "2024-03-30 15:55:28.152158 finished: loading array data\\mumodel_pst\\mumodel.rch_recharge_2.txt took: 0:00:00\n",
      "2024-03-30 15:55:28.152158 loaded array 'data\\mumodel_tpl\\mumodel.rch_recharge_2.txt' of shape (21, 9)\n",
      "2024-03-30 15:55:28.167791 starting: loading array data\\mumodel_pst\\mumodel.rch_recharge_20.txt\n",
      "2024-03-30 15:55:28.167791 finished: loading array data\\mumodel_pst\\mumodel.rch_recharge_20.txt took: 0:00:00\n",
      "2024-03-30 15:55:28.167791 loaded array 'data\\mumodel_tpl\\mumodel.rch_recharge_20.txt' of shape (21, 9)\n",
      "2024-03-30 15:55:28.167791 starting: loading array data\\mumodel_pst\\mumodel.rch_recharge_25.txt\n",
      "2024-03-30 15:55:28.167791 finished: loading array data\\mumodel_pst\\mumodel.rch_recharge_25.txt took: 0:00:00\n",
      "2024-03-30 15:55:28.167791 loaded array 'data\\mumodel_tpl\\mumodel.rch_recharge_25.txt' of shape (21, 9)\n",
      "2024-03-30 15:55:28.167791 starting: loading array data\\mumodel_pst\\mumodel.rch_recharge_3.txt\n",
      "2024-03-30 15:55:28.167791 finished: loading array data\\mumodel_pst\\mumodel.rch_recharge_3.txt took: 0:00:00\n",
      "2024-03-30 15:55:28.167791 loaded array 'data\\mumodel_tpl\\mumodel.rch_recharge_3.txt' of shape (21, 9)\n",
      "2024-03-30 15:55:28.167791 starting: loading array data\\mumodel_pst\\mumodel.rch_recharge_4.txt\n",
      "2024-03-30 15:55:28.167791 finished: loading array data\\mumodel_pst\\mumodel.rch_recharge_4.txt took: 0:00:00\n",
      "2024-03-30 15:55:28.167791 loaded array 'data\\mumodel_tpl\\mumodel.rch_recharge_4.txt' of shape (21, 9)\n",
      "2024-03-30 15:55:28.183412 starting: loading array data\\mumodel_pst\\mumodel.rch_recharge_5.txt\n",
      "2024-03-30 15:55:28.183412 finished: loading array data\\mumodel_pst\\mumodel.rch_recharge_5.txt took: 0:00:00\n",
      "2024-03-30 15:55:28.183412 loaded array 'data\\mumodel_tpl\\mumodel.rch_recharge_5.txt' of shape (21, 9)\n",
      "2024-03-30 15:55:28.183412 starting: loading array data\\mumodel_pst\\mumodel.rch_recharge_6.txt\n",
      "2024-03-30 15:55:28.192766 finished: loading array data\\mumodel_pst\\mumodel.rch_recharge_6.txt took: 0:00:00.009354\n",
      "2024-03-30 15:55:28.192766 loaded array 'data\\mumodel_tpl\\mumodel.rch_recharge_6.txt' of shape (21, 9)\n",
      "2024-03-30 15:55:28.194882 starting: loading array data\\mumodel_pst\\mumodel.rch_recharge_7.txt\n",
      "2024-03-30 15:55:28.196896 finished: loading array data\\mumodel_pst\\mumodel.rch_recharge_7.txt took: 0:00:00.002014\n",
      "2024-03-30 15:55:28.196896 loaded array 'data\\mumodel_tpl\\mumodel.rch_recharge_7.txt' of shape (21, 9)\n",
      "2024-03-30 15:55:28.198641 starting: loading array data\\mumodel_pst\\mumodel.rch_recharge_8.txt\n",
      "2024-03-30 15:55:28.198641 finished: loading array data\\mumodel_pst\\mumodel.rch_recharge_8.txt took: 0:00:00\n",
      "2024-03-30 15:55:28.198641 loaded array 'data\\mumodel_tpl\\mumodel.rch_recharge_8.txt' of shape (21, 9)\n",
      "2024-03-30 15:55:28.202071 starting: writing array-style template file 'data\\mumodel_pst\\rch_r_inst0_constant.csv.tpl'\n",
      "2024-03-30 15:55:28.202071 starting: writing template file data\\mumodel_pst\\rch_r_inst0_constant.csv.tpl for ['rch_r_inst:0']\n",
      "2024-03-30 15:55:28.210348 finished: writing template file data\\mumodel_pst\\rch_r_inst0_constant.csv.tpl for ['rch_r_inst:0'] took: 0:00:00.008277\n",
      "2024-03-30 15:55:28.210348 starting: writing array-based template file 'data\\mumodel_pst\\rch_r_inst0_constant.csv.tpl'\n",
      "2024-03-30 15:55:28.215666 finished: adding constant type m style parameters for file(s) ['mumodel.rch_recharge_1.txt', 'mumodel.rch_recharge_13.txt', 'mumodel.rch_recharge_14.txt', 'mumodel.rch_recharge_15.txt', 'mumodel.rch_recharge_16.txt', 'mumodel.rch_recharge_17.txt', 'mumodel.rch_recharge_18.txt', 'mumodel.rch_recharge_19.txt', 'mumodel.rch_recharge_2.txt', 'mumodel.rch_recharge_20.txt', 'mumodel.rch_recharge_25.txt', 'mumodel.rch_recharge_3.txt', 'mumodel.rch_recharge_4.txt', 'mumodel.rch_recharge_5.txt', 'mumodel.rch_recharge_6.txt', 'mumodel.rch_recharge_7.txt', 'mumodel.rch_recharge_8.txt'] took: 0:00:00.119473\n",
      "2024-03-30 15:55:28.215666 transform was not passed, setting default tranform to 'log'\n",
      "2024-03-30 15:55:28.215666 starting: adding pilotpoint type m style parameters for file(s) ['mumodel.rch_recharge_1.txt', 'mumodel.rch_recharge_13.txt', 'mumodel.rch_recharge_14.txt', 'mumodel.rch_recharge_15.txt', 'mumodel.rch_recharge_16.txt', 'mumodel.rch_recharge_17.txt', 'mumodel.rch_recharge_18.txt', 'mumodel.rch_recharge_19.txt', 'mumodel.rch_recharge_2.txt', 'mumodel.rch_recharge_20.txt', 'mumodel.rch_recharge_25.txt', 'mumodel.rch_recharge_3.txt', 'mumodel.rch_recharge_4.txt', 'mumodel.rch_recharge_5.txt', 'mumodel.rch_recharge_6.txt', 'mumodel.rch_recharge_7.txt', 'mumodel.rch_recharge_8.txt']\n",
      "2024-03-30 15:55:28.215666 starting: using geostruct:name:struct1,nugget:0.0,structures:\n",
      "name:var1,contribution:1.0,a:2000.0,anisotropy:1.0,bearing:0.0\n",
      "\n",
      "2024-03-30 15:55:28.215666 WARNING: Discrepancy between number of filenames (17) and number of formatter strings (1). Will repeat first (free)\n",
      "2024-03-30 15:55:28.215666 starting: loading array data\\mumodel_pst\\mumodel.rch_recharge_1.txt\n",
      "2024-03-30 15:55:28.215666 finished: loading array data\\mumodel_pst\\mumodel.rch_recharge_1.txt took: 0:00:00\n",
      "2024-03-30 15:55:28.215666 loaded array 'data\\mumodel_tpl\\mumodel.rch_recharge_1.txt' of shape (21, 9)\n",
      "2024-03-30 15:55:28.215666 starting: loading array data\\mumodel_pst\\mumodel.rch_recharge_13.txt\n",
      "2024-03-30 15:55:28.215666 finished: loading array data\\mumodel_pst\\mumodel.rch_recharge_13.txt took: 0:00:00\n",
      "2024-03-30 15:55:28.215666 loaded array 'data\\mumodel_tpl\\mumodel.rch_recharge_13.txt' of shape (21, 9)\n",
      "2024-03-30 15:55:28.215666 starting: loading array data\\mumodel_pst\\mumodel.rch_recharge_14.txt\n",
      "2024-03-30 15:55:28.215666 finished: loading array data\\mumodel_pst\\mumodel.rch_recharge_14.txt took: 0:00:00\n",
      "2024-03-30 15:55:28.215666 loaded array 'data\\mumodel_tpl\\mumodel.rch_recharge_14.txt' of shape (21, 9)\n",
      "2024-03-30 15:55:28.222965 starting: loading array data\\mumodel_pst\\mumodel.rch_recharge_15.txt\n",
      "2024-03-30 15:55:28.222965 finished: loading array data\\mumodel_pst\\mumodel.rch_recharge_15.txt took: 0:00:00\n",
      "2024-03-30 15:55:28.222965 loaded array 'data\\mumodel_tpl\\mumodel.rch_recharge_15.txt' of shape (21, 9)\n",
      "2024-03-30 15:55:28.224776 starting: loading array data\\mumodel_pst\\mumodel.rch_recharge_16.txt\n",
      "2024-03-30 15:55:28.224776 finished: loading array data\\mumodel_pst\\mumodel.rch_recharge_16.txt took: 0:00:00\n",
      "2024-03-30 15:55:28.224776 loaded array 'data\\mumodel_tpl\\mumodel.rch_recharge_16.txt' of shape (21, 9)\n",
      "2024-03-30 15:55:28.226586 starting: loading array data\\mumodel_pst\\mumodel.rch_recharge_17.txt\n",
      "2024-03-30 15:55:28.226586 finished: loading array data\\mumodel_pst\\mumodel.rch_recharge_17.txt took: 0:00:00\n",
      "2024-03-30 15:55:28.226586 loaded array 'data\\mumodel_tpl\\mumodel.rch_recharge_17.txt' of shape (21, 9)\n",
      "2024-03-30 15:55:28.229582 starting: loading array data\\mumodel_pst\\mumodel.rch_recharge_18.txt\n",
      "2024-03-30 15:55:28.229582 finished: loading array data\\mumodel_pst\\mumodel.rch_recharge_18.txt took: 0:00:00\n",
      "2024-03-30 15:55:28.229582 loaded array 'data\\mumodel_tpl\\mumodel.rch_recharge_18.txt' of shape (21, 9)\n",
      "2024-03-30 15:55:28.229582 starting: loading array data\\mumodel_pst\\mumodel.rch_recharge_19.txt\n",
      "2024-03-30 15:55:28.229582 finished: loading array data\\mumodel_pst\\mumodel.rch_recharge_19.txt took: 0:00:00\n",
      "2024-03-30 15:55:28.229582 loaded array 'data\\mumodel_tpl\\mumodel.rch_recharge_19.txt' of shape (21, 9)\n",
      "2024-03-30 15:55:28.229582 starting: loading array data\\mumodel_pst\\mumodel.rch_recharge_2.txt\n",
      "2024-03-30 15:55:28.229582 finished: loading array data\\mumodel_pst\\mumodel.rch_recharge_2.txt took: 0:00:00\n",
      "2024-03-30 15:55:28.229582 loaded array 'data\\mumodel_tpl\\mumodel.rch_recharge_2.txt' of shape (21, 9)\n",
      "2024-03-30 15:55:28.229582 starting: loading array data\\mumodel_pst\\mumodel.rch_recharge_20.txt\n",
      "2024-03-30 15:55:28.229582 finished: loading array data\\mumodel_pst\\mumodel.rch_recharge_20.txt took: 0:00:00\n",
      "2024-03-30 15:55:28.229582 loaded array 'data\\mumodel_tpl\\mumodel.rch_recharge_20.txt' of shape (21, 9)\n",
      "2024-03-30 15:55:28.238976 starting: loading array data\\mumodel_pst\\mumodel.rch_recharge_25.txt\n",
      "2024-03-30 15:55:28.238976 finished: loading array data\\mumodel_pst\\mumodel.rch_recharge_25.txt took: 0:00:00\n",
      "2024-03-30 15:55:28.238976 loaded array 'data\\mumodel_tpl\\mumodel.rch_recharge_25.txt' of shape (21, 9)\n",
      "2024-03-30 15:55:28.238976 starting: loading array data\\mumodel_pst\\mumodel.rch_recharge_3.txt\n",
      "2024-03-30 15:55:28.245490 finished: loading array data\\mumodel_pst\\mumodel.rch_recharge_3.txt took: 0:00:00.006514\n",
      "2024-03-30 15:55:28.245490 loaded array 'data\\mumodel_tpl\\mumodel.rch_recharge_3.txt' of shape (21, 9)\n",
      "2024-03-30 15:55:28.245490 starting: loading array data\\mumodel_pst\\mumodel.rch_recharge_4.txt\n",
      "2024-03-30 15:55:28.249066 finished: loading array data\\mumodel_pst\\mumodel.rch_recharge_4.txt took: 0:00:00.003576\n",
      "2024-03-30 15:55:28.249066 loaded array 'data\\mumodel_tpl\\mumodel.rch_recharge_4.txt' of shape (21, 9)\n",
      "2024-03-30 15:55:28.249066 starting: loading array data\\mumodel_pst\\mumodel.rch_recharge_5.txt\n",
      "2024-03-30 15:55:28.251884 finished: loading array data\\mumodel_pst\\mumodel.rch_recharge_5.txt took: 0:00:00.002818\n",
      "2024-03-30 15:55:28.251884 loaded array 'data\\mumodel_tpl\\mumodel.rch_recharge_5.txt' of shape (21, 9)\n",
      "2024-03-30 15:55:28.251884 starting: loading array data\\mumodel_pst\\mumodel.rch_recharge_6.txt\n",
      "2024-03-30 15:55:28.251884 finished: loading array data\\mumodel_pst\\mumodel.rch_recharge_6.txt took: 0:00:00\n",
      "2024-03-30 15:55:28.251884 loaded array 'data\\mumodel_tpl\\mumodel.rch_recharge_6.txt' of shape (21, 9)\n",
      "2024-03-30 15:55:28.251884 starting: loading array data\\mumodel_pst\\mumodel.rch_recharge_7.txt\n",
      "2024-03-30 15:55:28.251884 finished: loading array data\\mumodel_pst\\mumodel.rch_recharge_7.txt took: 0:00:00\n",
      "2024-03-30 15:55:28.251884 loaded array 'data\\mumodel_tpl\\mumodel.rch_recharge_7.txt' of shape (21, 9)\n",
      "2024-03-30 15:55:28.251884 starting: loading array data\\mumodel_pst\\mumodel.rch_recharge_8.txt\n",
      "2024-03-30 15:55:28.251884 finished: loading array data\\mumodel_pst\\mumodel.rch_recharge_8.txt took: 0:00:00\n",
      "2024-03-30 15:55:28.251884 loaded array 'data\\mumodel_tpl\\mumodel.rch_recharge_8.txt' of shape (21, 9)\n",
      "2024-03-30 15:55:28.261393 starting: writing array-style template file 'data\\mumodel_pst\\rch_r_inst1_pilotpoint.csv.tpl'\n",
      "2024-03-30 15:55:28.261393 starting: setting up pilot point parameters\n",
      "2024-03-30 15:55:28.261393 No spatial reference (containing cell spacing) passed.\n",
      "2024-03-30 15:55:28.261393 OK - using spatial reference in parent object.\n",
      "2024-03-30 15:55:28.297047 10 pilot point parameters created\n",
      "2024-03-30 15:55:28.297047 pilot point 'pargp':rch_pp\n",
      "2024-03-30 15:55:28.297047 finished: setting up pilot point parameters took: 0:00:00.035654\n",
      "2024-03-30 15:55:28.310524 reusing factors\n"
     ]
    },
    {
     "name": "stderr",
     "output_type": "stream",
     "text": [
      "C:\\A\\envs\\pyclass\\Lib\\site-packages\\pyemu\\logger.py:100: PyemuWarning: 2024-03-30 15:55:28.096193 WARNING: Discrepancy between number of filenames (17) and number of formatter strings (1). Will repeat first (free)\n",
      "\n",
      "C:\\A\\envs\\pyclass\\Lib\\site-packages\\pyemu\\logger.py:100: PyemuWarning: 2024-03-30 15:55:28.215666 WARNING: Discrepancy between number of filenames (17) and number of formatter strings (1). Will repeat first (free)\n",
      "\n"
     ]
    },
    {
     "name": "stdout",
     "output_type": "stream",
     "text": [
      "2024-03-30 15:55:28.310524 starting: writing array-based template file 'data\\mumodel_pst\\rch_r_inst1pp.dat.tpl'\n",
      "2024-03-30 15:55:28.310524 saving zone array data\\mumodel_pst\\rch_r_inst1pp.dat.zone for tpl file data\\mumodel_pst\\rch_r_inst1pp.dat.tpl\n",
      "2024-03-30 15:55:28.316348 finished: adding pilotpoint type m style parameters for file(s) ['mumodel.rch_recharge_1.txt', 'mumodel.rch_recharge_13.txt', 'mumodel.rch_recharge_14.txt', 'mumodel.rch_recharge_15.txt', 'mumodel.rch_recharge_16.txt', 'mumodel.rch_recharge_17.txt', 'mumodel.rch_recharge_18.txt', 'mumodel.rch_recharge_19.txt', 'mumodel.rch_recharge_2.txt', 'mumodel.rch_recharge_20.txt', 'mumodel.rch_recharge_25.txt', 'mumodel.rch_recharge_3.txt', 'mumodel.rch_recharge_4.txt', 'mumodel.rch_recharge_5.txt', 'mumodel.rch_recharge_6.txt', 'mumodel.rch_recharge_7.txt', 'mumodel.rch_recharge_8.txt'] took: 0:00:00.100682\n"
     ]
    },
    {
     "data": {
      "text/html": [
       "<div>\n",
       "<style scoped>\n",
       "    .dataframe tbody tr th:only-of-type {\n",
       "        vertical-align: middle;\n",
       "    }\n",
       "\n",
       "    .dataframe tbody tr th {\n",
       "        vertical-align: top;\n",
       "    }\n",
       "\n",
       "    .dataframe thead th {\n",
       "        text-align: right;\n",
       "    }\n",
       "</style>\n",
       "<table border=\"1\" class=\"dataframe\">\n",
       "  <thead>\n",
       "    <tr style=\"text-align: right;\">\n",
       "      <th></th>\n",
       "      <th>name</th>\n",
       "      <th>x</th>\n",
       "      <th>y</th>\n",
       "      <th>zone</th>\n",
       "      <th>parval1</th>\n",
       "      <th>k</th>\n",
       "      <th>i</th>\n",
       "      <th>j</th>\n",
       "      <th>parnme</th>\n",
       "      <th>tpl</th>\n",
       "      <th>...</th>\n",
       "      <th>pp_filename</th>\n",
       "      <th>pargp</th>\n",
       "      <th>dercom</th>\n",
       "      <th>offset</th>\n",
       "      <th>parchglim</th>\n",
       "      <th>parlbnd</th>\n",
       "      <th>partrans</th>\n",
       "      <th>parubnd</th>\n",
       "      <th>scale</th>\n",
       "      <th>partype</th>\n",
       "    </tr>\n",
       "    <tr>\n",
       "      <th>parnme</th>\n",
       "      <th></th>\n",
       "      <th></th>\n",
       "      <th></th>\n",
       "      <th></th>\n",
       "      <th></th>\n",
       "      <th></th>\n",
       "      <th></th>\n",
       "      <th></th>\n",
       "      <th></th>\n",
       "      <th></th>\n",
       "      <th></th>\n",
       "      <th></th>\n",
       "      <th></th>\n",
       "      <th></th>\n",
       "      <th></th>\n",
       "      <th></th>\n",
       "      <th></th>\n",
       "      <th></th>\n",
       "      <th></th>\n",
       "      <th></th>\n",
       "      <th></th>\n",
       "    </tr>\n",
       "  </thead>\n",
       "  <tbody>\n",
       "    <tr>\n",
       "      <th>pname:rch_r_inst:1_ptype:pp_pstyle:m_i:2_j:2_zone:1</th>\n",
       "      <td>pp_0000</td>\n",
       "      <td>1250.0</td>\n",
       "      <td>9250.0</td>\n",
       "      <td>1</td>\n",
       "      <td>1.0</td>\n",
       "      <td>0</td>\n",
       "      <td>2</td>\n",
       "      <td>2</td>\n",
       "      <td>pname:rch_r_inst:1_ptype:pp_pstyle:m_i:2_j:2_zone:1</td>\n",
       "      <td>~    pname:rch_r_inst:1_ptype:pp_pstyle:m_i:2_j:2_zone:1    ~</td>\n",
       "      <td>...</td>\n",
       "      <td>data\\mumodel_pst\\rch_r_inst1pp.dat</td>\n",
       "      <td>rch_pp</td>\n",
       "      <td>1</td>\n",
       "      <td>0.0</td>\n",
       "      <td>factor</td>\n",
       "      <td>0.75</td>\n",
       "      <td>log</td>\n",
       "      <td>1.25</td>\n",
       "      <td>1.0</td>\n",
       "      <td>pilotpoint</td>\n",
       "    </tr>\n",
       "    <tr>\n",
       "      <th>pname:rch_r_inst:1_ptype:pp_pstyle:m_i:2_j:6_zone:1</th>\n",
       "      <td>pp_0001</td>\n",
       "      <td>3250.0</td>\n",
       "      <td>9250.0</td>\n",
       "      <td>1</td>\n",
       "      <td>1.0</td>\n",
       "      <td>0</td>\n",
       "      <td>2</td>\n",
       "      <td>6</td>\n",
       "      <td>pname:rch_r_inst:1_ptype:pp_pstyle:m_i:2_j:6_zone:1</td>\n",
       "      <td>~    pname:rch_r_inst:1_ptype:pp_pstyle:m_i:2_j:6_zone:1    ~</td>\n",
       "      <td>...</td>\n",
       "      <td>data\\mumodel_pst\\rch_r_inst1pp.dat</td>\n",
       "      <td>rch_pp</td>\n",
       "      <td>1</td>\n",
       "      <td>0.0</td>\n",
       "      <td>factor</td>\n",
       "      <td>0.75</td>\n",
       "      <td>log</td>\n",
       "      <td>1.25</td>\n",
       "      <td>1.0</td>\n",
       "      <td>pilotpoint</td>\n",
       "    </tr>\n",
       "    <tr>\n",
       "      <th>pname:rch_r_inst:1_ptype:pp_pstyle:m_i:6_j:2_zone:1</th>\n",
       "      <td>pp_0002</td>\n",
       "      <td>1250.0</td>\n",
       "      <td>7250.0</td>\n",
       "      <td>1</td>\n",
       "      <td>1.0</td>\n",
       "      <td>0</td>\n",
       "      <td>6</td>\n",
       "      <td>2</td>\n",
       "      <td>pname:rch_r_inst:1_ptype:pp_pstyle:m_i:6_j:2_zone:1</td>\n",
       "      <td>~    pname:rch_r_inst:1_ptype:pp_pstyle:m_i:6_j:2_zone:1    ~</td>\n",
       "      <td>...</td>\n",
       "      <td>data\\mumodel_pst\\rch_r_inst1pp.dat</td>\n",
       "      <td>rch_pp</td>\n",
       "      <td>1</td>\n",
       "      <td>0.0</td>\n",
       "      <td>factor</td>\n",
       "      <td>0.75</td>\n",
       "      <td>log</td>\n",
       "      <td>1.25</td>\n",
       "      <td>1.0</td>\n",
       "      <td>pilotpoint</td>\n",
       "    </tr>\n",
       "    <tr>\n",
       "      <th>pname:rch_r_inst:1_ptype:pp_pstyle:m_i:6_j:6_zone:1</th>\n",
       "      <td>pp_0003</td>\n",
       "      <td>3250.0</td>\n",
       "      <td>7250.0</td>\n",
       "      <td>1</td>\n",
       "      <td>1.0</td>\n",
       "      <td>0</td>\n",
       "      <td>6</td>\n",
       "      <td>6</td>\n",
       "      <td>pname:rch_r_inst:1_ptype:pp_pstyle:m_i:6_j:6_zone:1</td>\n",
       "      <td>~    pname:rch_r_inst:1_ptype:pp_pstyle:m_i:6_j:6_zone:1    ~</td>\n",
       "      <td>...</td>\n",
       "      <td>data\\mumodel_pst\\rch_r_inst1pp.dat</td>\n",
       "      <td>rch_pp</td>\n",
       "      <td>1</td>\n",
       "      <td>0.0</td>\n",
       "      <td>factor</td>\n",
       "      <td>0.75</td>\n",
       "      <td>log</td>\n",
       "      <td>1.25</td>\n",
       "      <td>1.0</td>\n",
       "      <td>pilotpoint</td>\n",
       "    </tr>\n",
       "    <tr>\n",
       "      <th>pname:rch_r_inst:1_ptype:pp_pstyle:m_i:10_j:2_zone:1</th>\n",
       "      <td>pp_0004</td>\n",
       "      <td>1250.0</td>\n",
       "      <td>5250.0</td>\n",
       "      <td>1</td>\n",
       "      <td>1.0</td>\n",
       "      <td>0</td>\n",
       "      <td>10</td>\n",
       "      <td>2</td>\n",
       "      <td>pname:rch_r_inst:1_ptype:pp_pstyle:m_i:10_j:2_zone:1</td>\n",
       "      <td>~    pname:rch_r_inst:1_ptype:pp_pstyle:m_i:10_j:2_zone:1    ~</td>\n",
       "      <td>...</td>\n",
       "      <td>data\\mumodel_pst\\rch_r_inst1pp.dat</td>\n",
       "      <td>rch_pp</td>\n",
       "      <td>1</td>\n",
       "      <td>0.0</td>\n",
       "      <td>factor</td>\n",
       "      <td>0.75</td>\n",
       "      <td>log</td>\n",
       "      <td>1.25</td>\n",
       "      <td>1.0</td>\n",
       "      <td>pilotpoint</td>\n",
       "    </tr>\n",
       "    <tr>\n",
       "      <th>pname:rch_r_inst:1_ptype:pp_pstyle:m_i:10_j:6_zone:1</th>\n",
       "      <td>pp_0005</td>\n",
       "      <td>3250.0</td>\n",
       "      <td>5250.0</td>\n",
       "      <td>1</td>\n",
       "      <td>1.0</td>\n",
       "      <td>0</td>\n",
       "      <td>10</td>\n",
       "      <td>6</td>\n",
       "      <td>pname:rch_r_inst:1_ptype:pp_pstyle:m_i:10_j:6_zone:1</td>\n",
       "      <td>~    pname:rch_r_inst:1_ptype:pp_pstyle:m_i:10_j:6_zone:1    ~</td>\n",
       "      <td>...</td>\n",
       "      <td>data\\mumodel_pst\\rch_r_inst1pp.dat</td>\n",
       "      <td>rch_pp</td>\n",
       "      <td>1</td>\n",
       "      <td>0.0</td>\n",
       "      <td>factor</td>\n",
       "      <td>0.75</td>\n",
       "      <td>log</td>\n",
       "      <td>1.25</td>\n",
       "      <td>1.0</td>\n",
       "      <td>pilotpoint</td>\n",
       "    </tr>\n",
       "    <tr>\n",
       "      <th>pname:rch_r_inst:1_ptype:pp_pstyle:m_i:14_j:2_zone:1</th>\n",
       "      <td>pp_0006</td>\n",
       "      <td>1250.0</td>\n",
       "      <td>3250.0</td>\n",
       "      <td>1</td>\n",
       "      <td>1.0</td>\n",
       "      <td>0</td>\n",
       "      <td>14</td>\n",
       "      <td>2</td>\n",
       "      <td>pname:rch_r_inst:1_ptype:pp_pstyle:m_i:14_j:2_zone:1</td>\n",
       "      <td>~    pname:rch_r_inst:1_ptype:pp_pstyle:m_i:14_j:2_zone:1    ~</td>\n",
       "      <td>...</td>\n",
       "      <td>data\\mumodel_pst\\rch_r_inst1pp.dat</td>\n",
       "      <td>rch_pp</td>\n",
       "      <td>1</td>\n",
       "      <td>0.0</td>\n",
       "      <td>factor</td>\n",
       "      <td>0.75</td>\n",
       "      <td>log</td>\n",
       "      <td>1.25</td>\n",
       "      <td>1.0</td>\n",
       "      <td>pilotpoint</td>\n",
       "    </tr>\n",
       "    <tr>\n",
       "      <th>pname:rch_r_inst:1_ptype:pp_pstyle:m_i:14_j:6_zone:1</th>\n",
       "      <td>pp_0007</td>\n",
       "      <td>3250.0</td>\n",
       "      <td>3250.0</td>\n",
       "      <td>1</td>\n",
       "      <td>1.0</td>\n",
       "      <td>0</td>\n",
       "      <td>14</td>\n",
       "      <td>6</td>\n",
       "      <td>pname:rch_r_inst:1_ptype:pp_pstyle:m_i:14_j:6_zone:1</td>\n",
       "      <td>~    pname:rch_r_inst:1_ptype:pp_pstyle:m_i:14_j:6_zone:1    ~</td>\n",
       "      <td>...</td>\n",
       "      <td>data\\mumodel_pst\\rch_r_inst1pp.dat</td>\n",
       "      <td>rch_pp</td>\n",
       "      <td>1</td>\n",
       "      <td>0.0</td>\n",
       "      <td>factor</td>\n",
       "      <td>0.75</td>\n",
       "      <td>log</td>\n",
       "      <td>1.25</td>\n",
       "      <td>1.0</td>\n",
       "      <td>pilotpoint</td>\n",
       "    </tr>\n",
       "    <tr>\n",
       "      <th>pname:rch_r_inst:1_ptype:pp_pstyle:m_i:18_j:2_zone:1</th>\n",
       "      <td>pp_0008</td>\n",
       "      <td>1250.0</td>\n",
       "      <td>1250.0</td>\n",
       "      <td>1</td>\n",
       "      <td>1.0</td>\n",
       "      <td>0</td>\n",
       "      <td>18</td>\n",
       "      <td>2</td>\n",
       "      <td>pname:rch_r_inst:1_ptype:pp_pstyle:m_i:18_j:2_zone:1</td>\n",
       "      <td>~    pname:rch_r_inst:1_ptype:pp_pstyle:m_i:18_j:2_zone:1    ~</td>\n",
       "      <td>...</td>\n",
       "      <td>data\\mumodel_pst\\rch_r_inst1pp.dat</td>\n",
       "      <td>rch_pp</td>\n",
       "      <td>1</td>\n",
       "      <td>0.0</td>\n",
       "      <td>factor</td>\n",
       "      <td>0.75</td>\n",
       "      <td>log</td>\n",
       "      <td>1.25</td>\n",
       "      <td>1.0</td>\n",
       "      <td>pilotpoint</td>\n",
       "    </tr>\n",
       "    <tr>\n",
       "      <th>pname:rch_r_inst:1_ptype:pp_pstyle:m_i:18_j:6_zone:1</th>\n",
       "      <td>pp_0009</td>\n",
       "      <td>3250.0</td>\n",
       "      <td>1250.0</td>\n",
       "      <td>1</td>\n",
       "      <td>1.0</td>\n",
       "      <td>0</td>\n",
       "      <td>18</td>\n",
       "      <td>6</td>\n",
       "      <td>pname:rch_r_inst:1_ptype:pp_pstyle:m_i:18_j:6_zone:1</td>\n",
       "      <td>~    pname:rch_r_inst:1_ptype:pp_pstyle:m_i:18_j:6_zone:1    ~</td>\n",
       "      <td>...</td>\n",
       "      <td>data\\mumodel_pst\\rch_r_inst1pp.dat</td>\n",
       "      <td>rch_pp</td>\n",
       "      <td>1</td>\n",
       "      <td>0.0</td>\n",
       "      <td>factor</td>\n",
       "      <td>0.75</td>\n",
       "      <td>log</td>\n",
       "      <td>1.25</td>\n",
       "      <td>1.0</td>\n",
       "      <td>pilotpoint</td>\n",
       "    </tr>\n",
       "  </tbody>\n",
       "</table>\n",
       "<p>10 rows × 21 columns</p>\n",
       "</div>"
      ],
      "text/plain": [
       "                                                         name       x       y  \\\n",
       "parnme                                                                          \n",
       "pname:rch_r_inst:1_ptype:pp_pstyle:m_i:2_j:2_zone:1   pp_0000  1250.0  9250.0   \n",
       "pname:rch_r_inst:1_ptype:pp_pstyle:m_i:2_j:6_zone:1   pp_0001  3250.0  9250.0   \n",
       "pname:rch_r_inst:1_ptype:pp_pstyle:m_i:6_j:2_zone:1   pp_0002  1250.0  7250.0   \n",
       "pname:rch_r_inst:1_ptype:pp_pstyle:m_i:6_j:6_zone:1   pp_0003  3250.0  7250.0   \n",
       "pname:rch_r_inst:1_ptype:pp_pstyle:m_i:10_j:2_zone:1  pp_0004  1250.0  5250.0   \n",
       "pname:rch_r_inst:1_ptype:pp_pstyle:m_i:10_j:6_zone:1  pp_0005  3250.0  5250.0   \n",
       "pname:rch_r_inst:1_ptype:pp_pstyle:m_i:14_j:2_zone:1  pp_0006  1250.0  3250.0   \n",
       "pname:rch_r_inst:1_ptype:pp_pstyle:m_i:14_j:6_zone:1  pp_0007  3250.0  3250.0   \n",
       "pname:rch_r_inst:1_ptype:pp_pstyle:m_i:18_j:2_zone:1  pp_0008  1250.0  1250.0   \n",
       "pname:rch_r_inst:1_ptype:pp_pstyle:m_i:18_j:6_zone:1  pp_0009  3250.0  1250.0   \n",
       "\n",
       "                                                      zone  parval1  k   i  j  \\\n",
       "parnme                                                                          \n",
       "pname:rch_r_inst:1_ptype:pp_pstyle:m_i:2_j:2_zone:1      1      1.0  0   2  2   \n",
       "pname:rch_r_inst:1_ptype:pp_pstyle:m_i:2_j:6_zone:1      1      1.0  0   2  6   \n",
       "pname:rch_r_inst:1_ptype:pp_pstyle:m_i:6_j:2_zone:1      1      1.0  0   6  2   \n",
       "pname:rch_r_inst:1_ptype:pp_pstyle:m_i:6_j:6_zone:1      1      1.0  0   6  6   \n",
       "pname:rch_r_inst:1_ptype:pp_pstyle:m_i:10_j:2_zone:1     1      1.0  0  10  2   \n",
       "pname:rch_r_inst:1_ptype:pp_pstyle:m_i:10_j:6_zone:1     1      1.0  0  10  6   \n",
       "pname:rch_r_inst:1_ptype:pp_pstyle:m_i:14_j:2_zone:1     1      1.0  0  14  2   \n",
       "pname:rch_r_inst:1_ptype:pp_pstyle:m_i:14_j:6_zone:1     1      1.0  0  14  6   \n",
       "pname:rch_r_inst:1_ptype:pp_pstyle:m_i:18_j:2_zone:1     1      1.0  0  18  2   \n",
       "pname:rch_r_inst:1_ptype:pp_pstyle:m_i:18_j:6_zone:1     1      1.0  0  18  6   \n",
       "\n",
       "                                                                                                    parnme  \\\n",
       "parnme                                                                                                       \n",
       "pname:rch_r_inst:1_ptype:pp_pstyle:m_i:2_j:2_zone:1    pname:rch_r_inst:1_ptype:pp_pstyle:m_i:2_j:2_zone:1   \n",
       "pname:rch_r_inst:1_ptype:pp_pstyle:m_i:2_j:6_zone:1    pname:rch_r_inst:1_ptype:pp_pstyle:m_i:2_j:6_zone:1   \n",
       "pname:rch_r_inst:1_ptype:pp_pstyle:m_i:6_j:2_zone:1    pname:rch_r_inst:1_ptype:pp_pstyle:m_i:6_j:2_zone:1   \n",
       "pname:rch_r_inst:1_ptype:pp_pstyle:m_i:6_j:6_zone:1    pname:rch_r_inst:1_ptype:pp_pstyle:m_i:6_j:6_zone:1   \n",
       "pname:rch_r_inst:1_ptype:pp_pstyle:m_i:10_j:2_zone:1  pname:rch_r_inst:1_ptype:pp_pstyle:m_i:10_j:2_zone:1   \n",
       "pname:rch_r_inst:1_ptype:pp_pstyle:m_i:10_j:6_zone:1  pname:rch_r_inst:1_ptype:pp_pstyle:m_i:10_j:6_zone:1   \n",
       "pname:rch_r_inst:1_ptype:pp_pstyle:m_i:14_j:2_zone:1  pname:rch_r_inst:1_ptype:pp_pstyle:m_i:14_j:2_zone:1   \n",
       "pname:rch_r_inst:1_ptype:pp_pstyle:m_i:14_j:6_zone:1  pname:rch_r_inst:1_ptype:pp_pstyle:m_i:14_j:6_zone:1   \n",
       "pname:rch_r_inst:1_ptype:pp_pstyle:m_i:18_j:2_zone:1  pname:rch_r_inst:1_ptype:pp_pstyle:m_i:18_j:2_zone:1   \n",
       "pname:rch_r_inst:1_ptype:pp_pstyle:m_i:18_j:6_zone:1  pname:rch_r_inst:1_ptype:pp_pstyle:m_i:18_j:6_zone:1   \n",
       "\n",
       "                                                                                                                 tpl  \\\n",
       "parnme                                                                                                                 \n",
       "pname:rch_r_inst:1_ptype:pp_pstyle:m_i:2_j:2_zone:1    ~    pname:rch_r_inst:1_ptype:pp_pstyle:m_i:2_j:2_zone:1    ~   \n",
       "pname:rch_r_inst:1_ptype:pp_pstyle:m_i:2_j:6_zone:1    ~    pname:rch_r_inst:1_ptype:pp_pstyle:m_i:2_j:6_zone:1    ~   \n",
       "pname:rch_r_inst:1_ptype:pp_pstyle:m_i:6_j:2_zone:1    ~    pname:rch_r_inst:1_ptype:pp_pstyle:m_i:6_j:2_zone:1    ~   \n",
       "pname:rch_r_inst:1_ptype:pp_pstyle:m_i:6_j:6_zone:1    ~    pname:rch_r_inst:1_ptype:pp_pstyle:m_i:6_j:6_zone:1    ~   \n",
       "pname:rch_r_inst:1_ptype:pp_pstyle:m_i:10_j:2_zone:1  ~    pname:rch_r_inst:1_ptype:pp_pstyle:m_i:10_j:2_zone:1    ~   \n",
       "pname:rch_r_inst:1_ptype:pp_pstyle:m_i:10_j:6_zone:1  ~    pname:rch_r_inst:1_ptype:pp_pstyle:m_i:10_j:6_zone:1    ~   \n",
       "pname:rch_r_inst:1_ptype:pp_pstyle:m_i:14_j:2_zone:1  ~    pname:rch_r_inst:1_ptype:pp_pstyle:m_i:14_j:2_zone:1    ~   \n",
       "pname:rch_r_inst:1_ptype:pp_pstyle:m_i:14_j:6_zone:1  ~    pname:rch_r_inst:1_ptype:pp_pstyle:m_i:14_j:6_zone:1    ~   \n",
       "pname:rch_r_inst:1_ptype:pp_pstyle:m_i:18_j:2_zone:1  ~    pname:rch_r_inst:1_ptype:pp_pstyle:m_i:18_j:2_zone:1    ~   \n",
       "pname:rch_r_inst:1_ptype:pp_pstyle:m_i:18_j:6_zone:1  ~    pname:rch_r_inst:1_ptype:pp_pstyle:m_i:18_j:6_zone:1    ~   \n",
       "\n",
       "                                                      ...  \\\n",
       "parnme                                                ...   \n",
       "pname:rch_r_inst:1_ptype:pp_pstyle:m_i:2_j:2_zone:1   ...   \n",
       "pname:rch_r_inst:1_ptype:pp_pstyle:m_i:2_j:6_zone:1   ...   \n",
       "pname:rch_r_inst:1_ptype:pp_pstyle:m_i:6_j:2_zone:1   ...   \n",
       "pname:rch_r_inst:1_ptype:pp_pstyle:m_i:6_j:6_zone:1   ...   \n",
       "pname:rch_r_inst:1_ptype:pp_pstyle:m_i:10_j:2_zone:1  ...   \n",
       "pname:rch_r_inst:1_ptype:pp_pstyle:m_i:10_j:6_zone:1  ...   \n",
       "pname:rch_r_inst:1_ptype:pp_pstyle:m_i:14_j:2_zone:1  ...   \n",
       "pname:rch_r_inst:1_ptype:pp_pstyle:m_i:14_j:6_zone:1  ...   \n",
       "pname:rch_r_inst:1_ptype:pp_pstyle:m_i:18_j:2_zone:1  ...   \n",
       "pname:rch_r_inst:1_ptype:pp_pstyle:m_i:18_j:6_zone:1  ...   \n",
       "\n",
       "                                                                             pp_filename  \\\n",
       "parnme                                                                                     \n",
       "pname:rch_r_inst:1_ptype:pp_pstyle:m_i:2_j:2_zone:1   data\\mumodel_pst\\rch_r_inst1pp.dat   \n",
       "pname:rch_r_inst:1_ptype:pp_pstyle:m_i:2_j:6_zone:1   data\\mumodel_pst\\rch_r_inst1pp.dat   \n",
       "pname:rch_r_inst:1_ptype:pp_pstyle:m_i:6_j:2_zone:1   data\\mumodel_pst\\rch_r_inst1pp.dat   \n",
       "pname:rch_r_inst:1_ptype:pp_pstyle:m_i:6_j:6_zone:1   data\\mumodel_pst\\rch_r_inst1pp.dat   \n",
       "pname:rch_r_inst:1_ptype:pp_pstyle:m_i:10_j:2_zone:1  data\\mumodel_pst\\rch_r_inst1pp.dat   \n",
       "pname:rch_r_inst:1_ptype:pp_pstyle:m_i:10_j:6_zone:1  data\\mumodel_pst\\rch_r_inst1pp.dat   \n",
       "pname:rch_r_inst:1_ptype:pp_pstyle:m_i:14_j:2_zone:1  data\\mumodel_pst\\rch_r_inst1pp.dat   \n",
       "pname:rch_r_inst:1_ptype:pp_pstyle:m_i:14_j:6_zone:1  data\\mumodel_pst\\rch_r_inst1pp.dat   \n",
       "pname:rch_r_inst:1_ptype:pp_pstyle:m_i:18_j:2_zone:1  data\\mumodel_pst\\rch_r_inst1pp.dat   \n",
       "pname:rch_r_inst:1_ptype:pp_pstyle:m_i:18_j:6_zone:1  data\\mumodel_pst\\rch_r_inst1pp.dat   \n",
       "\n",
       "                                                       pargp dercom  offset  \\\n",
       "parnme                                                                        \n",
       "pname:rch_r_inst:1_ptype:pp_pstyle:m_i:2_j:2_zone:1   rch_pp      1     0.0   \n",
       "pname:rch_r_inst:1_ptype:pp_pstyle:m_i:2_j:6_zone:1   rch_pp      1     0.0   \n",
       "pname:rch_r_inst:1_ptype:pp_pstyle:m_i:6_j:2_zone:1   rch_pp      1     0.0   \n",
       "pname:rch_r_inst:1_ptype:pp_pstyle:m_i:6_j:6_zone:1   rch_pp      1     0.0   \n",
       "pname:rch_r_inst:1_ptype:pp_pstyle:m_i:10_j:2_zone:1  rch_pp      1     0.0   \n",
       "pname:rch_r_inst:1_ptype:pp_pstyle:m_i:10_j:6_zone:1  rch_pp      1     0.0   \n",
       "pname:rch_r_inst:1_ptype:pp_pstyle:m_i:14_j:2_zone:1  rch_pp      1     0.0   \n",
       "pname:rch_r_inst:1_ptype:pp_pstyle:m_i:14_j:6_zone:1  rch_pp      1     0.0   \n",
       "pname:rch_r_inst:1_ptype:pp_pstyle:m_i:18_j:2_zone:1  rch_pp      1     0.0   \n",
       "pname:rch_r_inst:1_ptype:pp_pstyle:m_i:18_j:6_zone:1  rch_pp      1     0.0   \n",
       "\n",
       "                                                      parchglim parlbnd  \\\n",
       "parnme                                                                    \n",
       "pname:rch_r_inst:1_ptype:pp_pstyle:m_i:2_j:2_zone:1      factor    0.75   \n",
       "pname:rch_r_inst:1_ptype:pp_pstyle:m_i:2_j:6_zone:1      factor    0.75   \n",
       "pname:rch_r_inst:1_ptype:pp_pstyle:m_i:6_j:2_zone:1      factor    0.75   \n",
       "pname:rch_r_inst:1_ptype:pp_pstyle:m_i:6_j:6_zone:1      factor    0.75   \n",
       "pname:rch_r_inst:1_ptype:pp_pstyle:m_i:10_j:2_zone:1     factor    0.75   \n",
       "pname:rch_r_inst:1_ptype:pp_pstyle:m_i:10_j:6_zone:1     factor    0.75   \n",
       "pname:rch_r_inst:1_ptype:pp_pstyle:m_i:14_j:2_zone:1     factor    0.75   \n",
       "pname:rch_r_inst:1_ptype:pp_pstyle:m_i:14_j:6_zone:1     factor    0.75   \n",
       "pname:rch_r_inst:1_ptype:pp_pstyle:m_i:18_j:2_zone:1     factor    0.75   \n",
       "pname:rch_r_inst:1_ptype:pp_pstyle:m_i:18_j:6_zone:1     factor    0.75   \n",
       "\n",
       "                                                      partrans parubnd  scale  \\\n",
       "parnme                                                                          \n",
       "pname:rch_r_inst:1_ptype:pp_pstyle:m_i:2_j:2_zone:1        log    1.25    1.0   \n",
       "pname:rch_r_inst:1_ptype:pp_pstyle:m_i:2_j:6_zone:1        log    1.25    1.0   \n",
       "pname:rch_r_inst:1_ptype:pp_pstyle:m_i:6_j:2_zone:1        log    1.25    1.0   \n",
       "pname:rch_r_inst:1_ptype:pp_pstyle:m_i:6_j:6_zone:1        log    1.25    1.0   \n",
       "pname:rch_r_inst:1_ptype:pp_pstyle:m_i:10_j:2_zone:1       log    1.25    1.0   \n",
       "pname:rch_r_inst:1_ptype:pp_pstyle:m_i:10_j:6_zone:1       log    1.25    1.0   \n",
       "pname:rch_r_inst:1_ptype:pp_pstyle:m_i:14_j:2_zone:1       log    1.25    1.0   \n",
       "pname:rch_r_inst:1_ptype:pp_pstyle:m_i:14_j:6_zone:1       log    1.25    1.0   \n",
       "pname:rch_r_inst:1_ptype:pp_pstyle:m_i:18_j:2_zone:1       log    1.25    1.0   \n",
       "pname:rch_r_inst:1_ptype:pp_pstyle:m_i:18_j:6_zone:1       log    1.25    1.0   \n",
       "\n",
       "                                                         partype  \n",
       "parnme                                                            \n",
       "pname:rch_r_inst:1_ptype:pp_pstyle:m_i:2_j:2_zone:1   pilotpoint  \n",
       "pname:rch_r_inst:1_ptype:pp_pstyle:m_i:2_j:6_zone:1   pilotpoint  \n",
       "pname:rch_r_inst:1_ptype:pp_pstyle:m_i:6_j:2_zone:1   pilotpoint  \n",
       "pname:rch_r_inst:1_ptype:pp_pstyle:m_i:6_j:6_zone:1   pilotpoint  \n",
       "pname:rch_r_inst:1_ptype:pp_pstyle:m_i:10_j:2_zone:1  pilotpoint  \n",
       "pname:rch_r_inst:1_ptype:pp_pstyle:m_i:10_j:6_zone:1  pilotpoint  \n",
       "pname:rch_r_inst:1_ptype:pp_pstyle:m_i:14_j:2_zone:1  pilotpoint  \n",
       "pname:rch_r_inst:1_ptype:pp_pstyle:m_i:14_j:6_zone:1  pilotpoint  \n",
       "pname:rch_r_inst:1_ptype:pp_pstyle:m_i:18_j:2_zone:1  pilotpoint  \n",
       "pname:rch_r_inst:1_ptype:pp_pstyle:m_i:18_j:6_zone:1  pilotpoint  \n",
       "\n",
       "[10 rows x 21 columns]"
      ]
     },
     "execution_count": 13,
     "metadata": {},
     "output_type": "execute_result"
    }
   ],
   "source": [
    "filenames=[x for x in os.listdir(pst_dir) if x.startswith(\"mumodel.rch_recharge_\")]\n",
    "\n",
    "pf.add_parameters(filenames, par_type=\"constant\", upper_bound=1.25, lower_bound=0.75,\n",
    "                  par_name_base='rch_r', pargp=\"rch_cn\")\n",
    "pf.add_parameters(filenames, par_type=\"pilotpoint\", upper_bound=1.25, lower_bound=0.75,\n",
    "                  par_name_base='rch_r', pargp=\"rch_pp\", pp_space=4, geostruct=gs_pp)"
   ]
  },
  {
   "cell_type": "markdown",
   "metadata": {},
   "source": [
    "## add observations to track"
   ]
  },
  {
   "cell_type": "markdown",
   "metadata": {},
   "source": [
    "#### the \"hds.csv\" output file was created in a previous notebook when instantiating the OBS package. The output file format has simulation time in the first column, then simulated head timeseries values for 2 locations in the next 2 columns"
   ]
  },
  {
   "cell_type": "code",
   "execution_count": 14,
   "metadata": {},
   "outputs": [
    {
     "name": "stdout",
     "output_type": "stream",
     "text": [
      "2024-03-30 15:56:52.071362 starting: adding observations from output file hds.csv\n",
      "2024-03-30 15:56:52.071362 starting: adding observations from tabular output file '['hds.csv']'\n",
      "2024-03-30 15:56:52.071362 starting: reading list-style file: data\\mumodel_pst\\hds.csv\n",
      "2024-03-30 15:56:52.092683 finished: reading list-style file: data\\mumodel_pst\\hds.csv took: 0:00:00.021321\n",
      "2024-03-30 15:56:52.098009 starting: building insfile for tabular output file hds.csv\n",
      "2024-03-30 15:56:52.107536 finished: building insfile for tabular output file hds.csv took: 0:00:00.009527\n",
      "2024-03-30 15:56:52.107536 starting: adding observation from instruction file 'data\\mumodel_pst\\hds.csv.ins'\n",
      "2024-03-30 15:56:52.118177 finished: adding observation from instruction file 'data\\mumodel_pst\\hds.csv.ins' took: 0:00:00.010641\n",
      "2024-03-30 15:56:52.133816 finished: adding observations from tabular output file '['hds.csv']' took: 0:00:00.062454\n",
      "2024-03-30 15:56:52.133816 finished: adding observations from output file hds.csv took: 0:00:00.062454\n"
     ]
    },
    {
     "name": "stderr",
     "output_type": "stream",
     "text": [
      "C:\\A\\envs\\pyclass\\Lib\\site-packages\\pyemu\\utils\\pst_from.py:1484: FutureWarning: errors='ignore' is deprecated and will raise in a future version. Use to_numeric without passing `errors` and catch exceptions explicitly instead\n",
      "C:\\A\\envs\\pyclass\\Lib\\site-packages\\pyemu\\utils\\pst_from.py:1502: FutureWarning: errors='ignore' is deprecated and will raise in a future version. Use to_numeric without passing `errors` and catch exceptions explicitly instead\n"
     ]
    }
   ],
   "source": [
    "hds_df = pf.add_observations(filename=\"hds.csv\", index_cols=0, use_cols=[1, 2], obsgp=\"hds\")"
   ]
  },
  {
   "cell_type": "markdown",
   "metadata": {},
   "source": [
    "#### the PstFrom method add_observations() creates a pandas dataframe that we can clean up to name the observations and groups according to our preferred conventions"
   ]
  },
  {
   "cell_type": "code",
   "execution_count": 15,
   "metadata": {},
   "outputs": [],
   "source": [
    "hds_df.loc[:, \"time\"] = hds_df.loc[:, \"obsnme\"].apply(lambda x: float(x.split(\":\")[-1]))"
   ]
  },
  {
   "cell_type": "code",
   "execution_count": 16,
   "metadata": {},
   "outputs": [],
   "source": [
    "hds_df.loc[:, \"datetime\"] = hds_df.loc[:, \"time\"].apply(lambda x: pd.to_datetime(\"20200101\") + np.timedelta64(int(x), \"D\"))"
   ]
  },
  {
   "cell_type": "code",
   "execution_count": 17,
   "metadata": {},
   "outputs": [],
   "source": [
    "hds_df.loc[:, \"obgnme\"] = hds_df.loc[:, \"obsnme\"].apply(lambda x: x.split(\"usecol:\")[-1].split(\"_time\")[0])"
   ]
  },
  {
   "cell_type": "markdown",
   "metadata": {},
   "source": [
    "#### lets pretend the first year of the model is a historical period where we want to match simulated outputs to observed measurements, and everything after that is a forecast period. We assign an observation weight of zero to all simulated values in the forecast period"
   ]
  },
  {
   "cell_type": "code",
   "execution_count": 18,
   "metadata": {},
   "outputs": [],
   "source": [
    "hds_df.loc[hds_df[\"datetime\"].apply(lambda x: x.year>2020), \"weight\"] = 0."
   ]
  },
  {
   "cell_type": "code",
   "execution_count": 19,
   "metadata": {},
   "outputs": [],
   "source": [
    "hds_df.loc[:, \"datetime1\"] = hds_df.loc[:, \"datetime\"].apply(lambda x: x.strftime(\"%Y%m%d\"))"
   ]
  },
  {
   "cell_type": "code",
   "execution_count": 20,
   "metadata": {},
   "outputs": [],
   "source": [
    "hds_df.drop([\"time\", \"datetime\"], axis=1, inplace=True)"
   ]
  },
  {
   "cell_type": "code",
   "execution_count": 21,
   "metadata": {},
   "outputs": [],
   "source": [
    "hds_df.rename(columns={\"datetime1\":\"datetime\"}, inplace=True)"
   ]
  },
  {
   "cell_type": "code",
   "execution_count": 22,
   "metadata": {},
   "outputs": [],
   "source": [
    "hds_df.sort_values(\"obsnme\", inplace=True)"
   ]
  },
  {
   "cell_type": "markdown",
   "metadata": {},
   "source": [
    "## PYEMU will write a python script that runs the model after every parameter adjustment. We need to tell it how to run our modflow model. MODFLOW 6 is super simple in this regard, just call the .exe file name within the model folder and it will find the model name file"
   ]
  },
  {
   "cell_type": "code",
   "execution_count": 23,
   "metadata": {},
   "outputs": [],
   "source": [
    "pf.mod_sys_cmds.append(\"mf6\")"
   ]
  },
  {
   "cell_type": "markdown",
   "metadata": {},
   "source": [
    "## BUILD THE DANG PEST INPUT FILES"
   ]
  },
  {
   "cell_type": "code",
   "execution_count": 24,
   "metadata": {},
   "outputs": [
    {
     "name": "stdout",
     "output_type": "stream",
     "text": [
      "noptmax:0, npar_adj:411, nnz_obs:192\n",
      "2024-03-30 16:02:15.891264 forward_run line:pyemu.os_utils.run(r'mf6')\n",
      "\n"
     ]
    },
    {
     "name": "stderr",
     "output_type": "stream",
     "text": [
      "C:\\A\\envs\\pyclass\\Lib\\site-packages\\pyemu\\pst\\pst_handler.py:1362: FutureWarning: The behavior of DataFrame concatenation with empty or all-NA entries is deprecated. In a future version, this will no longer exclude empty or all-NA columns when determining the result dtypes. To retain the old behavior, exclude the relevant entries before the concat operation.\n",
      "C:\\A\\envs\\pyclass\\Lib\\site-packages\\pyemu\\pst\\pst_handler.py:3866: FutureWarning: Setting an item of incompatible dtype is deprecated and will raise in a future error of pandas. Value '['npf' 'npf' 'npf' 'npf' 'npf' 'npf' 'npf' 'npf' 'npf' 'npf' 'npf' 'npf'\n",
      " 'npf' 'npf' 'npf' 'npf' 'npf' 'npf' 'npf' 'npf' 'npf' 'npf' 'npf' 'npf'\n",
      " 'npf' 'npf' 'npf' 'npf' 'npf' 'npf' 'npf' 'npf' 'npf' 'npf' 'npf' 'npf'\n",
      " 'npf' 'npf' 'npf' 'npf' 'npf' 'npf' 'npf' 'npf' 'npf' 'npf' 'npf' 'npf'\n",
      " 'npf' 'npf' 'npf' 'npf' 'npf' 'npf' 'npf' 'npf' 'npf' 'npf' 'npf' 'npf'\n",
      " 'npf' 'npf' 'npf' 'npf' 'npf' 'npf' 'npf' 'npf' 'npf' 'npf' 'npf' 'npf'\n",
      " 'npf' 'npf' 'npf' 'npf' 'npf' 'npf' 'npf' 'npf' 'npf' 'npf' 'npf' 'npf'\n",
      " 'npf' 'npf' 'npf' 'npf' 'npf' 'npf' 'npf' 'npf' 'npf' 'npf' 'npf' 'npf'\n",
      " 'npf' 'npf' 'npf' 'npf' 'npf' 'npf' 'npf' 'npf' 'npf' 'npf' 'npf' 'npf'\n",
      " 'npf' 'npf' 'npf' 'npf' 'npf' 'npf' 'npf' 'npf' 'npf' 'npf' 'npf' 'npf'\n",
      " 'npf' 'npf' 'npf' 'npf' 'npf' 'npf' 'npf' 'npf' 'npf' 'npf' 'npf' 'npf'\n",
      " 'npf' 'npf' 'npf' 'npf' 'npf' 'npf' 'npf' 'npf' 'npf' 'npf' 'npf' 'npf'\n",
      " 'npf' 'npf' 'npf' 'npf' 'npf' 'npf' 'npf' 'npf' 'npf' 'npf' 'npf' 'npf'\n",
      " 'npf' 'npf' 'npf' 'npf' 'npf' 'npf' 'npf' 'npf' 'npf' 'npf' 'npf' 'npf'\n",
      " 'npf' 'npf' 'npf' 'npf' 'npf' 'npf' 'npf' 'npf' 'npf' 'npf' 'npf' 'npf'\n",
      " 'npf' 'npf' 'npf' 'npf' 'npf' 'npf' 'npf' 'npf' 'npf' 'npf' 'npf' 'npf'\n",
      " 'npf' 'npf' 'npf' 'npf' 'npf' 'npf' 'npf' 'npf' 'sto' 'sto' 'sto' 'sto'\n",
      " 'sto' 'sto' 'sto' 'sto' 'sto' 'sto' 'sto' 'sto' 'sto' 'sto' 'sto' 'sto'\n",
      " 'sto' 'sto' 'sto' 'sto' 'sto' 'sto' 'sto' 'sto' 'sto' 'sto' 'sto' 'sto'\n",
      " 'sto' 'sto' 'sto' 'sto' 'sto' 'sto' 'sto' 'sto' 'sto' 'sto' 'sto' 'sto'\n",
      " 'sto' 'sto' 'sto' 'sto' 'sto' 'sto' 'sto' 'sto' 'sto' 'sto' 'sto' 'sto'\n",
      " 'sto' 'sto' 'sto' 'sto' 'sto' 'sto' 'sto' 'sto' 'sto' 'sto' 'sto' 'sto'\n",
      " 'sto' 'sto' 'sto' 'sto' 'sto' 'sto' 'sto' 'sto' 'sto' 'sto' 'sto' 'sto'\n",
      " 'sto' 'sto' 'sto' 'sto' 'sto' 'sto' 'sto' 'sto' 'sto' 'sto' 'sto' 'sto'\n",
      " 'sto' 'sto' 'sto' 'sto' 'sto' 'sto' 'sto' 'sto' 'sto' 'sto' 'sto' 'sto'\n",
      " 'sto' 'sto' 'sto' 'sto' 'sto' 'sto' 'sto' 'sto' 'sto' 'sto' 'sto' 'sto'\n",
      " 'sto' 'sto' 'sto' 'sto' 'sto' 'sto' 'sto' 'sto' 'sto' 'sto' 'sto' 'sto'\n",
      " 'sto' 'sto' 'sto' 'sto' 'sto' 'sto' 'sto' 'sto' 'sto' 'sto' 'sto' 'sto'\n",
      " 'sto' 'sto' 'sto' 'sto' 'sto' 'sto' 'sto' 'sto' 'sto' 'sto' 'sto' 'sto'\n",
      " 'sto' 'sto' 'sto' 'sto' 'sto' 'sto' 'sto' 'sto' 'sto' 'sto' 'sto' 'sto'\n",
      " 'sto' 'sto' 'sto' 'sto' 'sto' 'sto' 'sto' 'sto' 'sto' 'sto' 'sto' 'sto'\n",
      " 'sto' 'sto' 'sto' 'sto' 'sto' 'sto' 'sto' 'sto' 'sto' 'sto' 'sto' 'sto'\n",
      " 'sto' 'sto' 'sto' 'sto' 'sto' 'sto' 'sto' 'sto' 'sto' 'sto' 'sto' 'sto'\n",
      " 'sto' 'sto' 'sto' 'sto' 'rch' 'rch' 'rch' 'rch' 'rch' 'rch' 'rch' 'rch'\n",
      " 'rch' 'rch' 'rch']' has dtype incompatible with float64, please explicitly cast to a compatible dtype first.\n",
      "C:\\A\\envs\\pyclass\\Lib\\site-packages\\pyemu\\pst\\pst_handler.py:3866: FutureWarning: Setting an item of incompatible dtype is deprecated and will raise in a future error of pandas. Value '['0' '1' '1' '1' '1' '1' '1' '1' '1' '1' '1' '2' '2' '2' '2' '2' '2' '2'\n",
      " '2' '2' '2' '2' '2' '2' '2' '2' '2' '2' '2' '2' '2' '2' '2' '2' '2' '2'\n",
      " '2' '2' '2' '2' '2' '2' '2' '2' '2' '2' '2' '2' '2' '2' '2' '2' '2' '2'\n",
      " '2' '2' '2' '2' '2' '2' '2' '2' '2' '2' '2' '2' '2' '2' '2' '2' '2' '2'\n",
      " '2' '2' '2' '2' '2' '2' '2' '2' '2' '2' '2' '2' '2' '2' '2' '2' '2' '2'\n",
      " '2' '2' '2' '2' '2' '2' '2' '2' '2' '2' '2' '2' '2' '2' '2' '2' '2' '2'\n",
      " '2' '2' '2' '2' '2' '2' '2' '2' '2' '2' '2' '2' '2' '2' '2' '2' '2' '2'\n",
      " '2' '2' '2' '2' '2' '2' '2' '2' '2' '2' '2' '2' '2' '2' '2' '2' '2' '2'\n",
      " '2' '2' '2' '2' '2' '2' '2' '2' '2' '2' '2' '2' '2' '2' '2' '2' '2' '2'\n",
      " '2' '2' '2' '2' '2' '2' '2' '2' '2' '2' '2' '2' '2' '2' '2' '2' '2' '2'\n",
      " '2' '2' '2' '2' '2' '2' '2' '2' '2' '2' '2' '2' '2' '2' '2' '2' '2' '2'\n",
      " '2' '2' '0' '1' '1' '1' '1' '1' '1' '1' '1' '1' '1' '2' '2' '2' '2' '2'\n",
      " '2' '2' '2' '2' '2' '2' '2' '2' '2' '2' '2' '2' '2' '2' '2' '2' '2' '2'\n",
      " '2' '2' '2' '2' '2' '2' '2' '2' '2' '2' '2' '2' '2' '2' '2' '2' '2' '2'\n",
      " '2' '2' '2' '2' '2' '2' '2' '2' '2' '2' '2' '2' '2' '2' '2' '2' '2' '2'\n",
      " '2' '2' '2' '2' '2' '2' '2' '2' '2' '2' '2' '2' '2' '2' '2' '2' '2' '2'\n",
      " '2' '2' '2' '2' '2' '2' '2' '2' '2' '2' '2' '2' '2' '2' '2' '2' '2' '2'\n",
      " '2' '2' '2' '2' '2' '2' '2' '2' '2' '2' '2' '2' '2' '2' '2' '2' '2' '2'\n",
      " '2' '2' '2' '2' '2' '2' '2' '2' '2' '2' '2' '2' '2' '2' '2' '2' '2' '2'\n",
      " '2' '2' '2' '2' '2' '2' '2' '2' '2' '2' '2' '2' '2' '2' '2' '2' '2' '2'\n",
      " '2' '2' '2' '2' '2' '2' '2' '2' '2' '2' '2' '2' '2' '2' '2' '2' '2' '2'\n",
      " '2' '2' '2' '2' '2' '2' '2' '2' '2' '2' '2' '2' '2' '2' '2' '2' '2' '2'\n",
      " '2' '2' '2' '2' '0' '1' '1' '1' '1' '1' '1' '1' '1' '1' '1']' has dtype incompatible with float64, please explicitly cast to a compatible dtype first.\n",
      "C:\\A\\envs\\pyclass\\Lib\\site-packages\\pyemu\\pst\\pst_handler.py:3866: FutureWarning: Setting an item of incompatible dtype is deprecated and will raise in a future error of pandas. Value '['cn' 'pp' 'pp' 'pp' 'pp' 'pp' 'pp' 'pp' 'pp' 'pp' 'pp' 'gr' 'gr' 'gr'\n",
      " 'gr' 'gr' 'gr' 'gr' 'gr' 'gr' 'gr' 'gr' 'gr' 'gr' 'gr' 'gr' 'gr' 'gr'\n",
      " 'gr' 'gr' 'gr' 'gr' 'gr' 'gr' 'gr' 'gr' 'gr' 'gr' 'gr' 'gr' 'gr' 'gr'\n",
      " 'gr' 'gr' 'gr' 'gr' 'gr' 'gr' 'gr' 'gr' 'gr' 'gr' 'gr' 'gr' 'gr' 'gr'\n",
      " 'gr' 'gr' 'gr' 'gr' 'gr' 'gr' 'gr' 'gr' 'gr' 'gr' 'gr' 'gr' 'gr' 'gr'\n",
      " 'gr' 'gr' 'gr' 'gr' 'gr' 'gr' 'gr' 'gr' 'gr' 'gr' 'gr' 'gr' 'gr' 'gr'\n",
      " 'gr' 'gr' 'gr' 'gr' 'gr' 'gr' 'gr' 'gr' 'gr' 'gr' 'gr' 'gr' 'gr' 'gr'\n",
      " 'gr' 'gr' 'gr' 'gr' 'gr' 'gr' 'gr' 'gr' 'gr' 'gr' 'gr' 'gr' 'gr' 'gr'\n",
      " 'gr' 'gr' 'gr' 'gr' 'gr' 'gr' 'gr' 'gr' 'gr' 'gr' 'gr' 'gr' 'gr' 'gr'\n",
      " 'gr' 'gr' 'gr' 'gr' 'gr' 'gr' 'gr' 'gr' 'gr' 'gr' 'gr' 'gr' 'gr' 'gr'\n",
      " 'gr' 'gr' 'gr' 'gr' 'gr' 'gr' 'gr' 'gr' 'gr' 'gr' 'gr' 'gr' 'gr' 'gr'\n",
      " 'gr' 'gr' 'gr' 'gr' 'gr' 'gr' 'gr' 'gr' 'gr' 'gr' 'gr' 'gr' 'gr' 'gr'\n",
      " 'gr' 'gr' 'gr' 'gr' 'gr' 'gr' 'gr' 'gr' 'gr' 'gr' 'gr' 'gr' 'gr' 'gr'\n",
      " 'gr' 'gr' 'gr' 'gr' 'gr' 'gr' 'gr' 'gr' 'gr' 'gr' 'gr' 'gr' 'gr' 'gr'\n",
      " 'gr' 'gr' 'gr' 'gr' 'cn' 'pp' 'pp' 'pp' 'pp' 'pp' 'pp' 'pp' 'pp' 'pp'\n",
      " 'pp' 'gr' 'gr' 'gr' 'gr' 'gr' 'gr' 'gr' 'gr' 'gr' 'gr' 'gr' 'gr' 'gr'\n",
      " 'gr' 'gr' 'gr' 'gr' 'gr' 'gr' 'gr' 'gr' 'gr' 'gr' 'gr' 'gr' 'gr' 'gr'\n",
      " 'gr' 'gr' 'gr' 'gr' 'gr' 'gr' 'gr' 'gr' 'gr' 'gr' 'gr' 'gr' 'gr' 'gr'\n",
      " 'gr' 'gr' 'gr' 'gr' 'gr' 'gr' 'gr' 'gr' 'gr' 'gr' 'gr' 'gr' 'gr' 'gr'\n",
      " 'gr' 'gr' 'gr' 'gr' 'gr' 'gr' 'gr' 'gr' 'gr' 'gr' 'gr' 'gr' 'gr' 'gr'\n",
      " 'gr' 'gr' 'gr' 'gr' 'gr' 'gr' 'gr' 'gr' 'gr' 'gr' 'gr' 'gr' 'gr' 'gr'\n",
      " 'gr' 'gr' 'gr' 'gr' 'gr' 'gr' 'gr' 'gr' 'gr' 'gr' 'gr' 'gr' 'gr' 'gr'\n",
      " 'gr' 'gr' 'gr' 'gr' 'gr' 'gr' 'gr' 'gr' 'gr' 'gr' 'gr' 'gr' 'gr' 'gr'\n",
      " 'gr' 'gr' 'gr' 'gr' 'gr' 'gr' 'gr' 'gr' 'gr' 'gr' 'gr' 'gr' 'gr' 'gr'\n",
      " 'gr' 'gr' 'gr' 'gr' 'gr' 'gr' 'gr' 'gr' 'gr' 'gr' 'gr' 'gr' 'gr' 'gr'\n",
      " 'gr' 'gr' 'gr' 'gr' 'gr' 'gr' 'gr' 'gr' 'gr' 'gr' 'gr' 'gr' 'gr' 'gr'\n",
      " 'gr' 'gr' 'gr' 'gr' 'gr' 'gr' 'gr' 'gr' 'gr' 'gr' 'gr' 'gr' 'gr' 'gr'\n",
      " 'gr' 'gr' 'gr' 'gr' 'gr' 'gr' 'gr' 'gr' 'gr' 'gr' 'gr' 'gr' 'gr' 'gr'\n",
      " 'gr' 'gr' 'gr' 'gr' 'gr' 'gr' 'gr' 'gr' 'cn' 'pp' 'pp' 'pp' 'pp' 'pp'\n",
      " 'pp' 'pp' 'pp' 'pp' 'pp']' has dtype incompatible with float64, please explicitly cast to a compatible dtype first.\n",
      "C:\\A\\envs\\pyclass\\Lib\\site-packages\\pyemu\\pst\\pst_handler.py:3866: FutureWarning: Setting an item of incompatible dtype is deprecated and will raise in a future error of pandas. Value '['m' 'm' 'm' 'm' 'm' 'm' 'm' 'm' 'm' 'm' 'm' 'm' 'm' 'm' 'm' 'm' 'm' 'm'\n",
      " 'm' 'm' 'm' 'm' 'm' 'm' 'm' 'm' 'm' 'm' 'm' 'm' 'm' 'm' 'm' 'm' 'm' 'm'\n",
      " 'm' 'm' 'm' 'm' 'm' 'm' 'm' 'm' 'm' 'm' 'm' 'm' 'm' 'm' 'm' 'm' 'm' 'm'\n",
      " 'm' 'm' 'm' 'm' 'm' 'm' 'm' 'm' 'm' 'm' 'm' 'm' 'm' 'm' 'm' 'm' 'm' 'm'\n",
      " 'm' 'm' 'm' 'm' 'm' 'm' 'm' 'm' 'm' 'm' 'm' 'm' 'm' 'm' 'm' 'm' 'm' 'm'\n",
      " 'm' 'm' 'm' 'm' 'm' 'm' 'm' 'm' 'm' 'm' 'm' 'm' 'm' 'm' 'm' 'm' 'm' 'm'\n",
      " 'm' 'm' 'm' 'm' 'm' 'm' 'm' 'm' 'm' 'm' 'm' 'm' 'm' 'm' 'm' 'm' 'm' 'm'\n",
      " 'm' 'm' 'm' 'm' 'm' 'm' 'm' 'm' 'm' 'm' 'm' 'm' 'm' 'm' 'm' 'm' 'm' 'm'\n",
      " 'm' 'm' 'm' 'm' 'm' 'm' 'm' 'm' 'm' 'm' 'm' 'm' 'm' 'm' 'm' 'm' 'm' 'm'\n",
      " 'm' 'm' 'm' 'm' 'm' 'm' 'm' 'm' 'm' 'm' 'm' 'm' 'm' 'm' 'm' 'm' 'm' 'm'\n",
      " 'm' 'm' 'm' 'm' 'm' 'm' 'm' 'm' 'm' 'm' 'm' 'm' 'm' 'm' 'm' 'm' 'm' 'm'\n",
      " 'm' 'm' 'm' 'm' 'm' 'm' 'm' 'm' 'm' 'm' 'm' 'm' 'm' 'm' 'm' 'm' 'm' 'm'\n",
      " 'm' 'm' 'm' 'm' 'm' 'm' 'm' 'm' 'm' 'm' 'm' 'm' 'm' 'm' 'm' 'm' 'm' 'm'\n",
      " 'm' 'm' 'm' 'm' 'm' 'm' 'm' 'm' 'm' 'm' 'm' 'm' 'm' 'm' 'm' 'm' 'm' 'm'\n",
      " 'm' 'm' 'm' 'm' 'm' 'm' 'm' 'm' 'm' 'm' 'm' 'm' 'm' 'm' 'm' 'm' 'm' 'm'\n",
      " 'm' 'm' 'm' 'm' 'm' 'm' 'm' 'm' 'm' 'm' 'm' 'm' 'm' 'm' 'm' 'm' 'm' 'm'\n",
      " 'm' 'm' 'm' 'm' 'm' 'm' 'm' 'm' 'm' 'm' 'm' 'm' 'm' 'm' 'm' 'm' 'm' 'm'\n",
      " 'm' 'm' 'm' 'm' 'm' 'm' 'm' 'm' 'm' 'm' 'm' 'm' 'm' 'm' 'm' 'm' 'm' 'm'\n",
      " 'm' 'm' 'm' 'm' 'm' 'm' 'm' 'm' 'm' 'm' 'm' 'm' 'm' 'm' 'm' 'm' 'm' 'm'\n",
      " 'm' 'm' 'm' 'm' 'm' 'm' 'm' 'm' 'm' 'm' 'm' 'm' 'm' 'm' 'm' 'm' 'm' 'm'\n",
      " 'm' 'm' 'm' 'm' 'm' 'm' 'm' 'm' 'm' 'm' 'm' 'm' 'm' 'm' 'm' 'm' 'm' 'm'\n",
      " 'm' 'm' 'm' 'm' 'm' 'm' 'm' 'm' 'm' 'm' 'm' 'm' 'm' 'm' 'm' 'm' 'm' 'm'\n",
      " 'm' 'm' 'm' 'm' 'm' 'm' 'm' 'm' 'm' 'm' 'm' 'm' 'm' 'm' 'm']' has dtype incompatible with float64, please explicitly cast to a compatible dtype first.\n",
      "C:\\A\\envs\\pyclass\\Lib\\site-packages\\pyemu\\pst\\pst_handler.py:3866: FutureWarning: Setting an item of incompatible dtype is deprecated and will raise in a future error of pandas. Value '[nan '2' '2' '6' '6' '10' '10' '14' '14' '18' '18' '0' '0' '0' '0' '0' '0'\n",
      " '0' '0' '0' '1' '1' '1' '1' '1' '1' '1' '1' '1' '2' '2' '2' '2' '2' '2'\n",
      " '2' '2' '2' '3' '3' '3' '3' '3' '3' '3' '3' '3' '4' '4' '4' '4' '4' '4'\n",
      " '4' '4' '4' '5' '5' '5' '5' '5' '5' '5' '5' '5' '6' '6' '6' '6' '6' '6'\n",
      " '6' '6' '6' '7' '7' '7' '7' '7' '7' '7' '7' '7' '8' '8' '8' '8' '8' '8'\n",
      " '8' '8' '8' '9' '9' '9' '9' '9' '9' '9' '9' '9' '10' '10' '10' '10' '10'\n",
      " '10' '10' '10' '10' '11' '11' '11' '11' '11' '11' '11' '11' '11' '12'\n",
      " '12' '12' '12' '12' '12' '12' '12' '12' '13' '13' '13' '13' '13' '13'\n",
      " '13' '13' '13' '14' '14' '14' '14' '14' '14' '14' '14' '14' '15' '15'\n",
      " '15' '15' '15' '15' '15' '15' '15' '16' '16' '16' '16' '16' '16' '16'\n",
      " '16' '16' '17' '17' '17' '17' '17' '17' '17' '17' '17' '18' '18' '18'\n",
      " '18' '18' '18' '18' '18' '18' '19' '19' '19' '19' '19' '19' '19' '19'\n",
      " '19' '20' '20' '20' '20' '20' '20' '20' '20' '20' nan '2' '2' '6' '6'\n",
      " '10' '10' '14' '14' '18' '18' '0' '0' '0' '0' '0' '0' '0' '0' '0' '1' '1'\n",
      " '1' '1' '1' '1' '1' '1' '1' '2' '2' '2' '2' '2' '2' '2' '2' '2' '3' '3'\n",
      " '3' '3' '3' '3' '3' '3' '3' '4' '4' '4' '4' '4' '4' '4' '4' '4' '5' '5'\n",
      " '5' '5' '5' '5' '5' '5' '5' '6' '6' '6' '6' '6' '6' '6' '6' '6' '7' '7'\n",
      " '7' '7' '7' '7' '7' '7' '7' '8' '8' '8' '8' '8' '8' '8' '8' '8' '9' '9'\n",
      " '9' '9' '9' '9' '9' '9' '9' '10' '10' '10' '10' '10' '10' '10' '10' '10'\n",
      " '11' '11' '11' '11' '11' '11' '11' '11' '11' '12' '12' '12' '12' '12'\n",
      " '12' '12' '12' '12' '13' '13' '13' '13' '13' '13' '13' '13' '13' '14'\n",
      " '14' '14' '14' '14' '14' '14' '14' '14' '15' '15' '15' '15' '15' '15'\n",
      " '15' '15' '15' '16' '16' '16' '16' '16' '16' '16' '16' '16' '17' '17'\n",
      " '17' '17' '17' '17' '17' '17' '17' '18' '18' '18' '18' '18' '18' '18'\n",
      " '18' '18' '19' '19' '19' '19' '19' '19' '19' '19' '19' '20' '20' '20'\n",
      " '20' '20' '20' '20' '20' '20' nan '2' '2' '6' '6' '10' '10' '14' '14'\n",
      " '18' '18']' has dtype incompatible with float64, please explicitly cast to a compatible dtype first.\n",
      "C:\\A\\envs\\pyclass\\Lib\\site-packages\\pyemu\\pst\\pst_handler.py:3866: FutureWarning: Setting an item of incompatible dtype is deprecated and will raise in a future error of pandas. Value '[nan '2' '6' '2' '6' '2' '6' '2' '6' '2' '6' '0' '1' '2' '3' '4' '5' '6'\n",
      " '7' '8' '0' '1' '2' '3' '4' '5' '6' '7' '8' '0' '1' '2' '3' '4' '5' '6'\n",
      " '7' '8' '0' '1' '2' '3' '4' '5' '6' '7' '8' '0' '1' '2' '3' '4' '5' '6'\n",
      " '7' '8' '0' '1' '2' '3' '4' '5' '6' '7' '8' '0' '1' '2' '3' '4' '5' '6'\n",
      " '7' '8' '0' '1' '2' '3' '4' '5' '6' '7' '8' '0' '1' '2' '3' '4' '5' '6'\n",
      " '7' '8' '0' '1' '2' '3' '4' '5' '6' '7' '8' '0' '1' '2' '3' '4' '5' '6'\n",
      " '7' '8' '0' '1' '2' '3' '4' '5' '6' '7' '8' '0' '1' '2' '3' '4' '5' '6'\n",
      " '7' '8' '0' '1' '2' '3' '4' '5' '6' '7' '8' '0' '1' '2' '3' '4' '5' '6'\n",
      " '7' '8' '0' '1' '2' '3' '4' '5' '6' '7' '8' '0' '1' '2' '3' '4' '5' '6'\n",
      " '7' '8' '0' '1' '2' '3' '4' '5' '6' '7' '8' '0' '1' '2' '3' '4' '5' '6'\n",
      " '7' '8' '0' '1' '2' '3' '4' '5' '6' '7' '8' '0' '1' '2' '3' '4' '5' '6'\n",
      " '7' '8' nan '2' '6' '2' '6' '2' '6' '2' '6' '2' '6' '0' '1' '2' '3' '4'\n",
      " '5' '6' '7' '8' '0' '1' '2' '3' '4' '5' '6' '7' '8' '0' '1' '2' '3' '4'\n",
      " '5' '6' '7' '8' '0' '1' '2' '3' '4' '5' '6' '7' '8' '0' '1' '2' '3' '4'\n",
      " '5' '6' '7' '8' '0' '1' '2' '3' '4' '5' '6' '7' '8' '0' '1' '2' '3' '4'\n",
      " '5' '6' '7' '8' '0' '1' '2' '3' '4' '5' '6' '7' '8' '0' '1' '2' '3' '4'\n",
      " '5' '6' '7' '8' '0' '1' '2' '3' '4' '5' '6' '7' '8' '0' '1' '2' '3' '4'\n",
      " '5' '6' '7' '8' '0' '1' '2' '3' '4' '5' '6' '7' '8' '0' '1' '2' '3' '4'\n",
      " '5' '6' '7' '8' '0' '1' '2' '3' '4' '5' '6' '7' '8' '0' '1' '2' '3' '4'\n",
      " '5' '6' '7' '8' '0' '1' '2' '3' '4' '5' '6' '7' '8' '0' '1' '2' '3' '4'\n",
      " '5' '6' '7' '8' '0' '1' '2' '3' '4' '5' '6' '7' '8' '0' '1' '2' '3' '4'\n",
      " '5' '6' '7' '8' '0' '1' '2' '3' '4' '5' '6' '7' '8' '0' '1' '2' '3' '4'\n",
      " '5' '6' '7' '8' nan '2' '6' '2' '6' '2' '6' '2' '6' '2' '6']' has dtype incompatible with float64, please explicitly cast to a compatible dtype first.\n",
      "C:\\A\\envs\\pyclass\\Lib\\site-packages\\pyemu\\pst\\pst_handler.py:3866: FutureWarning: Setting an item of incompatible dtype is deprecated and will raise in a future error of pandas. Value '[nan '1' '1' '1' '1' '1' '1' '1' '1' '1' '1' nan nan nan nan nan nan nan\n",
      " nan nan nan nan nan nan nan nan nan nan nan nan nan nan nan nan nan nan\n",
      " nan nan nan nan nan nan nan nan nan nan nan nan nan nan nan nan nan nan\n",
      " nan nan nan nan nan nan nan nan nan nan nan nan nan nan nan nan nan nan\n",
      " nan nan nan nan nan nan nan nan nan nan nan nan nan nan nan nan nan nan\n",
      " nan nan nan nan nan nan nan nan nan nan nan nan nan nan nan nan nan nan\n",
      " nan nan nan nan nan nan nan nan nan nan nan nan nan nan nan nan nan nan\n",
      " nan nan nan nan nan nan nan nan nan nan nan nan nan nan nan nan nan nan\n",
      " nan nan nan nan nan nan nan nan nan nan nan nan nan nan nan nan nan nan\n",
      " nan nan nan nan nan nan nan nan nan nan nan nan nan nan nan nan nan nan\n",
      " nan nan nan nan nan nan nan nan nan nan nan nan nan nan nan nan nan nan\n",
      " nan nan nan '1' '1' '1' '1' '1' '1' '1' '1' '1' '1' nan nan nan nan nan\n",
      " nan nan nan nan nan nan nan nan nan nan nan nan nan nan nan nan nan nan\n",
      " nan nan nan nan nan nan nan nan nan nan nan nan nan nan nan nan nan nan\n",
      " nan nan nan nan nan nan nan nan nan nan nan nan nan nan nan nan nan nan\n",
      " nan nan nan nan nan nan nan nan nan nan nan nan nan nan nan nan nan nan\n",
      " nan nan nan nan nan nan nan nan nan nan nan nan nan nan nan nan nan nan\n",
      " nan nan nan nan nan nan nan nan nan nan nan nan nan nan nan nan nan nan\n",
      " nan nan nan nan nan nan nan nan nan nan nan nan nan nan nan nan nan nan\n",
      " nan nan nan nan nan nan nan nan nan nan nan nan nan nan nan nan nan nan\n",
      " nan nan nan nan nan nan nan nan nan nan nan nan nan nan nan nan nan nan\n",
      " nan nan nan nan nan nan nan nan nan nan nan nan nan nan nan nan nan nan\n",
      " nan nan nan nan nan '1' '1' '1' '1' '1' '1' '1' '1' '1' '1']' has dtype incompatible with float64, please explicitly cast to a compatible dtype first.\n",
      "C:\\A\\envs\\pyclass\\Lib\\site-packages\\pyemu\\pst\\pst_handler.py:3866: FutureWarning: Setting an item of incompatible dtype is deprecated and will raise in a future error of pandas. Value '[nan nan nan nan nan nan nan nan nan nan nan '250.00' '750.00' '1250.00'\n",
      " '1750.00' '2250.00' '2750.00' '3250.00' '3750.00' '4250.00' '250.00'\n",
      " '750.00' '1250.00' '1750.00' '2250.00' '2750.00' '3250.00' '3750.00'\n",
      " '4250.00' '250.00' '750.00' '1250.00' '1750.00' '2250.00' '2750.00'\n",
      " '3250.00' '3750.00' '4250.00' '250.00' '750.00' '1250.00' '1750.00'\n",
      " '2250.00' '2750.00' '3250.00' '3750.00' '4250.00' '250.00' '750.00'\n",
      " '1250.00' '1750.00' '2250.00' '2750.00' '3250.00' '3750.00' '4250.00'\n",
      " '250.00' '750.00' '1250.00' '1750.00' '2250.00' '2750.00' '3250.00'\n",
      " '3750.00' '4250.00' '250.00' '750.00' '1250.00' '1750.00' '2250.00'\n",
      " '2750.00' '3250.00' '3750.00' '4250.00' '250.00' '750.00' '1250.00'\n",
      " '1750.00' '2250.00' '2750.00' '3250.00' '3750.00' '4250.00' '250.00'\n",
      " '750.00' '1250.00' '1750.00' '2250.00' '2750.00' '3250.00' '3750.00'\n",
      " '4250.00' '250.00' '750.00' '1250.00' '1750.00' '2250.00' '2750.00'\n",
      " '3250.00' '3750.00' '4250.00' '250.00' '750.00' '1250.00' '1750.00'\n",
      " '2250.00' '2750.00' '3250.00' '3750.00' '4250.00' '250.00' '750.00'\n",
      " '1250.00' '1750.00' '2250.00' '2750.00' '3250.00' '3750.00' '4250.00'\n",
      " '250.00' '750.00' '1250.00' '1750.00' '2250.00' '2750.00' '3250.00'\n",
      " '3750.00' '4250.00' '250.00' '750.00' '1250.00' '1750.00' '2250.00'\n",
      " '2750.00' '3250.00' '3750.00' '4250.00' '250.00' '750.00' '1250.00'\n",
      " '1750.00' '2250.00' '2750.00' '3250.00' '3750.00' '4250.00' '250.00'\n",
      " '750.00' '1250.00' '1750.00' '2250.00' '2750.00' '3250.00' '3750.00'\n",
      " '4250.00' '250.00' '750.00' '1250.00' '1750.00' '2250.00' '2750.00'\n",
      " '3250.00' '3750.00' '4250.00' '250.00' '750.00' '1250.00' '1750.00'\n",
      " '2250.00' '2750.00' '3250.00' '3750.00' '4250.00' '250.00' '750.00'\n",
      " '1250.00' '1750.00' '2250.00' '2750.00' '3250.00' '3750.00' '4250.00'\n",
      " '250.00' '750.00' '1250.00' '1750.00' '2250.00' '2750.00' '3250.00'\n",
      " '3750.00' '4250.00' '250.00' '750.00' '1250.00' '1750.00' '2250.00'\n",
      " '2750.00' '3250.00' '3750.00' '4250.00' nan nan nan nan nan nan nan nan\n",
      " nan nan nan '250.00' '750.00' '1250.00' '1750.00' '2250.00' '2750.00'\n",
      " '3250.00' '3750.00' '4250.00' '250.00' '750.00' '1250.00' '1750.00'\n",
      " '2250.00' '2750.00' '3250.00' '3750.00' '4250.00' '250.00' '750.00'\n",
      " '1250.00' '1750.00' '2250.00' '2750.00' '3250.00' '3750.00' '4250.00'\n",
      " '250.00' '750.00' '1250.00' '1750.00' '2250.00' '2750.00' '3250.00'\n",
      " '3750.00' '4250.00' '250.00' '750.00' '1250.00' '1750.00' '2250.00'\n",
      " '2750.00' '3250.00' '3750.00' '4250.00' '250.00' '750.00' '1250.00'\n",
      " '1750.00' '2250.00' '2750.00' '3250.00' '3750.00' '4250.00' '250.00'\n",
      " '750.00' '1250.00' '1750.00' '2250.00' '2750.00' '3250.00' '3750.00'\n",
      " '4250.00' '250.00' '750.00' '1250.00' '1750.00' '2250.00' '2750.00'\n",
      " '3250.00' '3750.00' '4250.00' '250.00' '750.00' '1250.00' '1750.00'\n",
      " '2250.00' '2750.00' '3250.00' '3750.00' '4250.00' '250.00' '750.00'\n",
      " '1250.00' '1750.00' '2250.00' '2750.00' '3250.00' '3750.00' '4250.00'\n",
      " '250.00' '750.00' '1250.00' '1750.00' '2250.00' '2750.00' '3250.00'\n",
      " '3750.00' '4250.00' '250.00' '750.00' '1250.00' '1750.00' '2250.00'\n",
      " '2750.00' '3250.00' '3750.00' '4250.00' '250.00' '750.00' '1250.00'\n",
      " '1750.00' '2250.00' '2750.00' '3250.00' '3750.00' '4250.00' '250.00'\n",
      " '750.00' '1250.00' '1750.00' '2250.00' '2750.00' '3250.00' '3750.00'\n",
      " '4250.00' '250.00' '750.00' '1250.00' '1750.00' '2250.00' '2750.00'\n",
      " '3250.00' '3750.00' '4250.00' '250.00' '750.00' '1250.00' '1750.00'\n",
      " '2250.00' '2750.00' '3250.00' '3750.00' '4250.00' '250.00' '750.00'\n",
      " '1250.00' '1750.00' '2250.00' '2750.00' '3250.00' '3750.00' '4250.00'\n",
      " '250.00' '750.00' '1250.00' '1750.00' '2250.00' '2750.00' '3250.00'\n",
      " '3750.00' '4250.00' '250.00' '750.00' '1250.00' '1750.00' '2250.00'\n",
      " '2750.00' '3250.00' '3750.00' '4250.00' '250.00' '750.00' '1250.00'\n",
      " '1750.00' '2250.00' '2750.00' '3250.00' '3750.00' '4250.00' '250.00'\n",
      " '750.00' '1250.00' '1750.00' '2250.00' '2750.00' '3250.00' '3750.00'\n",
      " '4250.00' nan nan nan nan nan nan nan nan nan nan nan]' has dtype incompatible with float64, please explicitly cast to a compatible dtype first.\n",
      "C:\\A\\envs\\pyclass\\Lib\\site-packages\\pyemu\\pst\\pst_handler.py:3866: FutureWarning: Setting an item of incompatible dtype is deprecated and will raise in a future error of pandas. Value '[nan nan nan nan nan nan nan nan nan nan nan '10250.00' '10250.00'\n",
      " '10250.00' '10250.00' '10250.00' '10250.00' '10250.00' '10250.00'\n",
      " '10250.00' '9750.00' '9750.00' '9750.00' '9750.00' '9750.00' '9750.00'\n",
      " '9750.00' '9750.00' '9750.00' '9250.00' '9250.00' '9250.00' '9250.00'\n",
      " '9250.00' '9250.00' '9250.00' '9250.00' '9250.00' '8750.00' '8750.00'\n",
      " '8750.00' '8750.00' '8750.00' '8750.00' '8750.00' '8750.00' '8750.00'\n",
      " '8250.00' '8250.00' '8250.00' '8250.00' '8250.00' '8250.00' '8250.00'\n",
      " '8250.00' '8250.00' '7750.00' '7750.00' '7750.00' '7750.00' '7750.00'\n",
      " '7750.00' '7750.00' '7750.00' '7750.00' '7250.00' '7250.00' '7250.00'\n",
      " '7250.00' '7250.00' '7250.00' '7250.00' '7250.00' '7250.00' '6750.00'\n",
      " '6750.00' '6750.00' '6750.00' '6750.00' '6750.00' '6750.00' '6750.00'\n",
      " '6750.00' '6250.00' '6250.00' '6250.00' '6250.00' '6250.00' '6250.00'\n",
      " '6250.00' '6250.00' '6250.00' '5750.00' '5750.00' '5750.00' '5750.00'\n",
      " '5750.00' '5750.00' '5750.00' '5750.00' '5750.00' '5250.00' '5250.00'\n",
      " '5250.00' '5250.00' '5250.00' '5250.00' '5250.00' '5250.00' '5250.00'\n",
      " '4750.00' '4750.00' '4750.00' '4750.00' '4750.00' '4750.00' '4750.00'\n",
      " '4750.00' '4750.00' '4250.00' '4250.00' '4250.00' '4250.00' '4250.00'\n",
      " '4250.00' '4250.00' '4250.00' '4250.00' '3750.00' '3750.00' '3750.00'\n",
      " '3750.00' '3750.00' '3750.00' '3750.00' '3750.00' '3750.00' '3250.00'\n",
      " '3250.00' '3250.00' '3250.00' '3250.00' '3250.00' '3250.00' '3250.00'\n",
      " '3250.00' '2750.00' '2750.00' '2750.00' '2750.00' '2750.00' '2750.00'\n",
      " '2750.00' '2750.00' '2750.00' '2250.00' '2250.00' '2250.00' '2250.00'\n",
      " '2250.00' '2250.00' '2250.00' '2250.00' '2250.00' '1750.00' '1750.00'\n",
      " '1750.00' '1750.00' '1750.00' '1750.00' '1750.00' '1750.00' '1750.00'\n",
      " '1250.00' '1250.00' '1250.00' '1250.00' '1250.00' '1250.00' '1250.00'\n",
      " '1250.00' '1250.00' '750.00' '750.00' '750.00' '750.00' '750.00' '750.00'\n",
      " '750.00' '750.00' '750.00' '250.00' '250.00' '250.00' '250.00' '250.00'\n",
      " '250.00' '250.00' '250.00' '250.00' nan nan nan nan nan nan nan nan nan\n",
      " nan nan '10250.00' '10250.00' '10250.00' '10250.00' '10250.00' '10250.00'\n",
      " '10250.00' '10250.00' '10250.00' '9750.00' '9750.00' '9750.00' '9750.00'\n",
      " '9750.00' '9750.00' '9750.00' '9750.00' '9750.00' '9250.00' '9250.00'\n",
      " '9250.00' '9250.00' '9250.00' '9250.00' '9250.00' '9250.00' '9250.00'\n",
      " '8750.00' '8750.00' '8750.00' '8750.00' '8750.00' '8750.00' '8750.00'\n",
      " '8750.00' '8750.00' '8250.00' '8250.00' '8250.00' '8250.00' '8250.00'\n",
      " '8250.00' '8250.00' '8250.00' '8250.00' '7750.00' '7750.00' '7750.00'\n",
      " '7750.00' '7750.00' '7750.00' '7750.00' '7750.00' '7750.00' '7250.00'\n",
      " '7250.00' '7250.00' '7250.00' '7250.00' '7250.00' '7250.00' '7250.00'\n",
      " '7250.00' '6750.00' '6750.00' '6750.00' '6750.00' '6750.00' '6750.00'\n",
      " '6750.00' '6750.00' '6750.00' '6250.00' '6250.00' '6250.00' '6250.00'\n",
      " '6250.00' '6250.00' '6250.00' '6250.00' '6250.00' '5750.00' '5750.00'\n",
      " '5750.00' '5750.00' '5750.00' '5750.00' '5750.00' '5750.00' '5750.00'\n",
      " '5250.00' '5250.00' '5250.00' '5250.00' '5250.00' '5250.00' '5250.00'\n",
      " '5250.00' '5250.00' '4750.00' '4750.00' '4750.00' '4750.00' '4750.00'\n",
      " '4750.00' '4750.00' '4750.00' '4750.00' '4250.00' '4250.00' '4250.00'\n",
      " '4250.00' '4250.00' '4250.00' '4250.00' '4250.00' '4250.00' '3750.00'\n",
      " '3750.00' '3750.00' '3750.00' '3750.00' '3750.00' '3750.00' '3750.00'\n",
      " '3750.00' '3250.00' '3250.00' '3250.00' '3250.00' '3250.00' '3250.00'\n",
      " '3250.00' '3250.00' '3250.00' '2750.00' '2750.00' '2750.00' '2750.00'\n",
      " '2750.00' '2750.00' '2750.00' '2750.00' '2750.00' '2250.00' '2250.00'\n",
      " '2250.00' '2250.00' '2250.00' '2250.00' '2250.00' '2250.00' '2250.00'\n",
      " '1750.00' '1750.00' '1750.00' '1750.00' '1750.00' '1750.00' '1750.00'\n",
      " '1750.00' '1750.00' '1250.00' '1250.00' '1250.00' '1250.00' '1250.00'\n",
      " '1250.00' '1250.00' '1250.00' '1250.00' '750.00' '750.00' '750.00'\n",
      " '750.00' '750.00' '750.00' '750.00' '750.00' '750.00' '250.00' '250.00'\n",
      " '250.00' '250.00' '250.00' '250.00' '250.00' '250.00' '250.00' nan nan\n",
      " nan nan nan nan nan nan nan nan nan]' has dtype incompatible with float64, please explicitly cast to a compatible dtype first.\n",
      "C:\\A\\envs\\pyclass\\Lib\\site-packages\\pyemu\\pst\\pst_handler.py:3866: FutureWarning: Setting an item of incompatible dtype is deprecated and will raise in a future error of pandas. Value '['hds.csv' 'hds.csv' 'hds.csv' 'hds.csv' 'hds.csv' 'hds.csv' 'hds.csv'\n",
      " 'hds.csv' 'hds.csv' 'hds.csv' 'hds.csv' 'hds.csv' 'hds.csv' 'hds.csv'\n",
      " 'hds.csv' 'hds.csv' 'hds.csv' 'hds.csv' 'hds.csv' 'hds.csv' 'hds.csv'\n",
      " 'hds.csv' 'hds.csv' 'hds.csv' 'hds.csv' 'hds.csv' 'hds.csv' 'hds.csv'\n",
      " 'hds.csv' 'hds.csv' 'hds.csv' 'hds.csv' 'hds.csv' 'hds.csv' 'hds.csv'\n",
      " 'hds.csv' 'hds.csv' 'hds.csv' 'hds.csv' 'hds.csv' 'hds.csv' 'hds.csv'\n",
      " 'hds.csv' 'hds.csv' 'hds.csv' 'hds.csv' 'hds.csv' 'hds.csv' 'hds.csv'\n",
      " 'hds.csv' 'hds.csv' 'hds.csv' 'hds.csv' 'hds.csv' 'hds.csv' 'hds.csv'\n",
      " 'hds.csv' 'hds.csv' 'hds.csv' 'hds.csv' 'hds.csv' 'hds.csv' 'hds.csv'\n",
      " 'hds.csv' 'hds.csv' 'hds.csv' 'hds.csv' 'hds.csv' 'hds.csv' 'hds.csv'\n",
      " 'hds.csv' 'hds.csv' 'hds.csv' 'hds.csv' 'hds.csv' 'hds.csv' 'hds.csv'\n",
      " 'hds.csv' 'hds.csv' 'hds.csv' 'hds.csv' 'hds.csv' 'hds.csv' 'hds.csv'\n",
      " 'hds.csv' 'hds.csv' 'hds.csv' 'hds.csv' 'hds.csv' 'hds.csv' 'hds.csv'\n",
      " 'hds.csv' 'hds.csv' 'hds.csv' 'hds.csv' 'hds.csv' 'hds.csv' 'hds.csv'\n",
      " 'hds.csv' 'hds.csv' 'hds.csv' 'hds.csv' 'hds.csv' 'hds.csv' 'hds.csv'\n",
      " 'hds.csv' 'hds.csv' 'hds.csv' 'hds.csv' 'hds.csv' 'hds.csv' 'hds.csv'\n",
      " 'hds.csv' 'hds.csv' 'hds.csv' 'hds.csv' 'hds.csv' 'hds.csv' 'hds.csv'\n",
      " 'hds.csv' 'hds.csv' 'hds.csv' 'hds.csv' 'hds.csv' 'hds.csv' 'hds.csv'\n",
      " 'hds.csv' 'hds.csv' 'hds.csv' 'hds.csv' 'hds.csv' 'hds.csv' 'hds.csv'\n",
      " 'hds.csv' 'hds.csv' 'hds.csv' 'hds.csv' 'hds.csv' 'hds.csv' 'hds.csv'\n",
      " 'hds.csv' 'hds.csv' 'hds.csv' 'hds.csv' 'hds.csv' 'hds.csv' 'hds.csv'\n",
      " 'hds.csv' 'hds.csv' 'hds.csv' 'hds.csv' 'hds.csv' 'hds.csv' 'hds.csv'\n",
      " 'hds.csv' 'hds.csv' 'hds.csv' 'hds.csv' 'hds.csv' 'hds.csv' 'hds.csv'\n",
      " 'hds.csv' 'hds.csv' 'hds.csv' 'hds.csv' 'hds.csv' 'hds.csv' 'hds.csv'\n",
      " 'hds.csv' 'hds.csv' 'hds.csv' 'hds.csv' 'hds.csv' 'hds.csv' 'hds.csv'\n",
      " 'hds.csv' 'hds.csv' 'hds.csv' 'hds.csv' 'hds.csv' 'hds.csv' 'hds.csv'\n",
      " 'hds.csv' 'hds.csv' 'hds.csv' 'hds.csv' 'hds.csv' 'hds.csv' 'hds.csv'\n",
      " 'hds.csv' 'hds.csv' 'hds.csv' 'hds.csv' 'hds.csv' 'hds.csv' 'hds.csv'\n",
      " 'hds.csv' 'hds.csv' 'hds.csv' 'hds.csv' 'hds.csv' 'hds.csv' 'hds.csv'\n",
      " 'hds.csv' 'hds.csv' 'hds.csv' 'hds.csv' 'hds.csv' 'hds.csv' 'hds.csv'\n",
      " 'hds.csv' 'hds.csv' 'hds.csv' 'hds.csv' 'hds.csv' 'hds.csv' 'hds.csv'\n",
      " 'hds.csv' 'hds.csv' 'hds.csv' 'hds.csv' 'hds.csv' 'hds.csv' 'hds.csv'\n",
      " 'hds.csv' 'hds.csv' 'hds.csv' 'hds.csv' 'hds.csv' 'hds.csv' 'hds.csv'\n",
      " 'hds.csv' 'hds.csv' 'hds.csv' 'hds.csv' 'hds.csv' 'hds.csv' 'hds.csv'\n",
      " 'hds.csv' 'hds.csv' 'hds.csv' 'hds.csv' 'hds.csv' 'hds.csv' 'hds.csv'\n",
      " 'hds.csv' 'hds.csv' 'hds.csv' 'hds.csv' 'hds.csv' 'hds.csv' 'hds.csv'\n",
      " 'hds.csv' 'hds.csv' 'hds.csv' 'hds.csv' 'hds.csv' 'hds.csv' 'hds.csv'\n",
      " 'hds.csv' 'hds.csv' 'hds.csv' 'hds.csv' 'hds.csv' 'hds.csv' 'hds.csv'\n",
      " 'hds.csv' 'hds.csv' 'hds.csv' 'hds.csv' 'hds.csv' 'hds.csv' 'hds.csv'\n",
      " 'hds.csv' 'hds.csv' 'hds.csv' 'hds.csv' 'hds.csv' 'hds.csv' 'hds.csv'\n",
      " 'hds.csv' 'hds.csv' 'hds.csv' 'hds.csv' 'hds.csv' 'hds.csv' 'hds.csv'\n",
      " 'hds.csv' 'hds.csv' 'hds.csv' 'hds.csv' 'hds.csv' 'hds.csv' 'hds.csv'\n",
      " 'hds.csv' 'hds.csv' 'hds.csv' 'hds.csv' 'hds.csv' 'hds.csv' 'hds.csv'\n",
      " 'hds.csv' 'hds.csv' 'hds.csv' 'hds.csv' 'hds.csv' 'hds.csv' 'hds.csv'\n",
      " 'hds.csv' 'hds.csv' 'hds.csv' 'hds.csv' 'hds.csv' 'hds.csv' 'hds.csv'\n",
      " 'hds.csv' 'hds.csv' 'hds.csv' 'hds.csv' 'hds.csv' 'hds.csv' 'hds.csv'\n",
      " 'hds.csv' 'hds.csv' 'hds.csv' 'hds.csv' 'hds.csv' 'hds.csv' 'hds.csv'\n",
      " 'hds.csv' 'hds.csv' 'hds.csv' 'hds.csv' 'hds.csv' 'hds.csv' 'hds.csv'\n",
      " 'hds.csv' 'hds.csv' 'hds.csv' 'hds.csv' 'hds.csv' 'hds.csv' 'hds.csv'\n",
      " 'hds.csv' 'hds.csv' 'hds.csv' 'hds.csv' 'hds.csv' 'hds.csv' 'hds.csv'\n",
      " 'hds.csv' 'hds.csv' 'hds.csv' 'hds.csv' 'hds.csv' 'hds.csv' 'hds.csv'\n",
      " 'hds.csv' 'hds.csv' 'hds.csv' 'hds.csv' 'hds.csv' 'hds.csv' 'hds.csv'\n",
      " 'hds.csv' 'hds.csv' 'hds.csv' 'hds.csv' 'hds.csv' 'hds.csv' 'hds.csv'\n",
      " 'hds.csv' 'hds.csv' 'hds.csv' 'hds.csv' 'hds.csv' 'hds.csv' 'hds.csv'\n",
      " 'hds.csv' 'hds.csv' 'hds.csv' 'hds.csv' 'hds.csv' 'hds.csv' 'hds.csv'\n",
      " 'hds.csv']' has dtype incompatible with float64, please explicitly cast to a compatible dtype first.\n",
      "C:\\A\\envs\\pyclass\\Lib\\site-packages\\pyemu\\pst\\pst_handler.py:3866: FutureWarning: Setting an item of incompatible dtype is deprecated and will raise in a future error of pandas. Value '['lst' 'lst' 'lst' 'lst' 'lst' 'lst' 'lst' 'lst' 'lst' 'lst' 'lst' 'lst'\n",
      " 'lst' 'lst' 'lst' 'lst' 'lst' 'lst' 'lst' 'lst' 'lst' 'lst' 'lst' 'lst'\n",
      " 'lst' 'lst' 'lst' 'lst' 'lst' 'lst' 'lst' 'lst' 'lst' 'lst' 'lst' 'lst'\n",
      " 'lst' 'lst' 'lst' 'lst' 'lst' 'lst' 'lst' 'lst' 'lst' 'lst' 'lst' 'lst'\n",
      " 'lst' 'lst' 'lst' 'lst' 'lst' 'lst' 'lst' 'lst' 'lst' 'lst' 'lst' 'lst'\n",
      " 'lst' 'lst' 'lst' 'lst' 'lst' 'lst' 'lst' 'lst' 'lst' 'lst' 'lst' 'lst'\n",
      " 'lst' 'lst' 'lst' 'lst' 'lst' 'lst' 'lst' 'lst' 'lst' 'lst' 'lst' 'lst'\n",
      " 'lst' 'lst' 'lst' 'lst' 'lst' 'lst' 'lst' 'lst' 'lst' 'lst' 'lst' 'lst'\n",
      " 'lst' 'lst' 'lst' 'lst' 'lst' 'lst' 'lst' 'lst' 'lst' 'lst' 'lst' 'lst'\n",
      " 'lst' 'lst' 'lst' 'lst' 'lst' 'lst' 'lst' 'lst' 'lst' 'lst' 'lst' 'lst'\n",
      " 'lst' 'lst' 'lst' 'lst' 'lst' 'lst' 'lst' 'lst' 'lst' 'lst' 'lst' 'lst'\n",
      " 'lst' 'lst' 'lst' 'lst' 'lst' 'lst' 'lst' 'lst' 'lst' 'lst' 'lst' 'lst'\n",
      " 'lst' 'lst' 'lst' 'lst' 'lst' 'lst' 'lst' 'lst' 'lst' 'lst' 'lst' 'lst'\n",
      " 'lst' 'lst' 'lst' 'lst' 'lst' 'lst' 'lst' 'lst' 'lst' 'lst' 'lst' 'lst'\n",
      " 'lst' 'lst' 'lst' 'lst' 'lst' 'lst' 'lst' 'lst' 'lst' 'lst' 'lst' 'lst'\n",
      " 'lst' 'lst' 'lst' 'lst' 'lst' 'lst' 'lst' 'lst' 'lst' 'lst' 'lst' 'lst'\n",
      " 'lst' 'lst' 'lst' 'lst' 'lst' 'lst' 'lst' 'lst' 'lst' 'lst' 'lst' 'lst'\n",
      " 'lst' 'lst' 'lst' 'lst' 'lst' 'lst' 'lst' 'lst' 'lst' 'lst' 'lst' 'lst'\n",
      " 'lst' 'lst' 'lst' 'lst' 'lst' 'lst' 'lst' 'lst' 'lst' 'lst' 'lst' 'lst'\n",
      " 'lst' 'lst' 'lst' 'lst' 'lst' 'lst' 'lst' 'lst' 'lst' 'lst' 'lst' 'lst'\n",
      " 'lst' 'lst' 'lst' 'lst' 'lst' 'lst' 'lst' 'lst' 'lst' 'lst' 'lst' 'lst'\n",
      " 'lst' 'lst' 'lst' 'lst' 'lst' 'lst' 'lst' 'lst' 'lst' 'lst' 'lst' 'lst'\n",
      " 'lst' 'lst' 'lst' 'lst' 'lst' 'lst' 'lst' 'lst' 'lst' 'lst' 'lst' 'lst'\n",
      " 'lst' 'lst' 'lst' 'lst' 'lst' 'lst' 'lst' 'lst' 'lst' 'lst' 'lst' 'lst'\n",
      " 'lst' 'lst' 'lst' 'lst' 'lst' 'lst' 'lst' 'lst' 'lst' 'lst' 'lst' 'lst'\n",
      " 'lst' 'lst' 'lst' 'lst' 'lst' 'lst' 'lst' 'lst' 'lst' 'lst' 'lst' 'lst'\n",
      " 'lst' 'lst' 'lst' 'lst' 'lst' 'lst' 'lst' 'lst' 'lst' 'lst' 'lst' 'lst'\n",
      " 'lst' 'lst' 'lst' 'lst' 'lst' 'lst' 'lst' 'lst' 'lst' 'lst' 'lst' 'lst'\n",
      " 'lst' 'lst' 'lst' 'lst' 'lst' 'lst' 'lst' 'lst' 'lst' 'lst' 'lst' 'lst'\n",
      " 'lst' 'lst' 'lst' 'lst' 'lst' 'lst' 'lst' 'lst' 'lst' 'lst' 'lst' 'lst'\n",
      " 'lst' 'lst' 'lst' 'lst' 'lst' 'lst' 'lst' 'lst' 'lst' 'lst' 'lst' 'lst'\n",
      " 'lst' 'lst' 'lst' 'lst' 'lst' 'lst' 'lst' 'lst' 'lst' 'lst' 'lst' 'lst'\n",
      " 'lst' 'lst']' has dtype incompatible with float64, please explicitly cast to a compatible dtype first.\n",
      "C:\\A\\envs\\pyclass\\Lib\\site-packages\\pyemu\\pst\\pst_handler.py:3866: FutureWarning: Setting an item of incompatible dtype is deprecated and will raise in a future error of pandas. Value '['hds001' 'hds001' 'hds001' 'hds001' 'hds001' 'hds001' 'hds001' 'hds001'\n",
      " 'hds001' 'hds001' 'hds001' 'hds001' 'hds001' 'hds001' 'hds001' 'hds001'\n",
      " 'hds001' 'hds001' 'hds001' 'hds001' 'hds001' 'hds001' 'hds001' 'hds001'\n",
      " 'hds001' 'hds001' 'hds001' 'hds001' 'hds001' 'hds001' 'hds001' 'hds001'\n",
      " 'hds001' 'hds001' 'hds001' 'hds001' 'hds001' 'hds001' 'hds001' 'hds001'\n",
      " 'hds001' 'hds001' 'hds001' 'hds001' 'hds001' 'hds001' 'hds001' 'hds001'\n",
      " 'hds001' 'hds001' 'hds001' 'hds001' 'hds001' 'hds001' 'hds001' 'hds001'\n",
      " 'hds001' 'hds001' 'hds001' 'hds001' 'hds001' 'hds001' 'hds001' 'hds001'\n",
      " 'hds001' 'hds001' 'hds001' 'hds001' 'hds001' 'hds001' 'hds001' 'hds001'\n",
      " 'hds001' 'hds001' 'hds001' 'hds001' 'hds001' 'hds001' 'hds001' 'hds001'\n",
      " 'hds001' 'hds001' 'hds001' 'hds001' 'hds001' 'hds001' 'hds001' 'hds001'\n",
      " 'hds001' 'hds001' 'hds001' 'hds001' 'hds001' 'hds001' 'hds001' 'hds001'\n",
      " 'hds001' 'hds001' 'hds001' 'hds001' 'hds001' 'hds001' 'hds001' 'hds001'\n",
      " 'hds001' 'hds001' 'hds001' 'hds001' 'hds001' 'hds001' 'hds001' 'hds001'\n",
      " 'hds001' 'hds001' 'hds001' 'hds001' 'hds001' 'hds001' 'hds001' 'hds001'\n",
      " 'hds001' 'hds001' 'hds001' 'hds001' 'hds001' 'hds001' 'hds001' 'hds001'\n",
      " 'hds001' 'hds001' 'hds001' 'hds001' 'hds001' 'hds001' 'hds001' 'hds001'\n",
      " 'hds001' 'hds001' 'hds001' 'hds001' 'hds001' 'hds001' 'hds001' 'hds001'\n",
      " 'hds001' 'hds001' 'hds001' 'hds001' 'hds001' 'hds001' 'hds001' 'hds001'\n",
      " 'hds001' 'hds001' 'hds001' 'hds001' 'hds001' 'hds001' 'hds001' 'hds001'\n",
      " 'hds001' 'hds001' 'hds001' 'hds001' 'hds001' 'hds001' 'hds001' 'hds001'\n",
      " 'hds001' 'hds001' 'hds001' 'hds001' 'hds001' 'hds001' 'hds001' 'hds001'\n",
      " 'hds001' 'hds001' 'hds001' 'hds001' 'hds001' 'hds001' 'hds001' 'hds001'\n",
      " 'hds001' 'hds001' 'hds001' 'hds001' 'hds001' 'hds001' 'hds001' 'hds001'\n",
      " 'hds001' 'hds001' 'hds001' 'hds001' 'hds001' 'hds001' 'hds001' 'hds001'\n",
      " 'hds001' 'hds001' 'hds001' 'hds001' 'hds001' 'hds001' 'hds001' 'hds001'\n",
      " 'hds001' 'hds001' 'hds001' 'hds001' 'hds001' 'hds001' 'hds001' 'hds001'\n",
      " 'hds001' 'hds001' 'hds001' 'hds001' 'hds001' 'hds001' 'hds001' 'hds001'\n",
      " 'hds001' 'hds001' 'hds001' 'hds001' 'hds001' 'hds001' 'hds001' 'hds001'\n",
      " 'hds001' 'hds001' 'hds001' 'hds001' 'hds001' 'hds001' 'hds001' 'hds001'\n",
      " 'hds001' 'hds001' 'hds001' 'hds001' 'hds001' 'hds001' 'hds001' 'hds001'\n",
      " 'hds001' 'hds001' 'hds001' 'hds001' 'hds001' 'hds001' 'hds001' 'hds001'\n",
      " 'hds001' 'hds001' 'hds001' 'hds001' 'hds001' 'hds001' 'hds001' 'hds001'\n",
      " 'hds001' 'hds001' 'hds001' 'hds001' 'hds001' 'hds001' 'hds001' 'hds001'\n",
      " 'hds001' 'hds001' 'hds001' 'hds001' 'hds001' 'hds001' 'hds001' 'hds001'\n",
      " 'hds001' 'hds001' 'hds001' 'hds001' 'hds001' 'hds001' 'hds001' 'hds001'\n",
      " 'hds001' 'hds001' 'hds001' 'hds001' 'hds001' 'hds001' 'hds001' 'hds001'\n",
      " 'hds001' 'hds001' 'hds001' 'hds001' 'hds001' 'hds001' 'hds001' 'hds001'\n",
      " 'hds001' 'hds001' 'hds001' 'hds001' 'hds001' 'hds001' 'hds001' 'hds001'\n",
      " 'hds001' 'hds001' 'hds001' 'hds001' 'hds001' 'hds001' 'hds001' 'hds001'\n",
      " 'hds001' 'hds001' 'hds001' 'hds001' 'hds001' 'hds001' 'hds001' 'hds001'\n",
      " 'hds001' 'hds001' 'hds001' 'hds001' 'hds001' 'hds001' 'hds001' 'hds001'\n",
      " 'hds001' 'hds001' 'hds001' 'hds001' 'hds001' 'hds001' 'hds001' 'hds001'\n",
      " 'hds001' 'hds001' 'hds001' 'hds001' 'hds001' 'hds001' 'hds001' 'hds001'\n",
      " 'hds001' 'hds001' 'hds001' 'hds001' 'hds001' 'hds001' 'hds001' 'hds001'\n",
      " 'hds001' 'hds001' 'hds001' 'hds001' 'hds001' 'hds001' 'hds001' 'hds001'\n",
      " 'hds001' 'hds001' 'hds001' 'hds001' 'hds001' 'hds001' 'hds001' 'hds001'\n",
      " 'hds001' 'hds001' 'hds001' 'hds001' 'hds001' 'hds001' 'hds001' 'hds001'\n",
      " 'hds001' 'hds001']' has dtype incompatible with float64, please explicitly cast to a compatible dtype first.\n",
      "C:\\A\\envs\\pyclass\\Lib\\site-packages\\pyemu\\pst\\pst_handler.py:3866: FutureWarning: Setting an item of incompatible dtype is deprecated and will raise in a future error of pandas. Value '['1.0' '100.7605413847' '104.5309323339' '109.0554014729' '11.08589276419'\n",
      " '114.4847644398' '121.0' '122.8788920947' '125.1335626083'\n",
      " '127.8391672246' '131.0858927642' '134.9819634117' '139.6572481887'\n",
      " '14.98196341169' '145.2675899211' '152.0' '153.8182826723'\n",
      " '156.000221879' '158.618548927' '161.7605413847' '165.5309323339'\n",
      " '170.0554014729' '175.4847644398' '182.0' '183.8788920947'\n",
      " '186.1335626083' '188.8391672246' '19.6572481887' '192.0858927642'\n",
      " '195.9819634117' '2.878892094669' '200.6572481887' '206.2675899211'\n",
      " '213.0' '214.8788920947' '217.1335626083' '219.8391672246'\n",
      " '223.0858927642' '226.9819634117' '231.6572481887' '237.2675899211'\n",
      " '244.0' '245.8182826723' '248.000221879' '25.26758992111' '250.618548927'\n",
      " '253.7605413847' '257.5309323339' '262.0554014729' '267.4847644398'\n",
      " '274.0' '275.8788920947' '278.1335626083' '280.8391672246'\n",
      " '284.0858927642' '287.9819634117' '292.6572481887' '298.2675899211'\n",
      " '305.0' '306.8182826723' '309.000221879' '311.618548927' '314.7605413847'\n",
      " '318.5309323339' '32.0' '323.0554014729' '328.4847644398'\n",
      " '33.69706382744' '335.0' '336.8788920947' '339.1335626083'\n",
      " '341.8391672246' '345.0858927642' '348.9819634117' '35.73354042038'\n",
      " '353.6572481887' '359.2675899211' '366.0' '367.8788920947'\n",
      " '370.1335626083' '372.8391672246' '376.0858927642' '379.9819634117'\n",
      " '38.17731233189' '384.6572481887' '390.2675899211' '397.0'\n",
      " '398.6970638274' '400.7335404204' '403.1773123319' '406.1098386257'\n",
      " '409.6288701783' '41.10983862572' '413.8517080414' '418.9191134771'\n",
      " '425.0' '426.8788920947' '429.1335626083' '431.8391672246'\n",
      " '435.0858927642' '438.9819634117' '44.6288701783' '443.6572481887'\n",
      " '449.2675899211' '456.0' '457.8182826723' '460.000221879' '462.618548927'\n",
      " '465.7605413847' '469.5309323339' '474.0554014729' '479.4847644398'\n",
      " '48.85170804141' '486.0' '487.8788920947' '490.1335626083'\n",
      " '492.8391672246' '496.0858927642' '499.9819634117' '5.133562608273'\n",
      " '504.6572481887' '510.2675899211' '517.0' '518.8182826723'\n",
      " '521.000221879' '523.618548927' '526.7605413847' '53.91911347713'\n",
      " '530.5309323339' '535.0554014729' '540.4847644398' '547.0'\n",
      " '548.8788920947' '551.1335626083' '553.8391672246' '557.0858927642'\n",
      " '560.9819634117' '565.6572481887' '571.2675899211' '578.0'\n",
      " '579.8788920947' '582.1335626083' '584.8391672246' '588.0858927642'\n",
      " '591.9819634117' '596.6572481887' '60.0' '602.2675899211' '609.0'\n",
      " '61.87889209467' '610.8182826723' '613.000221879' '615.618548927'\n",
      " '618.7605413847' '622.5309323339' '627.0554014729' '632.4847644398'\n",
      " '639.0' '64.13356260827' '640.8788920947' '643.1335626083'\n",
      " '645.8391672246' '649.0858927642' '652.9819634117' '657.6572481887'\n",
      " '66.8391672246' '663.2675899211' '670.0' '671.8182826723' '674.000221879'\n",
      " '676.618548927' '679.7605413847' '683.5309323339' '688.0554014729'\n",
      " '693.4847644398' '7.839167224597' '70.08589276419' '700.0'\n",
      " '701.8788920947' '704.1335626083' '706.8391672246' '710.0858927642'\n",
      " '713.9819634117' '718.6572481887' '724.2675899211' '73.98196341169'\n",
      " '731.0' '78.6572481887' '84.26758992111' '91.0' '92.81828267226'\n",
      " '95.00022187897' '97.61854892703' '1.0' '100.7605413847' '104.5309323339'\n",
      " '109.0554014729' '11.08589276419' '114.4847644398' '121.0'\n",
      " '122.8788920947' '125.1335626083' '127.8391672246' '131.0858927642'\n",
      " '134.9819634117' '139.6572481887' '14.98196341169' '145.2675899211'\n",
      " '152.0' '153.8182826723' '156.000221879' '158.618548927' '161.7605413847'\n",
      " '165.5309323339' '170.0554014729' '175.4847644398' '182.0'\n",
      " '183.8788920947' '186.1335626083' '188.8391672246' '19.6572481887'\n",
      " '192.0858927642' '195.9819634117' '2.878892094669' '200.6572481887'\n",
      " '206.2675899211' '213.0' '214.8788920947' '217.1335626083'\n",
      " '219.8391672246' '223.0858927642' '226.9819634117' '231.6572481887'\n",
      " '237.2675899211' '244.0' '245.8182826723' '248.000221879'\n",
      " '25.26758992111' '250.618548927' '253.7605413847' '257.5309323339'\n",
      " '262.0554014729' '267.4847644398' '274.0' '275.8788920947'\n",
      " '278.1335626083' '280.8391672246' '284.0858927642' '287.9819634117'\n",
      " '292.6572481887' '298.2675899211' '305.0' '306.8182826723'\n",
      " '309.000221879' '311.618548927' '314.7605413847' '318.5309323339' '32.0'\n",
      " '323.0554014729' '328.4847644398' '33.69706382744' '335.0'\n",
      " '336.8788920947' '339.1335626083' '341.8391672246' '345.0858927642'\n",
      " '348.9819634117' '35.73354042038' '353.6572481887' '359.2675899211'\n",
      " '366.0' '367.8788920947' '370.1335626083' '372.8391672246'\n",
      " '376.0858927642' '379.9819634117' '38.17731233189' '384.6572481887'\n",
      " '390.2675899211' '397.0' '398.6970638274' '400.7335404204'\n",
      " '403.1773123319' '406.1098386257' '409.6288701783' '41.10983862572'\n",
      " '413.8517080414' '418.9191134771' '425.0' '426.8788920947'\n",
      " '429.1335626083' '431.8391672246' '435.0858927642' '438.9819634117'\n",
      " '44.6288701783' '443.6572481887' '449.2675899211' '456.0'\n",
      " '457.8182826723' '460.000221879' '462.618548927' '465.7605413847'\n",
      " '469.5309323339' '474.0554014729' '479.4847644398' '48.85170804141'\n",
      " '486.0' '487.8788920947' '490.1335626083' '492.8391672246'\n",
      " '496.0858927642' '499.9819634117' '5.133562608273' '504.6572481887'\n",
      " '510.2675899211' '517.0' '518.8182826723' '521.000221879' '523.618548927'\n",
      " '526.7605413847' '53.91911347713' '530.5309323339' '535.0554014729'\n",
      " '540.4847644398' '547.0' '548.8788920947' '551.1335626083'\n",
      " '553.8391672246' '557.0858927642' '560.9819634117' '565.6572481887'\n",
      " '571.2675899211' '578.0' '579.8788920947' '582.1335626083'\n",
      " '584.8391672246' '588.0858927642' '591.9819634117' '596.6572481887'\n",
      " '60.0' '602.2675899211' '609.0' '61.87889209467' '610.8182826723'\n",
      " '613.000221879' '615.618548927' '618.7605413847' '622.5309323339'\n",
      " '627.0554014729' '632.4847644398' '639.0' '64.13356260827'\n",
      " '640.8788920947' '643.1335626083' '645.8391672246' '649.0858927642'\n",
      " '652.9819634117' '657.6572481887' '66.8391672246' '663.2675899211'\n",
      " '670.0' '671.8182826723' '674.000221879' '676.618548927' '679.7605413847'\n",
      " '683.5309323339' '688.0554014729' '693.4847644398' '7.839167224597'\n",
      " '70.08589276419' '700.0' '701.8788920947' '704.1335626083'\n",
      " '706.8391672246' '710.0858927642' '713.9819634117' '718.6572481887'\n",
      " '724.2675899211' '73.98196341169' '731.0' '78.6572481887'\n",
      " '84.26758992111' '91.0' '92.81828267226' '95.00022187897'\n",
      " '97.61854892703']' has dtype incompatible with float64, please explicitly cast to a compatible dtype first.\n"
     ]
    }
   ],
   "source": [
    "pst = pf.build_pst(os.path.join(pst_dir, \"mumodel.pst\"), version=2)"
   ]
  },
  {
   "cell_type": "markdown",
   "metadata": {},
   "source": [
    "#### since we modified the observation data frame created by pyemu, I think we have to assign it to the observation_data attribute of the pest object that pyemu created "
   ]
  },
  {
   "cell_type": "code",
   "execution_count": 25,
   "metadata": {},
   "outputs": [],
   "source": [
    "pst.observation_data = hds_df"
   ]
  },
  {
   "cell_type": "markdown",
   "metadata": {},
   "source": [
    "#### define noptmax = 0 to just run the model a single time"
   ]
  },
  {
   "cell_type": "code",
   "execution_count": 26,
   "metadata": {},
   "outputs": [
    {
     "name": "stdout",
     "output_type": "stream",
     "text": [
      "noptmax:0, npar_adj:411, nnz_obs:192\n"
     ]
    }
   ],
   "source": [
    "# write pst control file\n",
    "pst.control_data.noptmax = 0\n",
    "pst.pestpp_options[\"additional_ins_delimiters\"] = \",\"\n",
    "pst.write(os.path.join(pst_dir, \"mumodel.pst\"), version=2)"
   ]
  },
  {
   "cell_type": "markdown",
   "metadata": {},
   "source": [
    "#### pick a size for our parameter ensemble (bigger=better, until you run out of cores and/or time)"
   ]
  },
  {
   "cell_type": "code",
   "execution_count": 27,
   "metadata": {},
   "outputs": [],
   "source": [
    "ies_num_reals=200"
   ]
  },
  {
   "cell_type": "markdown",
   "metadata": {},
   "source": [
    "#### draw the realizations for the prior parameter ensemble. Each model realization gets assigned parameter values pulled randomly from a multivariate distribution"
   ]
  },
  {
   "cell_type": "code",
   "execution_count": 28,
   "metadata": {},
   "outputs": [
    {
     "name": "stdout",
     "output_type": "stream",
     "text": [
      "drawing 200 realization from prior parameter distribution\n",
      "2024-03-30 16:06:12.378055 starting: drawing realizations\n",
      "2024-03-30 16:06:12.384160 starting: spectral simulation for grid-scale pars\n",
      "SpecSim.initialize() summary: full_delx X full_dely: 37 X 37\n",
      "2024-03-30 16:06:12.429583 starting: SpecSim: drawing 200 realization for group npf_gr with 189 pars, (log) variance 0.01006878425438406 (sill 0.01006878425438406)\n",
      "SpecSim.initialize() summary: full_delx X full_dely: 37 X 37\n",
      "2024-03-30 16:06:12.488996 finished: SpecSim: drawing 200 realization for group npf_gr with 189 pars, (log) variance 0.01006878425438406 (sill 0.01006878425438406) took: 0:00:00.059413\n",
      "2024-03-30 16:06:12.488996 starting: SpecSim: drawing 200 realization for group sto_gr with 189 pars, (log) variance 0.01006878425438406 (sill 0.01006878425438406)\n",
      "SpecSim.initialize() summary: full_delx X full_dely: 37 X 37\n",
      "2024-03-30 16:06:12.540261 finished: SpecSim: drawing 200 realization for group sto_gr with 189 pars, (log) variance 0.01006878425438406 (sill 0.01006878425438406) took: 0:00:00.051265\n",
      "SpecSim.initialize() summary: full_delx X full_dely: 37 X 37\n",
      "2024-03-30 16:06:12.540815 finished: spectral simulation for grid-scale pars took: 0:00:00.156655\n",
      "2024-03-30 16:06:12.540815 starting: Drawing 33 non-specsim pars\n",
      "building diagonal cov\n",
      "processing  name:struct1,nugget:0.0,structures:\n",
      "name:var1,contribution:1.0,a:2000.0,anisotropy:1.0,bearing:0.0\n",
      "\n",
      "working on pargroups ['npf_pp']\n",
      "build cov matrix\n",
      "done\n",
      "getting diag var cov 10\n",
      "scaling full cov by diag var cov\n",
      "working on pargroups ['sto_pp']\n",
      "build cov matrix\n",
      "done\n",
      "getting diag var cov 10\n",
      "scaling full cov by diag var cov\n",
      "working on pargroups ['rch_pp']\n",
      "build cov matrix\n",
      "done\n",
      "getting diag var cov 10\n",
      "scaling full cov by diag var cov\n",
      "processing  name:struct1,nugget:0.0,structures:\n",
      "name:var1,contribution:1.0,a:500.0,anisotropy:1.0,bearing:0.0\n",
      "\n",
      "adding remaining parameters to diagonal\n",
      "2024-03-30 16:06:12.678947 finished: Drawing 33 non-specsim pars took: 0:00:00.138132\n",
      "2024-03-30 16:06:12.678947 starting: Joining specsim and non-specsim pars\n",
      "2024-03-30 16:06:12.678947 finished: Joining specsim and non-specsim pars took: 0:00:00\n",
      "2024-03-30 16:06:12.678947 finished: drawing realizations took: 0:00:00.300892\n"
     ]
    }
   ],
   "source": [
    "# draw prior\n",
    "print(\"drawing {0} realization from prior parameter distribution\".format(ies_num_reals))\n",
    "pe = pf.draw(ies_num_reals, use_specsim=True)\n",
    "pe.to_binary(os.path.join(pst_dir, \"prior.jcb\"))"
   ]
  },
  {
   "cell_type": "code",
   "execution_count": 29,
   "metadata": {},
   "outputs": [],
   "source": [
    "pst.pestpp_options[\"ies_par_en\"] = \"prior.jcb\"\n",
    "pst.pestpp_options[\"ies_num_reals\"] = ies_num_reals"
   ]
  },
  {
   "cell_type": "markdown",
   "metadata": {},
   "source": [
    "#### copy the pest executable into our template directory"
   ]
  },
  {
   "cell_type": "code",
   "execution_count": 30,
   "metadata": {},
   "outputs": [
    {
     "data": {
      "text/plain": [
       "'data\\\\mumodel_pst\\\\pestpp-ies.exe'"
      ]
     },
     "execution_count": 30,
     "metadata": {},
     "output_type": "execute_result"
    }
   ],
   "source": [
    "shutil.copy2(os.path.join(\"bin\", \"pestpp-ies.exe\"), os.path.join(pst_dir, \"pestpp-ies.exe\"))"
   ]
  },
  {
   "cell_type": "markdown",
   "metadata": {},
   "source": [
    "#### run the model through pest a single time to make sure the plumbing is connected"
   ]
  },
  {
   "cell_type": "code",
   "execution_count": 31,
   "metadata": {},
   "outputs": [],
   "source": [
    "pyemu.os_utils.run(\"pestpp-ies mumodel.pst\", cwd=pst_dir)"
   ]
  },
  {
   "cell_type": "markdown",
   "metadata": {},
   "source": [
    "## increase noptmax (or set to -1 to just run a sweep of the model realizations drawn from our prior parameter distribution)"
   ]
  },
  {
   "cell_type": "code",
   "execution_count": 32,
   "metadata": {},
   "outputs": [
    {
     "name": "stdout",
     "output_type": "stream",
     "text": [
      "noptmax:2, npar_adj:411, nnz_obs:192\n"
     ]
    }
   ],
   "source": [
    "# write pst control file\n",
    "pst.control_data.noptmax = 2\n",
    "pst.write(os.path.join(pst_dir, \"mumodel.pst\"), version=2)"
   ]
  },
  {
   "cell_type": "code",
   "execution_count": 37,
   "metadata": {},
   "outputs": [],
   "source": [
    "master_dir = os.path.join(\"data\", \"master_pst\")"
   ]
  },
  {
   "cell_type": "markdown",
   "metadata": {},
   "source": [
    "#### select number of workers to run in parallel (rule of thumb, try half the number of total logical processors in task manager)"
   ]
  },
  {
   "cell_type": "code",
   "execution_count": 38,
   "metadata": {},
   "outputs": [],
   "source": [
    "num_workers=8"
   ]
  },
  {
   "cell_type": "code",
   "execution_count": 33,
   "metadata": {},
   "outputs": [],
   "source": [
    "pyemu.os_utils.start_workers(pst_dir, \"pestpp-ies.exe\", \"mumodel.pst\", num_workers=num_workers, worker_root=\".\", master_dir=master_dir)"
   ]
  },
  {
   "cell_type": "markdown",
   "metadata": {},
   "source": [
    "## let's investigate the ensemble output"
   ]
  },
  {
   "cell_type": "markdown",
   "metadata": {},
   "source": [
    "#### load the observation_data object to find and relate certain obs from our output"
   ]
  },
  {
   "cell_type": "code",
   "execution_count": 34,
   "metadata": {},
   "outputs": [],
   "source": [
    "obs = pst.observation_data"
   ]
  },
  {
   "cell_type": "code",
   "execution_count": 35,
   "metadata": {},
   "outputs": [],
   "source": [
    "obs.loc[:, \"datetime\"] = pd.to_datetime(obs.loc[:, \"datetime\"])"
   ]
  },
  {
   "cell_type": "code",
   "execution_count": 36,
   "metadata": {},
   "outputs": [],
   "source": [
    "obs.sort_values([\"obgnme\", \"datetime\"], inplace=True)"
   ]
  },
  {
   "cell_type": "markdown",
   "metadata": {},
   "source": [
    "#### load the ensemble results. for the prior and for each upgrade iteration, there is a dataframe of N REALIZATION rows and N OBSERVATIONS columns"
   ]
  },
  {
   "cell_type": "code",
   "execution_count": 39,
   "metadata": {},
   "outputs": [],
   "source": [
    "oe = {}\n",
    "for n in [0, 1, 2]:\n",
    "    oe[n] = pd.read_csv(os.path.join(master_dir, \"mumodel.{0}.obs.csv\".format(n)), index_col=0)"
   ]
  },
  {
   "cell_type": "code",
   "execution_count": 42,
   "metadata": {},
   "outputs": [
    {
     "data": {
      "image/png": "[encoded data removed]",
      "text/plain": [
       "<Figure size 1100x500 with 1 Axes>"
      ]
     },
     "metadata": {},
     "output_type": "display_data"
    },
    {
     "data": {
      "image/png": "[encoded data removed]",
      "text/plain": [
       "<Figure size 1100x500 with 1 Axes>"
      ]
     },
     "metadata": {},
     "output_type": "display_data"
    }
   ],
   "source": [
    "for i, g in pst.observation_data.groupby(\"obgnme\"):\n",
    "    f, ax = plt.subplots(1,1,figsize=(11,5), dpi=100)\n",
    "    \n",
    "    for n, clr in zip([0, 1, 2], [\"0.5\", \"b\", \"r\"]):\n",
    "        for ii, rr in oe[n].iterrows():\n",
    "            ax.plot(g.datetime, oe[n].loc[ii, g.obsnme], lw=0.25, c=clr, alpha=0.3)\n",
    "\n",
    "    nz = g.loc[g[\"weight\"]>0.]\n",
    "    ax.scatter(nz[\"datetime\"], nz[\"obsval\"], marker=\"+\", c=\"k\", s=40, zorder=10)\n",
    "    \n",
    "    zw = g.loc[g[\"weight\"]==0.]\n",
    "    ax.scatter(zw[\"datetime\"], zw[\"obsval\"], marker=\"o\", facecolor=\"None\", edgecolor=\"k\", s=20, zorder=10)"
   ]
  },
  {
   "cell_type": "markdown",
   "metadata": {},
   "source": [
    "#### lets look at how parameter distributions changed from prior to posterior"
   ]
  },
  {
   "cell_type": "code",
   "execution_count": 45,
   "metadata": {},
   "outputs": [],
   "source": [
    "pe = {}\n",
    "for n in [0, 1, 2]:\n",
    "    pe[n] = pd.read_csv(os.path.join(master_dir, \"mumodel.{0}.par.csv\".format(n)), index_col=0)"
   ]
  },
  {
   "cell_type": "code",
   "execution_count": 46,
   "metadata": {},
   "outputs": [],
   "source": [
    "par = pst.parameter_data"
   ]
  },
  {
   "cell_type": "code",
   "execution_count": 47,
   "metadata": {},
   "outputs": [
    {
     "data": {
      "text/plain": [
       "array(['npf_cn', 'npf_pp', 'npf_gr', 'sto_cn', 'sto_pp', 'sto_gr',\n",
       "       'rch_cn', 'rch_pp'], dtype=object)"
      ]
     },
     "execution_count": 47,
     "metadata": {},
     "output_type": "execute_result"
    }
   ],
   "source": [
    "par.pargp.unique()"
   ]
  },
  {
   "cell_type": "code",
   "execution_count": 48,
   "metadata": {},
   "outputs": [
    {
     "data": {
      "image/png": "[encoded data removed]",
      "text/plain": [
       "<Figure size 800x800 with 1 Axes>"
      ]
     },
     "metadata": {},
     "output_type": "display_data"
    },
    {
     "data": {
      "image/png": "[encoded data removed]",
      "text/plain": [
       "<Figure size 800x800 with 1 Axes>"
      ]
     },
     "metadata": {},
     "output_type": "display_data"
    },
    {
     "data": {
      "image/png": "[encoded data removed]",
      "text/plain": [
       "<Figure size 800x800 with 1 Axes>"
      ]
     },
     "metadata": {},
     "output_type": "display_data"
    },
    {
     "data": {
      "image/png": "[encoded data removed]",
      "text/plain": [
       "<Figure size 800x800 with 1 Axes>"
      ]
     },
     "metadata": {},
     "output_type": "display_data"
    },
    {
     "data": {
      "image/png": "[encoded data removed]",
      "text/plain": [
       "<Figure size 800x800 with 1 Axes>"
      ]
     },
     "metadata": {},
     "output_type": "display_data"
    },
    {
     "data": {
      "image/png": "[encoded data removed]",
      "text/plain": [
       "<Figure size 800x800 with 1 Axes>"
      ]
     },
     "metadata": {},
     "output_type": "display_data"
    },
    {
     "data": {
      "image/png": "[encoded data removed]",
      "text/plain": [
       "<Figure size 800x800 with 1 Axes>"
      ]
     },
     "metadata": {},
     "output_type": "display_data"
    },
    {
     "data": {
      "image/png": "[encoded data removed]",
      "text/plain": [
       "<Figure size 800x800 with 1 Axes>"
      ]
     },
     "metadata": {},
     "output_type": "display_data"
    }
   ],
   "source": [
    "#for ix in par.loc[par[\"ptype\"]==\"cn\"].index:\n",
    "for i, g in par.groupby(\"pargp\"):\n",
    "    ix = g.parnme.values\n",
    "    f, ax = plt.subplots(1,1,figsize=(8,8), dpi=100)\n",
    "\n",
    "    for n, clr in zip([0, 1, 2], [\"0.5\", \"b\", \"r\"]):\n",
    "        data = np.log10(pe[n].loc[:, ix].values.ravel())\n",
    "        ax.hist(data, lw=0.25, facecolor=clr, alpha=0.3, bins=np.linspace(-0.5, 0.5, 21))\n",
    "    ax.set_title(i)"
   ]
  },
  {
   "cell_type": "markdown",
   "metadata": {},
   "source": [
    "#### PYEMU has built in plotting functions do to the above and much more"
   ]
  },
  {
   "cell_type": "code",
   "execution_count": null,
   "metadata": {},
   "outputs": [],
   "source": []
  },
  {
   "cell_type": "code",
   "execution_count": 59,
   "metadata": {},
   "outputs": [],
   "source": [
    "pe_pr = pyemu.ParameterEnsemble.from_csv(pst=pst, filename=os.path.join(master_dir, \"mumodel.0.par.csv\"))"
   ]
  },
  {
   "cell_type": "code",
   "execution_count": 61,
   "metadata": {},
   "outputs": [
    {
     "ename": "AttributeError",
     "evalue": "'numpy.ndarray' object has no attribute 'values'",
     "output_type": "error",
     "traceback": [
      "\u001b[1;31m---------------------------------------------------------------------------\u001b[0m",
      "\u001b[1;31mAttributeError\u001b[0m                            Traceback (most recent call last)",
      "Cell \u001b[1;32mIn[61], line 1\u001b[0m\n\u001b[1;32m----> 1\u001b[0m \u001b[43mlog_pe_pr\u001b[49m\u001b[38;5;241;43m.\u001b[39;49m\u001b[43mvalues\u001b[49m \u001b[38;5;241m=\u001b[39m np\u001b[38;5;241m.\u001b[39mlog10(pe_pr\u001b[38;5;241m.\u001b[39mvalues)\n",
      "\u001b[1;31mAttributeError\u001b[0m: 'numpy.ndarray' object has no attribute 'values'"
     ]
    }
   ],
   "source": [
    "log_pe_pr.values = np.log10(pe_pr.values)"
   ]
  },
  {
   "cell_type": "code",
   "execution_count": 52,
   "metadata": {},
   "outputs": [],
   "source": [
    "pe_pt1 = pyemu.ParameterEnsemble.from_csv(pst=pst, filename=os.path.join(master_dir, \"mumodel.1.par.csv\"))\n",
    "log_pe_pt1 = np.log10(pe_pt1)"
   ]
  },
  {
   "cell_type": "code",
   "execution_count": 53,
   "metadata": {},
   "outputs": [],
   "source": [
    "pe_pt2 = pyemu.ParameterEnsemble.from_csv(pst=pst, filename=os.path.join(master_dir, \"mumodel.2.par.csv\"))\n",
    "log_pe_pt2 = np.log10(pe_pt2)"
   ]
  },
  {
   "cell_type": "code",
   "execution_count": 56,
   "metadata": {},
   "outputs": [
    {
     "data": {
      "text/plain": [
       "array([[-0.12133232, -0.13460936, -0.04632921, ..., -0.00711658,\n",
       "        -0.01243249, -0.00443983],\n",
       "       [-0.01562888, -0.00323404, -0.05039534, ..., -0.03133963,\n",
       "        -0.03121362, -0.00669694],\n",
       "       [ 0.00128794, -0.0454912 ,  0.10147899, ...,  0.03877907,\n",
       "        -0.03973762, -0.002197  ],\n",
       "       ...,\n",
       "       [-0.09459813, -0.03246326, -0.07309498, ..., -0.01460002,\n",
       "        -0.01261576,  0.01638977],\n",
       "       [ 0.00253754,  0.12842512,  0.05848296, ..., -0.0209586 ,\n",
       "         0.03599775,  0.0029734 ],\n",
       "       [ 0.        ,  0.        ,  0.        , ...,  0.        ,\n",
       "         0.        ,  0.        ]])"
      ]
     },
     "execution_count": 56,
     "metadata": {},
     "output_type": "execute_result"
    }
   ],
   "source": [
    "log_pe_pr"
   ]
  },
  {
   "cell_type": "code",
   "execution_count": 54,
   "metadata": {},
   "outputs": [],
   "source": [
    "pdict = par.groupby(\"pargp\").groups"
   ]
  },
  {
   "cell_type": "code",
   "execution_count": 55,
   "metadata": {},
   "outputs": [
    {
     "name": "stdout",
     "output_type": "stream",
     "text": [
      "plotting 8 pargp histograms\n",
      "2024-03-30 16:31:29.565831 ERROR: unrecognized ensemble list arg:[[-0.12133232 -0.13460936 -0.04632921 ... -0.00711658 -0.01243249\n",
      "  -0.00443983]\n",
      " [-0.01562888 -0.00323404 -0.05039534 ... -0.03133963 -0.03121362\n",
      "  -0.00669694]\n",
      " [ 0.00128794 -0.0454912   0.10147899 ...  0.03877907 -0.03973762\n",
      "  -0.002197  ]\n",
      " ...\n",
      " [-0.09459813 -0.03246326 -0.07309498 ... -0.01460002 -0.01261576\n",
      "   0.01638977]\n",
      " [ 0.00253754  0.12842512  0.05848296 ... -0.0209586   0.03599775\n",
      "   0.0029734 ]\n",
      " [ 0.          0.          0.         ...  0.          0.\n",
      "   0.        ]]\n"
     ]
    },
    {
     "ename": "Exception",
     "evalue": "unrecognized ensemble list arg:[[-0.12133232 -0.13460936 -0.04632921 ... -0.00711658 -0.01243249\n  -0.00443983]\n [-0.01562888 -0.00323404 -0.05039534 ... -0.03133963 -0.03121362\n  -0.00669694]\n [ 0.00128794 -0.0454912   0.10147899 ...  0.03877907 -0.03973762\n  -0.002197  ]\n ...\n [-0.09459813 -0.03246326 -0.07309498 ... -0.01460002 -0.01261576\n   0.01638977]\n [ 0.00253754  0.12842512  0.05848296 ... -0.0209586   0.03599775\n   0.0029734 ]\n [ 0.          0.          0.         ...  0.          0.\n   0.        ]]",
     "output_type": "error",
     "traceback": [
      "\u001b[1;31m---------------------------------------------------------------------------\u001b[0m",
      "\u001b[1;31mException\u001b[0m                                 Traceback (most recent call last)",
      "Cell \u001b[1;32mIn[55], line 2\u001b[0m\n\u001b[0;32m      1\u001b[0m \u001b[38;5;28mprint\u001b[39m(\u001b[38;5;124m\"\u001b[39m\u001b[38;5;124mplotting \u001b[39m\u001b[38;5;132;01m{0}\u001b[39;00m\u001b[38;5;124m pargp histograms\u001b[39m\u001b[38;5;124m\"\u001b[39m\u001b[38;5;241m.\u001b[39mformat(\u001b[38;5;28mlen\u001b[39m(pdict\u001b[38;5;241m.\u001b[39mkeys())))\n\u001b[1;32m----> 2\u001b[0m \u001b[43mpyemu\u001b[49m\u001b[38;5;241;43m.\u001b[39;49m\u001b[43mplot_utils\u001b[49m\u001b[38;5;241;43m.\u001b[39;49m\u001b[43mensemble_helper\u001b[49m\u001b[43m(\u001b[49m\u001b[43m{\u001b[49m\u001b[38;5;124;43m\"\u001b[39;49m\u001b[38;5;124;43m0.5\u001b[39;49m\u001b[38;5;124;43m\"\u001b[39;49m\u001b[43m:\u001b[49m\u001b[43m \u001b[49m\u001b[43mlog_pe_pr\u001b[49m\u001b[43m,\u001b[49m\u001b[43m \u001b[49m\u001b[38;5;124;43m\"\u001b[39;49m\u001b[38;5;124;43mb\u001b[39;49m\u001b[38;5;124;43m\"\u001b[39;49m\u001b[43m:\u001b[49m\u001b[43m \u001b[49m\u001b[43mlog_pe_pt1\u001b[49m\u001b[43m,\u001b[49m\u001b[43m \u001b[49m\u001b[38;5;124;43m\"\u001b[39;49m\u001b[38;5;124;43mr\u001b[39;49m\u001b[38;5;124;43m\"\u001b[39;49m\u001b[43m:\u001b[49m\u001b[43m \u001b[49m\u001b[43mlog_pe_pt2\u001b[49m\u001b[43m}\u001b[49m\u001b[43m,\u001b[49m\n\u001b[0;32m      3\u001b[0m \u001b[43m                                 \u001b[49m\u001b[43mplot_cols\u001b[49m\u001b[38;5;241;43m=\u001b[39;49m\u001b[43mpdict\u001b[49m\u001b[43m,\u001b[49m\u001b[43m \u001b[49m\u001b[43mfilename\u001b[49m\u001b[38;5;241;43m=\u001b[39;49m\u001b[43mos\u001b[49m\u001b[38;5;241;43m.\u001b[39;49m\u001b[43mpath\u001b[49m\u001b[38;5;241;43m.\u001b[39;49m\u001b[43mjoin\u001b[49m\u001b[43m(\u001b[49m\u001b[43mmaster_dir\u001b[49m\u001b[43m,\u001b[49m\u001b[43m \u001b[49m\u001b[38;5;124;43m\"\u001b[39;49m\u001b[38;5;124;43mmumodel_par_hist_log.pdf\u001b[39;49m\u001b[38;5;124;43m\"\u001b[39;49m\u001b[43m)\u001b[49m\u001b[43m)\u001b[49m\n",
      "File \u001b[1;32mC:\\A\\envs\\pyclass\\Lib\\site-packages\\pyemu\\plot\\plot_utils.py:904\u001b[0m, in \u001b[0;36mensemble_helper\u001b[1;34m(ensemble, bins, facecolor, plot_cols, filename, func_dict, sync_bins, deter_vals, std_window, deter_range, **kwargs)\u001b[0m\n\u001b[0;32m    902\u001b[0m logger \u001b[38;5;241m=\u001b[39m pyemu\u001b[38;5;241m.\u001b[39mLogger(\u001b[38;5;124m\"\u001b[39m\u001b[38;5;124mensemble_helper.log\u001b[39m\u001b[38;5;124m\"\u001b[39m)\n\u001b[0;32m    903\u001b[0m logger\u001b[38;5;241m.\u001b[39mlog(\u001b[38;5;124m\"\u001b[39m\u001b[38;5;124mpyemu.plot_utils.ensemble_helper()\u001b[39m\u001b[38;5;124m\"\u001b[39m)\n\u001b[1;32m--> 904\u001b[0m ensembles \u001b[38;5;241m=\u001b[39m \u001b[43m_process_ensemble_arg\u001b[49m\u001b[43m(\u001b[49m\u001b[43mensemble\u001b[49m\u001b[43m,\u001b[49m\u001b[43m \u001b[49m\u001b[43mfacecolor\u001b[49m\u001b[43m,\u001b[49m\u001b[43m \u001b[49m\u001b[43mlogger\u001b[49m\u001b[43m)\u001b[49m\n\u001b[0;32m    905\u001b[0m \u001b[38;5;28;01mif\u001b[39;00m \u001b[38;5;28mlen\u001b[39m(ensembles) \u001b[38;5;241m==\u001b[39m \u001b[38;5;241m0\u001b[39m:\n\u001b[0;32m    906\u001b[0m     \u001b[38;5;28;01mraise\u001b[39;00m \u001b[38;5;167;01mException\u001b[39;00m(\u001b[38;5;124m\"\u001b[39m\u001b[38;5;124mplot_uitls.ensemble_helper() error processing `ensemble` arg\u001b[39m\u001b[38;5;124m\"\u001b[39m)\n",
      "File \u001b[1;32mC:\\A\\envs\\pyclass\\Lib\\site-packages\\pyemu\\plot\\plot_utils.py:1340\u001b[0m, in \u001b[0;36m_process_ensemble_arg\u001b[1;34m(ensemble, facecolor, logger)\u001b[0m\n\u001b[0;32m   1338\u001b[0m             ensembles[fc] \u001b[38;5;241m=\u001b[39m en\n\u001b[0;32m   1339\u001b[0m         \u001b[38;5;28;01melse\u001b[39;00m:\n\u001b[1;32m-> 1340\u001b[0m             \u001b[43mlogger\u001b[49m\u001b[38;5;241;43m.\u001b[39;49m\u001b[43mlraise\u001b[49m\u001b[43m(\u001b[49m\u001b[38;5;124;43m\"\u001b[39;49m\u001b[38;5;124;43munrecognized ensemble list arg:\u001b[39;49m\u001b[38;5;132;43;01m{0}\u001b[39;49;00m\u001b[38;5;124;43m\"\u001b[39;49m\u001b[38;5;241;43m.\u001b[39;49m\u001b[43mformat\u001b[49m\u001b[43m(\u001b[49m\u001b[43men_arg\u001b[49m\u001b[43m)\u001b[49m\u001b[43m)\u001b[49m\n\u001b[0;32m   1341\u001b[0m \u001b[38;5;28;01mtry\u001b[39;00m:\n\u001b[0;32m   1342\u001b[0m     \u001b[38;5;28;01mfor\u001b[39;00m fc \u001b[38;5;129;01min\u001b[39;00m ensembles:\n",
      "File \u001b[1;32mC:\\A\\envs\\pyclass\\Lib\\site-packages\\pyemu\\logger.py:115\u001b[0m, in \u001b[0;36mLogger.lraise\u001b[1;34m(self, message)\u001b[0m\n\u001b[0;32m    113\u001b[0m     \u001b[38;5;28mself\u001b[39m\u001b[38;5;241m.\u001b[39mf\u001b[38;5;241m.\u001b[39mflush\n\u001b[0;32m    114\u001b[0m     \u001b[38;5;28mself\u001b[39m\u001b[38;5;241m.\u001b[39mf\u001b[38;5;241m.\u001b[39mclose()\n\u001b[1;32m--> 115\u001b[0m \u001b[38;5;28;01mraise\u001b[39;00m \u001b[38;5;167;01mException\u001b[39;00m(message)\n",
      "\u001b[1;31mException\u001b[0m: unrecognized ensemble list arg:[[-0.12133232 -0.13460936 -0.04632921 ... -0.00711658 -0.01243249\n  -0.00443983]\n [-0.01562888 -0.00323404 -0.05039534 ... -0.03133963 -0.03121362\n  -0.00669694]\n [ 0.00128794 -0.0454912   0.10147899 ...  0.03877907 -0.03973762\n  -0.002197  ]\n ...\n [-0.09459813 -0.03246326 -0.07309498 ... -0.01460002 -0.01261576\n   0.01638977]\n [ 0.00253754  0.12842512  0.05848296 ... -0.0209586   0.03599775\n   0.0029734 ]\n [ 0.          0.          0.         ...  0.          0.\n   0.        ]]"
     ]
    }
   ],
   "source": [
    "print(\"plotting {0} pargp histograms\".format(len(pdict.keys())))\n",
    "pyemu.plot_utils.ensemble_helper({\"0.5\": log_pe_pr, \"b\": log_pe_pt1, \"r\": log_pe_pt2},\n",
    "                                 plot_cols=pdict, filename=os.path.join(master_dir, \"mumodel_par_hist_log.pdf\"))"
   ]
  },
  {
   "cell_type": "code",
   "execution_count": null,
   "metadata": {},
   "outputs": [],
   "source": [
    "print(\"plotting par change summaries from {0}\".format(m_d))\n",
    "pyemu.plot_utils.ensemble_change_summary(pe_pr, pe_pt,\n",
    "    filename=os.path.join(o_d, \"{0}_{1}_par_change.pdf\".format(m_d, noptmax)), pst=pst)"
   ]
  }
 ],
 "metadata": {
  "kernelspec": {
   "display_name": "Python 3 (ipykernel)",
   "language": "python",
   "name": "python3"
  },
  "language_info": {
   "codemirror_mode": {
    "name": "ipython",
    "version": 3
   },
   "file_extension": ".py",
   "mimetype": "text/x-python",
   "name": "python",
   "nbconvert_exporter": "python",
   "pygments_lexer": "ipython3",
   "version": "3.11.7"
  }
 },
 "nbformat": 4,
 "nbformat_minor": 4
}
